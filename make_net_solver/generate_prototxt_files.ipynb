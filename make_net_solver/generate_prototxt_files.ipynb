{
 "cells": [
  {
   "cell_type": "code",
   "execution_count": 1,
   "metadata": {
    "collapsed": false,
    "deletable": true,
    "editable": true
   },
   "outputs": [
    {
     "name": "stdout",
     "output_type": "stream",
     "text": [
      "importing Jupyter notebook from layer_util.ipynb\n",
      "importing Jupyter notebook from make_network.ipynb\n",
      "importing Jupyter notebook from network_architecture.ipynb\n",
      "importing Jupyter notebook from make_solver.ipynb\n"
     ]
    }
   ],
   "source": [
    "\n",
    "\n",
    "import caffe\n",
    "\n",
    "from caffe import layers as L, params as P, to_proto\n",
    "\n",
    "from caffe.proto import caffe_pb2\n",
    "\n",
    "from caffe.coord_map import crop\n",
    "\n",
    "import copy\n",
    "from nbfinder import NotebookFinder\n",
    "import sys\n",
    "sys.meta_path.append(NotebookFinder())\n",
    "from layer_util import *\n",
    "from make_network import make_netcdf_network\n",
    "import numpy as np\n",
    "import h5py\n",
    "from make_solver import make_solver\n",
    "import argparse\n",
    "from os.path import join\n",
    "#from accuracy import BBox_Accuracy"
   ]
  },
  {
   "cell_type": "code",
   "execution_count": 2,
   "metadata": {
    "collapsed": true
   },
   "outputs": [],
   "source": [
    "def get_source_path_from_proto(proto_file,phase=\"TRAIN\"):\n",
    "    with open(proto_file, \"r\") as f:\n",
    "        lines = f.readlines()\n",
    "    for i,line in enumerate(lines):\n",
    "        if \"source: \" in line and phase in lines[i-3]:\n",
    "            source_path = line.split(\"source: \")[-1].replace('\"', \"\").strip(\"\\n\")\n",
    "            break\n",
    "    return source_path\n",
    "            \n",
    "        "
   ]
  },
  {
   "cell_type": "code",
   "execution_count": 3,
   "metadata": {
    "collapsed": true
   },
   "outputs": [],
   "source": [
    "def get_num_examples(prototxt_file,phase=\"TRAIN\", time_stride=1, examples_per_file=8):\n",
    "    source_path = get_source_path_from_proto(prototxt_file)\n",
    "    \n",
    "    with open(source_path, 'r') as f:\n",
    "        num_examples = len(f.readlines()) * (examples_per_file / time_stride)\n",
    "    return num_examples"
   ]
  },
  {
   "cell_type": "code",
   "execution_count": 4,
   "metadata": {
    "collapsed": false,
    "deletable": true,
    "editable": true
   },
   "outputs": [],
   "source": [
    "def make_train(cl_args):\n",
    "    tr_netspec, val_netspec = make_netcdf_network(batch_size=cl_args[\"tr_batch_size\"],\n",
    "                                                      data_path=cl_args[\"data_dir\"],\n",
    "                                                      modes=cl_args[\"mode\"], \n",
    "                                                      filters_scale=cl_args[\"filters_scale\"], copies=cl_args[\"copies\"] )\n",
    "\n",
    "    if val_netspec:\n",
    "        ns = [val_netspec,tr_netspec ]\n",
    "    else:\n",
    "        ns = [tr_netspec]\n",
    "    tr_net_filepath = write_to_file(ns, filename=cl_args[\"train_proto_name\"], basepath=cl_args[\"proto_basepath\"])\n",
    "\n",
    "#     val_netspec = make_netcdf_network(batch_size=cl_args[\"val_batch_size\"],data_path=cl_args[\"data_dir\"], mode=\"val\" ,filters_scale=cl_args[\"filters_scale\"])\n",
    "#     val_net_filepath = write_to_file(val_netspec, filename=cl_args[\"val_proto_name\"], basepath=cl_args[\"proto_basepath\"] )"
   ]
  },
  {
   "cell_type": "code",
   "execution_count": 5,
   "metadata": {
    "collapsed": true
   },
   "outputs": [],
   "source": [
    "def make_deploy(cl_args):\n",
    "    pass"
   ]
  },
  {
   "cell_type": "code",
   "execution_count": 9,
   "metadata": {
    "collapsed": true,
    "deletable": true,
    "editable": true
   },
   "outputs": [],
   "source": [
    "def create_solver(cl_args):\n",
    "    \n",
    "    tr_net_path = join(cl_args[\"proto_basepath\"], cl_args[\"train_proto_name\"] ) \n",
    "    num_tr = get_num_examples(tr_net_path, phase=\"TRAIN\")\n",
    "    \n",
    "    num_val = get_num_examples(tr_net_path, phase=\"TEST\")\n",
    "    \n",
    "    spstr,solver_filename = make_solver(net_path=cl_args[\"proto_basepath\"],\n",
    "                                        base_lr=cl_args[\"lr\"],\n",
    "                                        solver_name = cl_args[\"solver_name\"],\n",
    "                                        train_file_name=cl_args[\"train_proto_name\"],\n",
    "                                        #test_net_path=tr_net_path, \n",
    "                                        tr_num_examples=num_tr, \n",
    "                                        test_num_examples=num_val,snapshot_path=cl_args[\"snapshot_path\"],\n",
    "                                        tr_batch_size=cl_args[\"tr_batch_size\"], \n",
    "                                        test_batch_size=cl_args[\"val_batch_size\"], snapshot_frequency=cl_args[\"snapshot_frequency\"],\n",
    "                                        print_every_iteration=num_tr)\n",
    "    return solver_filename"
   ]
  },
  {
   "cell_type": "code",
   "execution_count": 11,
   "metadata": {
    "collapsed": false,
    "deletable": true,
    "editable": true
   },
   "outputs": [],
   "source": [
    "if __name__ == \"__main__\":\n",
    "    cl_args = {\"lr\": 0.00001,\n",
    "           \"num_epochs\": 20, \n",
    "           \"filters_scale\": 1./8,\n",
    "           \"data_dir\": \"/project/projectdirs/dasrepo/gordon_bell/deep_learning/networks/climate/2d_semi_sup/extremely_small_dataset/\", \n",
    "           #\"save_dir\": \"/global/homes/r/racah/projects/climate-caffe/2d_semi_sup/notebooks/plots\",\n",
    "           \"tr_batch_size\":32,\n",
    "           \"val_batch_size\":64,\n",
    "           \"proto_basepath\":\"/global/homes/r/racah/projects/climate-caffe/2d_semi_sup/notebooks/proto_files/\",\n",
    "           \"train_proto_name\":\"trval_foo.prototxt\",\n",
    "#             \"val_proto_name\": \"val_foo.prototxt\",\n",
    "            \"solver_name\":\"solver_foo\"}\n",
    "    \n",
    "    make_train(cl_args)\n",
    "    solver_path = create_solver(cl_args)\n",
    "    solver = caffe.SGDSolver(solver_path)\n",
    "    solver.step(1)\n",
    "   \n",
    "    "
   ]
  },
  {
   "cell_type": "code",
   "execution_count": 16,
   "metadata": {
    "collapsed": true,
    "deletable": true,
    "editable": true
   },
   "outputs": [],
   "source": []
  }
 ],
 "metadata": {
  "anaconda-cloud": {},
  "kernelspec": {
   "display_name": "Python [default]",
   "language": "python",
   "name": "python2"
  },
  "language_info": {
   "codemirror_mode": {
    "name": "ipython",
    "version": 2
   },
   "file_extension": ".py",
   "mimetype": "text/x-python",
   "name": "python",
   "nbconvert_exporter": "python",
   "pygments_lexer": "ipython2",
   "version": "2.7.12"
  }
 },
 "nbformat": 4,
 "nbformat_minor": 1
}
