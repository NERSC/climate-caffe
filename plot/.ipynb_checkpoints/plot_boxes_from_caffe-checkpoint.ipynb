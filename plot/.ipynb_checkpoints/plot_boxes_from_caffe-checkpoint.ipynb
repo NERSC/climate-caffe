{
 "cells": [
  {
   "cell_type": "code",
   "execution_count": 1,
   "metadata": {
    "collapsed": false,
    "deletable": true,
    "editable": true
   },
   "outputs": [
    {
     "name": "stdout",
     "output_type": "stream",
     "text": [
      "importing Jupyter notebook from ../box_processing/extract_output_tensor_from_network.ipynb\n",
      "importing Jupyter notebook from plot.ipynb\n",
      "importing Jupyter notebook from ../box_processing/get_boxes_from_net_output.ipynb\n",
      "importing Jupyter notebook from ../box_processing/convert_between_raw_box_coords_and_scaled_offset_coords.ipynb\n"
     ]
    }
   ],
   "source": [
    "from nbfinder import NotebookFinder\n",
    "import sys\n",
    "sys.meta_path.append(NotebookFinder())\n",
    "sys.path.append(\"..\")\n",
    "from box_processing.extract_output_tensor_from_network import get_net_output\n",
    "import caffe\n",
    "import numpy as np\n",
    "from plot import plot_boxes\n",
    "from box_processing.get_boxes_from_net_output import get_all_pred_boxes, get_all_gt_boxes\n",
    "import os\n",
    "from os.path import join"
   ]
  },
  {
   "cell_type": "code",
   "execution_count": null,
   "metadata": {
    "collapsed": false,
    "deletable": true,
    "editable": true
   },
   "outputs": [],
   "source": [
    "base_snap = \"/global/cscratch1/sd/imit/gbruns/climate/BEST_CLIMATE_LONG/snapshot/BEST_CLIMATE_LONG/\"\n",
    "base_path = \"/project/projectdirs/dasrepo/gordon_bell/deep_learning/networks/climate/2d_semi_sup/\"\n",
    "base_snap = \"/global/cscratch1/sd/imit/gbruns/climate/TWEAKED_BEST_RUN/snapshot/TWEAKED_BEST_RUN/lr_1e-05_mu_0.9_step_20000_step-fac_0.99988478_clip_10000.0_decay_5e-05_rand_1_group_0_iter_20.caffemodel\"\n",
    "cl_args = {\"path_to_caffemodel\":base_snap,\n",
    "            \"path_to_caffe_prototxt\":join(base_path,\n",
    "                                          \"base_prototxt_files/deploy_vanilla_train.prototxt\")}\n",
    "\n",
    "os.environ[\"HDF5_DISABLE_VERSION_CHECK\"] = \"1\"\n",
    "\n",
    "Net = caffe.Net(cl_args[\"path_to_caffe_prototxt\"],\n",
    "                cl_args[\"path_to_caffemodel\"], \n",
    "                caffe.TEST)"
   ]
  },
  {
   "cell_type": "code",
   "execution_count": null,
   "metadata": {
    "collapsed": false,
    "deletable": true,
    "editable": true
   },
   "outputs": [],
   "source": [
    "for file_ind in range(19):\n",
    "    output=Net.forward()\n",
    "\n",
    "    label = np.float32(Net.blobs[\"label\"].data)\n",
    "    net_output = get_net_output(Net)\n",
    "\n",
    "    boxes_pred = get_all_pred_boxes(net_output)\n",
    "    boxes_gt = get_all_gt_boxes(label)\n",
    "\n",
    "    for ex_ind in range(0, net_output.shape[0], 2):\n",
    "\n",
    "        box_pred = boxes_pred[ex_ind]\n",
    "        print box_pred\n",
    "        box_gt = [box for box in boxes_gt[ex_ind] if box[4] > 0]\n",
    "        im = np.float32(Net.blobs[\"data\"].data)[ex_ind, 6]\n",
    "        box_pred_c = [box for box in box_pred if 1 - box[4] > 0.9]\n",
    "        plot_boxes(im,box_pred_c,box_gt)\n",
    "\n",
    "\n",
    "    "
   ]
  },
  {
   "cell_type": "code",
   "execution_count": null,
   "metadata": {
    "collapsed": true,
    "deletable": true,
    "editable": true
   },
   "outputs": [],
   "source": []
  }
 ],
 "metadata": {
  "kernelspec": {
   "display_name": "Python 2",
   "language": "python",
   "name": "python2"
  },
  "language_info": {
   "codemirror_mode": {
    "name": "ipython",
    "version": 2
   },
   "file_extension": ".py",
   "mimetype": "text/x-python",
   "name": "python",
   "nbconvert_exporter": "python",
   "pygments_lexer": "ipython2",
   "version": "2.7.13"
  }
 },
 "nbformat": 4,
 "nbformat_minor": 2
}
