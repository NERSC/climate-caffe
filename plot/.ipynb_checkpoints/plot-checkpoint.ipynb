{
 "cells": [
  {
   "cell_type": "code",
   "execution_count": 1,
   "metadata": {
    "collapsed": true,
    "deletable": true,
    "editable": true
   },
   "outputs": [],
   "source": [
    "from nbfinder import NotebookFinder\n",
    "import sys\n",
    "sys.meta_path.append(NotebookFinder())\n",
    "sys.path.append(\"..\")\n",
    "import numpy as np\n",
    "from matplotlib import patches\n",
    "from matplotlib import pyplot as plt\n",
    "%matplotlib inline\n",
    "\n",
    "from os.path import join\n",
    "import os\n",
    "classes = [\"TD\", \"TC\", \"ETC\", \"AR\"]\n",
    "def plot_boxes(im,box_list_pred, box_list_gt):\n",
    "    \n",
    "    plt.figure(figsize=(10,10))\n",
    "    \n",
    "    sp = plt.subplot(111)\n",
    "    sp.imshow(im)\n",
    "    \n",
    "    for box in box_list_gt:\n",
    "        add_bbox(sp, box, color=\"g\")\n",
    "    \n",
    "    for box in box_list_pred:\n",
    "        add_bbox(sp, box, color=\"r\")\n",
    "    plt.show()\n",
    "    \n",
    "\n",
    "def add_bbox(subplot, bbox, color):\n",
    "        '''expects xcent,w,h boxes'''\n",
    "        xcent,ycent,w,h = bbox[:4]\n",
    "        xmin = xcent - w / 2.\n",
    "        ymin = ycent - h / 2.\n",
    "        cls = int(bbox[-1])\n",
    "        \n",
    "        #flip x and y because matplotlib expects the vertical dimension to be x?\n",
    "        #also xy is xmin,ymin -> top left corner\n",
    "        subplot.add_patch(patches.Rectangle(xy=(ymin, xmin),\n",
    "                                            width=h,\n",
    "                                            height=w,\n",
    "                                            lw=2,\n",
    "                                            fill=False,\n",
    "                                            color=color))\n",
    "        \n",
    "        subplot.text(ymin+1,xmin,classes[cls], fontdict={\"color\":color })"
   ]
  },
  {
   "cell_type": "code",
   "execution_count": null,
   "metadata": {
    "collapsed": true,
    "deletable": true,
    "editable": true
   },
   "outputs": [],
   "source": []
  }
 ],
 "metadata": {
  "kernelspec": {
   "display_name": "deeplearning",
   "language": "python",
   "name": "deeplearning"
  },
  "language_info": {
   "codemirror_mode": {
    "name": "ipython",
    "version": 2
   },
   "file_extension": ".py",
   "mimetype": "text/x-python",
   "name": "python",
   "nbconvert_exporter": "python",
   "pygments_lexer": "ipython2",
   "version": "2.7.12"
  }
 },
 "nbformat": 4,
 "nbformat_minor": 2
}
