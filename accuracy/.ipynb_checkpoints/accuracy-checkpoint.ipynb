{
 "cells": [
  {
   "cell_type": "code",
   "execution_count": 1,
   "metadata": {
    "collapsed": true,
    "deletable": true,
    "editable": true
   },
   "outputs": [],
   "source": [
    "from nbfinder import NotebookFinder\n",
    "import sys\n",
    "sys.meta_path.append(NotebookFinder())\n",
    "import numpy as np\n",
    "sys.path.append(\"..\")"
   ]
  },
  {
   "cell_type": "code",
   "execution_count": 6,
   "metadata": {
    "collapsed": false,
    "deletable": true,
    "editable": true
   },
   "outputs": [
    {
     "name": "stdout",
     "output_type": "stream",
     "text": [
      "importing Jupyter notebook from compute_score.ipynb\n"
     ]
    }
   ],
   "source": [
    "from sklearn.metrics import average_precision_score,precision_recall_curve\n",
    "import matplotlib.pyplot as plt\n",
    "from compute_score import calc_true_and_false_positives_for_an_example\n",
    "from box_processing.get_boxes_from_net_output import get_all_pred_boxes, get_all_gt_boxes"
   ]
  },
  {
   "cell_type": "code",
   "execution_count": 3,
   "metadata": {
    "collapsed": false,
    "deletable": true,
    "editable": true
   },
   "outputs": [],
   "source": [
    "classes = [\"TD\", \"TC\", \"ETC\", \"AR\"]\n",
    "class BBox_Accuracy(object):\n",
    "    def __init__(self, num_classes=4, iou_thresh=0.5, reverse_conf=False, use_pascal_voc=False):\n",
    "        self.use_pascal_voc = use_pascal_voc\n",
    "        self.iou_thresh = iou_thresh\n",
    "        self.num_classes = num_classes\n",
    "        self.reverse_conf = reverse_conf\n",
    "        self.y_score ={cls:[] for cls in range(num_classes)}\n",
    "        self.y_true = {cls:[] for cls in range(num_classes)}\n",
    "        \n",
    "    def update_scores(self,net_output, label):\n",
    "        self._compute_score(net_output, label)\n",
    "\n",
    "    def _compute_score(self,net_output, label):\n",
    "        pred_boxes = get_all_pred_boxes(net_output)\n",
    "        gt_boxes = get_all_gt_boxes(label)\n",
    "        for ex_ind in range(net_output.shape[0]):\n",
    "            for cls in range(self.num_classes):\n",
    "                y_true, y_score = calc_true_and_false_positives_for_an_example(pred_boxes[ex_ind],\n",
    "                                                                                 gt_boxes[ex_ind],\n",
    "                                                                                 cls,\n",
    "                                                                                 self.iou_thresh, reverse_conf=self.reverse_conf)\n",
    "                self.y_score[cls].extend(y_score)\n",
    "                self.y_true[cls].extend(y_true)\n",
    "\n",
    "\n",
    "    def compute_final_accuracy(self):\n",
    "        APs = self.compute_final_APs()\n",
    "        mAP = self.compute_mAP(APs)\n",
    "        return mAP\n",
    "\n",
    "\n",
    "    def compute_mAP(self,APs):\n",
    "        filtered_aps = [ap for ap in APs.values() if ap>=0.0]\n",
    "        if len(filtered_aps) > 0:\n",
    "            return np.mean(filtered_aps)\n",
    "        else:\n",
    "            return 0.0\n",
    "\n",
    "    def compute_final_APs(self):\n",
    "        APs = {}\n",
    "        for cls in self.y_score.keys():\n",
    "            scores = self.y_score[cls]\n",
    "            trues = self.y_true[cls]\n",
    "            if len(self.y_score[cls]) > 0:\n",
    "                if np.any(scores):\n",
    "                    \n",
    "                    ap = compute_average_precision(trues, scores,use_pascal_voc=self.use_pascal_voc)\n",
    "                    if not np.isnan(ap):\n",
    "                        APs[cls] = ap\n",
    "                    else:\n",
    "                        APs[cls] = 0.0\n",
    "                    \n",
    "                else:\n",
    "                    APs[cls] = -1\n",
    "                \n",
    "            else:\n",
    "                APs[cls] = -1\n",
    "            \n",
    "            print \"Score for cls %s is %8.4f\" % (classes[cls], APs[cls])\n",
    "        return APs\n",
    "\n",
    "    "
   ]
  },
  {
   "cell_type": "code",
   "execution_count": 35,
   "metadata": {
    "collapsed": false
   },
   "outputs": [],
   "source": [
    "def compute_average_precision(trues, scores, use_pascal_voc=False):\n",
    "    if use_pascal_voc:\n",
    "        raise NotImplementedError\n",
    "        \n",
    "        \n",
    "    \n",
    "    else:\n",
    "        ap =  average_precision_score(trues, scores)\n",
    "    return ap\n",
    "        "
   ]
  },
  {
   "cell_type": "code",
   "execution_count": null,
   "metadata": {
    "collapsed": false,
    "deletable": true,
    "editable": true
   },
   "outputs": [],
   "source": [
    "#! jupyter nbconvert --to script accuracy.ipynb"
   ]
  },
  {
   "cell_type": "code",
   "execution_count": null,
   "metadata": {
    "collapsed": true,
    "deletable": true,
    "editable": true
   },
   "outputs": [],
   "source": [
    "#! cp accuracy.py /project/projectdirs/dasrepo/gordon_bell/deep_learning/networks/climate/2d_semi_sup"
   ]
  },
  {
   "cell_type": "code",
   "execution_count": null,
   "metadata": {
    "collapsed": true,
    "deletable": true,
    "editable": true
   },
   "outputs": [],
   "source": []
  },
  {
   "cell_type": "code",
   "execution_count": null,
   "metadata": {
    "collapsed": true,
    "deletable": true,
    "editable": true
   },
   "outputs": [],
   "source": []
  }
 ],
 "metadata": {
  "anaconda-cloud": {},
  "kernelspec": {
   "display_name": "Python 2",
   "language": "python",
   "name": "python2"
  },
  "language_info": {
   "codemirror_mode": {
    "name": "ipython",
    "version": 2
   },
   "file_extension": ".py",
   "mimetype": "text/x-python",
   "name": "python",
   "nbconvert_exporter": "python",
   "pygments_lexer": "ipython2",
   "version": "2.7.13"
  }
 },
 "nbformat": 4,
 "nbformat_minor": 1
}
