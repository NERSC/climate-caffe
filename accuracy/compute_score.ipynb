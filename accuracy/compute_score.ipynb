{
 "cells": [
  {
   "cell_type": "code",
   "execution_count": 3,
   "metadata": {
    "collapsed": false,
    "deletable": true,
    "editable": true
   },
   "outputs": [
    {
     "name": "stdout",
     "output_type": "stream",
     "text": [
      "importing Jupyter notebook from ../box_processing/get_iou.ipynb\n",
      "importing Jupyter notebook from ../box_processing/convert_between_xy_minmax_xy_center_boxes.ipynb\n"
     ]
    }
   ],
   "source": [
    "from nbfinder import NotebookFinder\n",
    "import sys\n",
    "sys.meta_path.append(NotebookFinder())\n",
    "sys.path.append(\"..\")\n",
    "import numpy as np\n",
    "from box_processing.get_iou import get_iou\n",
    "\n",
    "def get_boxes_of_class(boxes, cls):\n",
    "    cls_ind = 5\n",
    "    boxes = [box for box in boxes if box[cls_ind] == cls]\n",
    "    return boxes\n",
    "\n",
    "def reverse_confidences(boxes,confidence_index=4):\n",
    "    for ind, box in enumerate(boxes):\n",
    "        boxes[ind][confidence_index] = 1 -  box[confidence_index]\n",
    "    return boxes\n",
    "        \n",
    "def sort_boxes_by_confidence(boxes, confidence_index=4):\n",
    "    boxes = [box for box in boxes if box[confidence_index] > 0.0]\n",
    "    boxes.sort(lambda a,b: -1 if a[confidence_index] > b[confidence_index] else 1)\n",
    "    return boxes\n",
    "\n",
    "def calc_true_and_false_positives_for_an_example(box_pred, box_gt, cls, iou_thresh, reverse_conf=False):    \n",
    "    #box_pred and box_gt are lists \n",
    "    #filter for class\n",
    "\n",
    "    box_pred = get_boxes_of_class(box_pred, cls)\n",
    "    box_gt = get_boxes_of_class(box_gt, cls)\n",
    "\n",
    "    if reverse_conf:\n",
    "        box_pred = reverse_confidences(box_pred)\n",
    "        \n",
    "    #sort by confidence\n",
    "    confidence_index = 4\n",
    "    box_pred = sort_boxes_by_confidence(box_pred, confidence_index=confidence_index)\n",
    "\n",
    "    #boolean array for whether gt box has been matched yet\n",
    "    num_gt_boxes = len(box_gt)\n",
    "    gt_box_picked_yet = np.zeros(num_gt_boxes)\n",
    "\n",
    "    y_true = []\n",
    "    y_score = []\n",
    "\n",
    "    #for each box with highest confidence first, \n",
    "    #find the first gt_box\n",
    "    for box_ind, box_p in enumerate(box_pred):\n",
    "        conf = box_p[confidence_index]\n",
    "        found_match = False\n",
    "        for gt_box_ind, box_g in enumerate(box_gt):\n",
    "            iou = get_iou(box_p, box_g)\n",
    "            \n",
    "#             if iou > 0:\n",
    "#                 print box_p, box_g, iou, iou_thresh,gt_box_picked_yet[gt_box_ind] \n",
    "            \n",
    "            \n",
    "            # if gt box not matched and iou is big enough -> true positive\n",
    "            # and break out of inner loop\n",
    "            \n",
    "            if iou >= iou_thresh and not gt_box_picked_yet[gt_box_ind]:\n",
    "                #true postive! -> add confidence to y_score list\n",
    "                y_score.append(conf)\n",
    "                y_true.append(1.)\n",
    "                gt_box_picked_yet[gt_box_ind] = 1.\n",
    "                found_match = True\n",
    "                \n",
    "                #stop looking. go to next box\n",
    "                break\n",
    "                \n",
    "            # if not keep looking\n",
    "            else:\n",
    "                continue\n",
    "        \n",
    "        # if inner loop finished and still haven't found a gt box to match to\n",
    "        # then we are a false positive\n",
    "        if not found_match:\n",
    "            y_score.append(conf)\n",
    "            y_true.append(0.)\n",
    "\n",
    "    return y_true, y_score   "
   ]
  },
  {
   "cell_type": "code",
   "execution_count": 3,
   "metadata": {
    "collapsed": false,
    "deletable": true,
    "editable": true
   },
   "outputs": [
    {
     "name": "stdout",
     "output_type": "stream",
     "text": [
      "[NbConvertApp] Converting notebook compute_score.ipynb to script\n",
      "[NbConvertApp] Writing 3739 bytes to compute_score.py\n"
     ]
    }
   ],
   "source": [
    "\n",
    "#! jupyter nbconvert --to script compute_score.ipynb"
   ]
  }
 ],
 "metadata": {
  "kernelspec": {
   "display_name": "Python 2",
   "language": "python",
   "name": "python2"
  },
  "language_info": {
   "codemirror_mode": {
    "name": "ipython",
    "version": 2
   },
   "file_extension": ".py",
   "mimetype": "text/x-python",
   "name": "python",
   "nbconvert_exporter": "python",
   "pygments_lexer": "ipython2",
   "version": "2.7.13"
  }
 },
 "nbformat": 4,
 "nbformat_minor": 2
}
