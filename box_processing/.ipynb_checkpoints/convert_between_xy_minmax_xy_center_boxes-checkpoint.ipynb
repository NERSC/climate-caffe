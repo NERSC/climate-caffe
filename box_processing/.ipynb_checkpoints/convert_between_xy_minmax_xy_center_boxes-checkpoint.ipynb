{
 "cells": [
  {
   "cell_type": "code",
   "execution_count": 1,
   "metadata": {
    "collapsed": true,
    "deletable": true,
    "editable": true
   },
   "outputs": [],
   "source": [
    "from nbfinder import NotebookFinder\n",
    "import sys\n",
    "sys.meta_path.append(NotebookFinder())\n",
    "import numpy as np"
   ]
  },
  {
   "cell_type": "code",
   "execution_count": 5,
   "metadata": {
    "collapsed": false,
    "deletable": true,
    "editable": true
   },
   "outputs": [],
   "source": [
    "def convert_xy_center_wh_boxes_to_xy_min_max_boxes(xy_center_wh_boxes, xmax_val=768, ymax_val=768):\n",
    "    '''takes list of boxes (each box is a list with x,y,w,h as first 4 and anything you want as rest of list) in xywh format\n",
    "    and returns list in xmin,xmax,ymin,ymax format'''\n",
    "    xy_min_max_boxes = []\n",
    "    assert type(xy_center_wh_boxes) is list and len(xy_center_wh_boxes) > 0 and type(xy_center_wh_boxes[0]) is list, \"can't help you here, input must be list of nonempty lists\"\n",
    "    \n",
    "    for box in xy_center_wh_boxes:\n",
    "        x_center,y_center,w,h = box[:4]\n",
    "        rest = box[4:]\n",
    "        xmin, xmax, ymin, ymax = _convert_xy_center_wh_box_to_xy_min_max_box(x_center,y_center,w,h, xmax_val, ymax_val)\n",
    "\n",
    "        #keeps rest of item\n",
    "        new_box = [xmin,xmax,ymin,ymax] + rest\n",
    "        \n",
    "        xy_min_max_boxes.append(new_box)\n",
    "        \n",
    "    return xy_min_max_boxes\n",
    "\n",
    "def _convert_xy_center_wh_box_to_xy_min_max_box(x_center,y_center,w, h, xmax_val, ymax_val):\n",
    "    xmin_val, ymin_val = 0,0\n",
    "    xmin = max(xmin_val, x_center - w / 2.)\n",
    "    xmax = min(xmax_val, x_center + w / 2.)\n",
    "    ymin = max(ymin_val, y_center - h / 2.)\n",
    "    ymax = min(ymax_val, y_center + h / 2.)\n",
    "    return xmin, xmax, ymin, ymax\n",
    "        \n",
    "\n",
    "def convert_xy_min_max_boxes_to_xy_center_wh_boxes(xy_min_max_boxes):\n",
    "    '''takes list of boxes in xmin,xmax,ymin,ymax format\n",
    "    and returns list in xywh  format'''\n",
    "    xy_center_wh_boxes = []\n",
    "    assert type(xy_min_max_boxes) is list and len(xy_min_max_boxes) > 0 and type(xy_min_max_boxes[0]) is list, \"can't help you here, input must be list of nonempty lists\"\n",
    "    \n",
    "    for box in xy_min_max_boxes:\n",
    "        xmin, xmax, ymin, ymax = box[:4]\n",
    "        rest = box[4:]\n",
    "        x_center, y_center, w, h = _convert_xy_min_max_to_xy_center_wh(xmin, xmax, ymin, ymax)\n",
    "        \n",
    "        new_box = [x_center, y_center, w, h] + rest\n",
    "        xy_center_wh_boxes.append(new_box)\n",
    "        \n",
    "    return xy_center_wh_boxes\n",
    "    \n",
    "def _convert_xy_min_max_to_xy_center_wh(xmin, xmax, ymin, ymax):\n",
    "    '''takes list of boxes in xmin,xmax,ymin,ymax format\n",
    "    and returns list in xywh  format'''\n",
    "    w = xmax - xmin\n",
    "    h = ymax - ymin\n",
    "    x_center = xmin + w / 2.\n",
    "    y_center = ymin + h / 2.\n",
    "    return x_center, y_center, w, h\n",
    "\n"
   ]
  },
  {
   "cell_type": "code",
   "execution_count": 6,
   "metadata": {
    "collapsed": false,
    "deletable": true,
    "editable": true
   },
   "outputs": [
    {
     "ename": "AssertionError",
     "evalue": "",
     "output_type": "error",
     "traceback": [
      "\u001b[0;31m---------------------------------------------------------------------------\u001b[0m",
      "\u001b[0;31mAssertionError\u001b[0m                            Traceback (most recent call last)",
      "\u001b[0;32m<ipython-input-6-0402a746cfe2>\u001b[0m in \u001b[0;36m<module>\u001b[0;34m()\u001b[0m\n\u001b[1;32m      6\u001b[0m \u001b[0;34m\u001b[0m\u001b[0m\n\u001b[1;32m      7\u001b[0m     \u001b[0mxymm_guess\u001b[0m \u001b[0;34m=\u001b[0m \u001b[0mconvert_xy_center_wh_boxes_to_xy_min_max_boxes\u001b[0m\u001b[0;34m(\u001b[0m\u001b[0mxywh\u001b[0m\u001b[0;34m)\u001b[0m\u001b[0;34m\u001b[0m\u001b[0m\n\u001b[0;32m----> 8\u001b[0;31m     \u001b[0;32massert\u001b[0m \u001b[0mnp\u001b[0m\u001b[0;34m.\u001b[0m\u001b[0mallclose\u001b[0m\u001b[0;34m(\u001b[0m\u001b[0mxymm_guess\u001b[0m\u001b[0;34m,\u001b[0m\u001b[0mxyminmax\u001b[0m\u001b[0;34m)\u001b[0m\u001b[0;34m\u001b[0m\u001b[0m\n\u001b[0m\u001b[1;32m      9\u001b[0m     \u001b[0;32mprint\u001b[0m \u001b[0mxymm_guess\u001b[0m\u001b[0;34m,\u001b[0m\u001b[0mxyminmax\u001b[0m\u001b[0;34m\u001b[0m\u001b[0m\n\u001b[1;32m     10\u001b[0m \u001b[0;34m\u001b[0m\u001b[0m\n",
      "\u001b[0;31mAssertionError\u001b[0m: "
     ]
    }
   ],
   "source": [
    "if __name__ == \"__main__\":\n",
    "\n",
    "    xywh = [[50,50, 32,32], [100,200, 50, 70],[2.5,4.5,5,5],[4.5,2.5,3,3]]\n",
    "    xyminmax = [[34,66, 34,66],[75,125,165,235],[0, 5.0, 2.0, 7.0],[3.0, 6.0, 1.0, 4.0]]\n",
    "    \n",
    "\n",
    "    xymm_guess = convert_xy_center_wh_boxes_to_xy_min_max_boxes(xywh)\n",
    "    assert np.allclose(xymm_guess,xyminmax)\n",
    "    print xymm_guess,xyminmax\n",
    "    \n",
    "    xywh_guess = convert_xy_min_max_boxes_to_xy_center_wh_boxes(xyminmax)\n",
    "    assert np.allclose(xywh_guess, xywh)\n",
    "    print xywh_guess, xywh\n",
    "    \n",
    "#     convert_xy_center_wh_boxes_to_xy_min_max_boxes([])\n",
    "#     convert_xy_min_max_boxes_to_xy_center_wh_boxes([])\n",
    "#     convert_xy_center_wh_boxes_to_xy_min_max_boxes(6)\n",
    "#     convert_xy_min_max_boxes_to_xy_center_wh_boxes(4)\n",
    "    "
   ]
  },
  {
   "cell_type": "code",
   "execution_count": null,
   "metadata": {
    "collapsed": true,
    "deletable": true,
    "editable": true
   },
   "outputs": [],
   "source": []
  }
 ],
 "metadata": {
  "kernelspec": {
   "display_name": "Python 2",
   "language": "python",
   "name": "python2"
  },
  "language_info": {
   "codemirror_mode": {
    "name": "ipython",
    "version": 2
   },
   "file_extension": ".py",
   "mimetype": "text/x-python",
   "name": "python",
   "nbconvert_exporter": "python",
   "pygments_lexer": "ipython2",
   "version": "2.7.13"
  }
 },
 "nbformat": 4,
 "nbformat_minor": 2
}
