{
 "cells": [
  {
   "cell_type": "code",
   "execution_count": 1,
   "metadata": {
    "collapsed": true,
    "deletable": true,
    "editable": true
   },
   "outputs": [],
   "source": [
    "import numpy as np\n",
    "from nbfinder import NotebookFinder\n",
    "import sys\n",
    "sys.meta_path.append(NotebookFinder())"
   ]
  },
  {
   "cell_type": "code",
   "execution_count": null,
   "metadata": {
    "collapsed": true,
    "deletable": true,
    "editable": true
   },
   "outputs": [],
   "source": [
    "def convert_xy_offset_wh_scaled_box_to_xy_center_wh_box(xy_offset_wh_scaled_box,\n",
    "                                                        xind, yind, scale_factor=32):\n",
    "    xoff,yoff,w_scale, h_scale = xy_offset_wh_scaled_box\n",
    "    x_center,y_center = scale_factor*(xind + xoff), scale_factor *(yind + yoff)\n",
    "\n",
    "    w,h = 2.**w_scale * scale_factor, 2.**h_scale * scale_factor\n",
    "\n",
    "    return [x_center,y_center,w,h]\n",
    "\n",
    "\n",
    "\n",
    "def convert_xy_min_max_box_to_xy_offset_wh_scaled_box_with_inds(xy_min_max_box, scale_factor=32):\n",
    "    xmin, xmax, ymin, ymax = xy_min_max_box[:4]\n",
    "    x_center, y_center, w, h = _convert_xy_min_max_to_xy_center_wh(xmin, xmax, ymin, ymax)\n",
    "    corner_inds, offset_scaled_box = convert_xy_center_wh_box_to_xy_offset_wh_scaled_box_with_inds(xy_center_wh_box, scale_factor=scale_factor )\n",
    "    return corner_inds, offset_scaled_box\n",
    "    \n",
    "    \n",
    "    \n",
    "def convert_xy_center_wh_box_to_xy_offset_wh_scaled_box_with_inds(xy_center_wh_box, scale_factor=32 ):\n",
    "    x_center, y_center, w, h = xy_center_wh_box[:4]\n",
    "    \n",
    "    x_corner_ind, y_corner_ind, x_offset, y_offset = get_xy_corner_inds_and_offsets(x_center, y_center, scale_factor)\n",
    "    \n",
    "    w_scaled_logged, h_scaled_logged = get_scaled_logged_wh(w, h, scale_factor)\n",
    "    \n",
    "    corner_inds = [x_corner_ind, y_corner_ind]\n",
    "    offset_scaled_box = [x_offset, y_offset,w_scaled_logged, h_scaled_logged ]\n",
    "    \n",
    "    return corner_inds, offset_scaled_box\n",
    "    \n",
    "    \n",
    "\n",
    "def get_xy_corner_inds_and_offsets(x,y, scale_factor):\n",
    "\n",
    "\n",
    "        x_center_scaled, y_center_scaled = x_center / float(scale_factor), y_center / float(scale_factor)\n",
    "\n",
    "        #take the floor of x and y -> which is rounding to nearest bottom left corner\n",
    "        x_nearest_bottom_left_corner, y_nearest_bottom_left_corner = np.floor(x_center_scaled).astype(\"int\"), np.floor(y_center_scaled).astype(\"int\")\n",
    "\n",
    "\n",
    "        x_offset, y_offset = x_center_scaled - x_nearest_bottom_left_corner, y_center_scaled - y_nearest_bottom_left_corner\n",
    "        x_corner_ind, y_corner_ind = x_nearest_bottom_left_corner, y_nearest_bottom_left_corner\n",
    "\n",
    "        return x_corner_ind, y_corner_ind, x_offset, y_offset\n",
    "\n",
    "\n",
    "def get_scaled_logged_wh(w,h,scale_factor):\n",
    "    \n",
    "    \n",
    "    w_scaled, h_scaled = w / float(scale_factor), h / float(scale_factor)\n",
    "    w_scaled_logged, h_scaled_logged = np.log2(w_scaled), np.log2(h_scaled)\n",
    "    \n",
    "    return w_scaled_logged, h_scaled_logged\n",
    "    "
   ]
  },
  {
   "cell_type": "code",
   "execution_count": null,
   "metadata": {
    "collapsed": true
   },
   "outputs": [],
   "source": []
  }
 ],
 "metadata": {
  "kernelspec": {
   "display_name": "Python 2",
   "language": "python",
   "name": "python2"
  },
  "language_info": {
   "codemirror_mode": {
    "name": "ipython",
    "version": 2
   },
   "file_extension": ".py",
   "mimetype": "text/x-python",
   "name": "python",
   "nbconvert_exporter": "python",
   "pygments_lexer": "ipython2",
   "version": "2.7.13"
  }
 },
 "nbformat": 4,
 "nbformat_minor": 2
}
