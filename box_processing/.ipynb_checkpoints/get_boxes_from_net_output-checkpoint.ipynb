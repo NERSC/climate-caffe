{
 "cells": [
  {
   "cell_type": "code",
   "execution_count": null,
   "metadata": {
    "collapsed": true,
    "deletable": true,
    "editable": true
   },
   "outputs": [],
   "source": [
    "from nbfinder import NotebookFinder\n",
    "import sys\n",
    "sys.meta_path.append(NotebookFinder())\n",
    "import numpy as np\n",
    "from convert_between_raw_box_coords_and_scaled_offset_coords import  convert_xy_offset_wh_scaled_box_to_xy_center_wh_box"
   ]
  },
  {
   "cell_type": "code",
   "execution_count": 1,
   "metadata": {
    "collapsed": true,
    "deletable": true,
    "editable": true
   },
   "outputs": [],
   "source": [
    "def get_all_pred_boxes(tensor, typ=\"pred\"):\n",
    "    #returns list of boxes of type [x_center, y_center, w, h, confidence, class]\n",
    "    all_boxes = []\n",
    "    number_examples = tensor.shape[0]\n",
    "    for ex_ind in range(number_examples):\n",
    "        boxes = get_boxes_from_tensor(tensor[ex_ind], typ=typ)\n",
    "        all_boxes.append(boxes)\n",
    "    return all_boxes\n",
    "\n",
    "\n",
    "def get_all_gt_boxes(tensor):\n",
    "    #returns list of boxes of type [x_center, y_center, w, h, confidence, class]\n",
    "    all_boxes = []\n",
    "    number_examples = tensor.shape[0]\n",
    "    for ex_ind in range(number_examples):\n",
    "        boxes = get_boxes_from_tensor(tensor[ex_ind], typ=\"gt\")\n",
    "        all_boxes.append(boxes)\n",
    "    return all_boxes\n",
    "\n",
    "def get_boxes_from_tensor(tensor,typ=\"pred\"):\n",
    "    #tensor is numpy tensor\n",
    "    shape_x, shape_y = tensor.shape[-2], tensor.shape[-1]\n",
    "    boxes = []\n",
    "    confidence_index = 4\n",
    "    for xind in range(shape_x):\n",
    "        for yind in range(shape_y):\n",
    "            vector_at_xy = tensor[:, xind, yind]\n",
    "            box = get_box_from_vector_at_xy(vector_at_xy, xind, yind, typ)\n",
    "            boxes.append(box)\n",
    "\n",
    "    #sort by confidence\n",
    "    boxes.sort(lambda a,b: -1 if a[confidence_index] > b[confidence_index] else 1)        \n",
    "    return boxes\n",
    "\n",
    "def get_box_from_vector_at_xy(vector_at_xy, xind, yind, typ):\n",
    "    confidence_index = 4\n",
    "    xy_offset_wh_scaled_box = vector_at_xy[:4]\n",
    "    xy_center_wh_box = convert_xy_offset_wh_scaled_box_to_xy_center_wh_box(xy_offset_wh_scaled_box,\n",
    "                                                                           xind, yind, scale_factor=32)\n",
    "    xy_center_wh_box = list(xy_center_wh_box)\n",
    "    confidence = vector_at_xy[confidence_index] #true for both gt and pred\n",
    "\n",
    "    if typ == \"pred\":\n",
    "        cls = get_cls_from_pred(vector_at_xy)\n",
    "    elif typ == \"gt\":\n",
    "        cls = get_cls_from_gt(vector_at_xy)\n",
    "    else:\n",
    "        assert False, \"no typ %s\"%(typ)\n",
    "\n",
    "    xy_center_wh_box.extend([confidence,cls])\n",
    "    return xy_center_wh_box\n",
    "    \n",
    "def get_cls_from_gt(gt_vector):\n",
    "    cls_ind = 5\n",
    "    \n",
    "    # cuz classes go from 1 to 4, so we convert to 0 to 3\n",
    "    cls = gt_vector[cls_ind] - 1\n",
    "    return cls\n",
    "\n",
    "def get_cls_from_pred(pred_vector):\n",
    "    cls_start = 6\n",
    "    cls_prob_dist = pred_vector[cls_start:]\n",
    "    \n",
    "    #classes go from 0 to 3\n",
    "    cls = np.argmax(cls_prob_dist)\n",
    "    return cls\n",
    "  "
   ]
  },
  {
   "cell_type": "code",
   "execution_count": 10,
   "metadata": {
    "collapsed": false,
    "deletable": true,
    "editable": true
   },
   "outputs": [
    {
     "name": "stdout",
     "output_type": "stream",
     "text": [
      "[NbConvertApp] Converting notebook unparametrize.ipynb to script\n",
      "[NbConvertApp] Writing 3871 bytes to unparametrize.py\n"
     ]
    }
   ],
   "source": [
    "#! jupyter nbconvert --to script unparametrize.ipynb"
   ]
  }
 ],
 "metadata": {
  "kernelspec": {
   "display_name": "Python 2",
   "language": "python",
   "name": "python2"
  },
  "language_info": {
   "codemirror_mode": {
    "name": "ipython",
    "version": 2
   },
   "file_extension": ".py",
   "mimetype": "text/x-python",
   "name": "python",
   "nbconvert_exporter": "python",
   "pygments_lexer": "ipython2",
   "version": "2.7.13"
  }
 },
 "nbformat": 4,
 "nbformat_minor": 2
}
