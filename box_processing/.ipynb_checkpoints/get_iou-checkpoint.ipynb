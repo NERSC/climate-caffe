{
 "cells": [
  {
   "cell_type": "code",
   "execution_count": 5,
   "metadata": {
    "collapsed": false,
    "deletable": true,
    "editable": true
   },
   "outputs": [
    {
     "name": "stdout",
     "output_type": "stream",
     "text": [
      "importing Jupyter notebook from convert_between_xy_minmax_xy_center_boxes.ipynb\n"
     ]
    }
   ],
   "source": [
    "import numpy as np\n",
    "from nbfinder import NotebookFinder\n",
    "import sys\n",
    "sys.meta_path.append(NotebookFinder())\n",
    "from convert_between_xy_minmax_xy_center_boxes import _convert_xy_center_wh_box_to_xy_min_max_box"
   ]
  },
  {
   "cell_type": "code",
   "execution_count": 6,
   "metadata": {
    "collapsed": true,
    "deletable": true,
    "editable": true
   },
   "outputs": [],
   "source": [
    "def get_iou(box1,box2):\n",
    "        #expects box coords of type x_center, y_center, w, h\n",
    "        x1,y1,w1,h1 = box1[:4]\n",
    "        x2,y2,w2,h2 = box2[:4]\n",
    "        xmin1, xmax1, ymin1, ymax1 = _convert_xy_center_wh_box_to_xy_min_max_box(x1,y1,w1,h1, xmax_val=768, ymax_val=768)\n",
    "        xmin2, xmax2, ymin2, ymax2 = _convert_xy_center_wh_box_to_xy_min_max_box(x2,y2,w2,h2, xmax_val=768, ymax_val=768)\n",
    "\n",
    "        \n",
    "        def get_intersection(xmin1, xmax1, ymin1, ymax1, xmin2, xmax2, ymin2, ymax2 ):\n",
    "            \n",
    "            inters_width = max(0, min(xmax1, xmax2) - max(xmin1,xmin2))\n",
    "            \n",
    "            inters_height = max(0, min(ymax1,ymax2) - max(ymin1,ymin2))\n",
    "            intersection = inters_width * inters_height\n",
    "            if intersection < 0:\n",
    "                print \"intersection < 0, at %8.4f so: \" %(intersection), xmin1, xmax1, ymin1, ymax1, xmin2, xmax2, ymin2, ymax2\n",
    "            return intersection\n",
    "        \n",
    "        intersection = get_intersection(xmin1, xmax1, ymin1, ymax1, xmin2, xmax2, ymin2, ymax2 )\n",
    "                         \n",
    "        def get_area(box_mm):\n",
    "            xmin, xmax, ymin, ymax = box_mm\n",
    "            area = (xmax - xmin) * (ymax - ymin)\n",
    "            return area\n",
    "                         \n",
    "        area1 = get_area((xmin1, xmax1, ymin1, ymax1))\n",
    "        area2 = get_area((xmin2, xmax2, ymin2, ymax2))\n",
    "        union = area1 + area2 - intersection                                                             \n",
    "\n",
    "#         print \" area1: \", area1, \" area2: \", area2, \" intersection: \", intersection, \" union: \", union\n",
    "        iou = intersection / float(union)\n",
    "        return iou"
   ]
  },
  {
   "cell_type": "code",
   "execution_count": null,
   "metadata": {
    "collapsed": true,
    "deletable": true,
    "editable": true
   },
   "outputs": [],
   "source": []
  }
 ],
 "metadata": {
  "kernelspec": {
   "display_name": "Python 2",
   "language": "python",
   "name": "python2"
  },
  "language_info": {
   "codemirror_mode": {
    "name": "ipython",
    "version": 2
   },
   "file_extension": ".py",
   "mimetype": "text/x-python",
   "name": "python",
   "nbconvert_exporter": "python",
   "pygments_lexer": "ipython2",
   "version": "2.7.13"
  }
 },
 "nbformat": 4,
 "nbformat_minor": 2
}
