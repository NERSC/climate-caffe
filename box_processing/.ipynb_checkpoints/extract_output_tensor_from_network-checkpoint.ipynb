{
 "cells": [
  {
   "cell_type": "code",
   "execution_count": 1,
   "metadata": {
    "collapsed": true,
    "deletable": true,
    "editable": true
   },
   "outputs": [],
   "source": [
    "from nbfinder import NotebookFinder\n",
    "import sys\n",
    "sys.meta_path.append(NotebookFinder())\n",
    "import numpy as np"
   ]
  },
  {
   "cell_type": "code",
   "execution_count": 1,
   "metadata": {
    "collapsed": true,
    "deletable": true,
    "editable": true
   },
   "outputs": [],
   "source": [
    "def convert_to_2d(obj):\n",
    "    orig_shape = obj.shape\n",
    "    obj = np.transpose(obj,axes=(0,2,3,1))\n",
    "    obj = obj.reshape(obj.shape[0]*obj.shape[1]*obj.shape[2], obj.shape[3])\n",
    "    return obj, orig_shape\n",
    "    \n",
    "\n",
    "def convert_back_to_4d(obj, orig_shape):\n",
    "    obj = obj.reshape(orig_shape[0], orig_shape[2],orig_shape[3], orig_shape[1])\n",
    "    obj = np.transpose(obj, axes=(0,3,1,2))\n",
    "    return obj\n",
    "\n",
    "def softmax(ar):\n",
    "    #numerically stable\n",
    "    \"\"\"Compute softmax values for each sets of scores in x.\"\"\"\n",
    "    e_x = np.exp(ar - np.max(ar,axis=1,keepdims=True)) \n",
    "\n",
    "    scores = e_x / np.sum(e_x,axis=1, keepdims=True)\n",
    "    return scores\n",
    "\n",
    "def softmax4d(obj):\n",
    "\n",
    "    obj, orig_shape = convert_to_2d(obj)\n",
    "    probs = softmax(obj)\n",
    "    probs_tens = convert_back_to_4d(probs,orig_shape)\n",
    "    return probs_tens\n",
    "    \n",
    "\n",
    "def get_net_output(net):\n",
    "    xywh_keys = ['xy_pred',\n",
    "            'wh_pred']\n",
    "    \n",
    "    # conf_score and cls score both are raw logits, so we have to apply softmax\n",
    "    conf_score = np.float32(net.blobs['obj_scores_copy'].data)\n",
    "    conf_score = softmax4d(conf_score)\n",
    "    cls_score = np.float32(net.blobs['class_scores_copy'].data)\n",
    "    cls_score = softmax4d(cls_score)\n",
    "    assert np.all(conf_score < 1.)\n",
    "    xywh = [np.float32(net.blobs[k].data) for k in xywh_keys]\n",
    "    net_out_blobs = xywh + [conf_score, cls_score]\n",
    "\n",
    "    net_output = np.concatenate(tuple(net_out_blobs),axis=1)\n",
    "    return net_output"
   ]
  },
  {
   "cell_type": "code",
   "execution_count": 3,
   "metadata": {
    "collapsed": true,
    "deletable": true,
    "editable": true
   },
   "outputs": [],
   "source": [
    "# def get_everything(net_output,label):\n",
    "#     conf_pred, cls_pred = get_obj_cls_scores_from_net_output(net_output)\n",
    "#     conf_gt, cls_gt = get_obj_cls_scores_from_label(label)\n",
    "#     pred_boxes = get_all_boxes(net_output,conf_pred,cls_pred)\n",
    "#     gt_boxes = get_all_boxes(label,conf_gt,cls_gt)\n",
    "#     return pred_boxes, gt_boxes"
   ]
  },
  {
   "cell_type": "code",
   "execution_count": 35,
   "metadata": {
    "collapsed": false,
    "deletable": true,
    "editable": true
   },
   "outputs": [
    {
     "name": "stdout",
     "output_type": "stream",
     "text": [
      "[NbConvertApp] Converting notebook extract.ipynb to script\n",
      "[NbConvertApp] Writing 2630 bytes to extract.py\n"
     ]
    }
   ],
   "source": [
    "#! jupyter nbconvert --to script extract.ipynb"
   ]
  },
  {
   "cell_type": "code",
   "execution_count": null,
   "metadata": {
    "collapsed": true,
    "deletable": true,
    "editable": true
   },
   "outputs": [],
   "source": []
  }
 ],
 "metadata": {
  "kernelspec": {
   "display_name": "Python 2",
   "language": "python",
   "name": "python2"
  },
  "language_info": {
   "codemirror_mode": {
    "name": "ipython",
    "version": 2
   },
   "file_extension": ".py",
   "mimetype": "text/x-python",
   "name": "python",
   "nbconvert_exporter": "python",
   "pygments_lexer": "ipython2",
   "version": "2.7.13"
  }
 },
 "nbformat": 4,
 "nbformat_minor": 2
}
