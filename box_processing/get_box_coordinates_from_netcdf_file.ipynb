{
 "cells": [
  {
   "cell_type": "code",
   "execution_count": 32,
   "metadata": {
    "collapsed": true
   },
   "outputs": [],
   "source": [
    "import pandas as pd\n",
    "import re\n",
    "import datetime as dt\n",
    "import os\n",
    "import numpy as np"
   ]
  },
  {
   "cell_type": "code",
   "execution_count": 101,
   "metadata": {
    "collapsed": false
   },
   "outputs": [],
   "source": [
    "def get_timestamp(filename):\n",
    "    rpyear = re.compile(r\"(\\.h2\\.)(.*?)(-)\")\n",
    "    rpdaymonth = re.compile(r\"(-)(.*?)(\\d{5}\\.)\")\n",
    "    year=int(rpyear.search(filename).groups()[1])\n",
    "    tmp=rpdaymonth.search(filename).groups()[1].split('-')\n",
    "    month=int(tmp[0])\n",
    "    day=int(tmp[1])\n",
    "    return dt.date(year,month,day)    \n",
    "    \n",
    "def get_boxes_for_nc_file(filepath, path_to_csv_file=\"/global/cscratch1/sd/racah/climate_data/climo/csv_labels/new_labels.csv\"):\n",
    "    ims_per_file = 8\n",
    "    boxes = [ims_per_file*[]]\n",
    "    filename = os.path.basename(filepath)\n",
    "    \n",
    "    coord_keys = [\"xmin\", \"xmax\", \"ymin\", \"ymax\"]\n",
    "    cls_key = \"category\"\n",
    "    \n",
    "    labeldf = pd.read_csv(path_to_csv_file)\n",
    "    \n",
    "    \n",
    "    ts = get_timestamp(filename)\n",
    "\n",
    "    filedf = labeldf.ix[ (labeldf.month==ts.month) & (labeldf.day==ts.day) & (labeldf.year==ts.year) ].copy()\n",
    "\n",
    "\n",
    "    time_steps = [ int(num) for num in list(filedf[\"time_step\"])]\n",
    "\n",
    "    box_coords = filedf[[\"xmin\", \"xmax\", \"ymin\", \"ymax\", \"category\"]].values\n",
    "\n",
    "    ims_per_file = 8\n",
    "    boxes = [[] for i in range(ims_per_file)]\n",
    "    time_step_boxes_pairs = zip(time_steps, box_coords)\n",
    "    for time_step, box in time_step_boxes_pairs:\n",
    "        boxes[time_step].append(list(box))\n",
    "    \n",
    "    return boxes\n",
    "    \n",
    "    "
   ]
  },
  {
   "cell_type": "code",
   "execution_count": 85,
   "metadata": {
    "collapsed": false
   },
   "outputs": [],
   "source": [
    "if __name__ == \"__main__\":\n",
    "    filepath = \"/global/cscratch1/sd/racah/climate_data/climo/images/cam5_1_amip_run2.cam2.h2.1985-09-23-10800.nc\"\n",
    "\n",
    "    boxes = get_boxes_for_nc_file(filepath)"
   ]
  },
  {
   "cell_type": "code",
   "execution_count": null,
   "metadata": {
    "collapsed": true
   },
   "outputs": [],
   "source": []
  }
 ],
 "metadata": {
  "kernelspec": {
   "display_name": "Python 2",
   "language": "python",
   "name": "python2"
  },
  "language_info": {
   "codemirror_mode": {
    "name": "ipython",
    "version": 2
   },
   "file_extension": ".py",
   "mimetype": "text/x-python",
   "name": "python",
   "nbconvert_exporter": "python",
   "pygments_lexer": "ipython2",
   "version": "2.7.13"
  }
 },
 "nbformat": 4,
 "nbformat_minor": 2
}
