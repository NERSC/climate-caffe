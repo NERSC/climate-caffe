{
 "cells": [
  {
   "cell_type": "code",
   "execution_count": 1,
   "metadata": {
    "collapsed": true,
    "deletable": true,
    "editable": true
   },
   "outputs": [],
   "source": [
    "import numpy as np"
   ]
  },
  {
   "cell_type": "code",
   "execution_count": 2,
   "metadata": {
    "collapsed": false,
    "deletable": true,
    "editable": true
   },
   "outputs": [],
   "source": [
    "from sklearn.metrics import average_precision_score"
   ]
  },
  {
   "cell_type": "code",
   "execution_count": 3,
   "metadata": {
    "collapsed": false,
    "deletable": true,
    "editable": true
   },
   "outputs": [],
   "source": [
    "\n",
    "\n",
    "\n",
    "def convert_xy_min_max_tensor_to_box_list(xy_min_max):\n",
    "    #expects a 4xXxY tensor\n",
    "\n",
    "    xdim,ydim = xy_min_max.shape[1:]\n",
    "\n",
    "    xy_min_max = np.transpose(xy_min_max, axes=(1,2,0))\n",
    "    box_list = xy_min_max.reshape(xdim*ydim,4)\n",
    "    return box_list\n",
    "\n",
    "def calc_score(cls, xy_min_max_pred, xy_min_max_gt, conf_pred, conf_gt, cls_pred, cls_gt, iou_thresh=0.5 ):\n",
    "#     for g in [xy_min_max_pred, xy_min_max_gt, conf_pred, conf_gt, cls_pred, cls_gt]:\n",
    "#         print g.shape\n",
    "    # if there is no object then we don't penalize cuz its unlabelled example\n",
    "    if np.all(conf_gt == 0.0):\n",
    "        return [],[]\n",
    "    \n",
    "    box_list_pred = convert_xy_min_max_tensor_to_box_list(xy_min_max_pred)\n",
    "    \n",
    "    box_list_gt = convert_xy_min_max_tensor_to_box_list(xy_min_max_gt)\n",
    "    \n",
    "    #flatten\n",
    "    flat_cls_gt = cls_gt.reshape(cls_gt.shape[0] * cls_gt.shape[1] )\n",
    "    flat_conf_gt = conf_gt.reshape(conf_gt.shape[0] * conf_gt.shape[1])\n",
    "    flat_cls_pred = cls_pred.reshape(cls_pred.shape[0] * cls_pred.shape[1])\n",
    "    flat_conf_pred = conf_pred.reshape(conf_pred.shape[0] * conf_pred.shape[1])\n",
    "    \n",
    "    #get only the boxes where there is an object\n",
    "    box_list_gt = box_list_gt[flat_conf_gt > 0.]\n",
    "    \n",
    "    \n",
    "    #should be covered by above\n",
    "    if box_list_gt.shape[0] == 0:\n",
    "        return [],[]\n",
    "    flat_cls_gt = flat_cls_gt[ flat_conf_gt > 0]\n",
    "    box_list_gt = box_list_gt[flat_cls_gt == cls]\n",
    "\n",
    "    if box_list_gt.shape[0] == 0:\n",
    "        return [],[]\n",
    "\n",
    "    #sort by confidence in descending order\n",
    "    conf_ind = np.argsort(-flat_conf_pred)\n",
    "    box_list_pred = box_list_pred[conf_ind]\n",
    "    conf_list = flat_conf_pred[conf_ind]\n",
    "\n",
    "\n",
    "\n",
    "\n",
    "    #filter so just cls remains\n",
    "    box_list_pred = box_list_pred[flat_cls_pred == cls]\n",
    "\n",
    "    conf_list = conf_list[flat_cls_pred == cls]\n",
    "\n",
    "    num_gt_boxes = box_list_gt.shape[0]\n",
    "    \n",
    "    #boolean array for whether gt box has been matched yet\n",
    "    gt_box_picked_yet = np.zeros(num_gt_boxes)\n",
    "    \n",
    "    \n",
    "    y_true = []\n",
    "    y_score = []\n",
    "    for box_ind, box_pred in enumerate(box_list_pred):\n",
    "        iou, iou_ind = get_iou_box_list_of_boxes(box_pred,box_list_gt)\n",
    "        #add confidence to y_score\n",
    "        y_score.append(conf_list[box_ind])\n",
    "\n",
    "        if iou > iou_thresh:\n",
    "\n",
    "            # gt_box can only match with one thang\n",
    "            if not gt_box_picked_yet[iou_ind]:\n",
    "                # true positive\n",
    "                y_true.append(1.)\n",
    "                gt_box_picked_yet[iou_ind] = 1.\n",
    "\n",
    "            # gt box already picked\n",
    "            else:\n",
    "                # false positive\n",
    "                y_true.append(0.)\n",
    "\n",
    "        # box does not overlap more than 0.5 with gt box\n",
    "        else:\n",
    "\n",
    "            y_true.append(0.)\n",
    "\n",
    "    return y_true, y_score\n",
    "\n",
    "\n",
    "    \n"
   ]
  },
  {
   "cell_type": "code",
   "execution_count": 4,
   "metadata": {
    "collapsed": false,
    "deletable": true,
    "editable": true
   },
   "outputs": [],
   "source": [
    "# bba = BBox_Accuracy()\n",
    "# for i in range(20):\n",
    "#     net_output = np.concatenate((6*np.random.rand(4,4,24,24)-3, np.random.rand(4,2,24,24), np.random.rand(4,4,24,24)),axis=1)\n",
    "#     label = np.concatenate((6*np.random.rand(4,4,24,24)-3, np.random.randint(2,size=(4,1,24,24)), np.random.randint(1,5,size=(4,1,24,24))),axis=1)\n",
    "#     bba.update_scores(net_output, label)\n",
    "# print bba.compute_final_accuracy()"
   ]
  },
  {
   "cell_type": "code",
   "execution_count": 6,
   "metadata": {
    "collapsed": true,
    "deletable": true,
    "editable": true
   },
   "outputs": [],
   "source": [
    "def get_obj_cls_scores_from_net_output(output):\n",
    "\n",
    "    obj = output[:,4]\n",
    "    cls = np.argmax(output[:,5:], axis=1)\n",
    "    #print cls.shape\n",
    "    #obj,cls = np.expand_dims(obj, axis=1), np.expand_dims(cls, axis=1)\n",
    "    return obj, cls"
   ]
  },
  {
   "cell_type": "code",
   "execution_count": 7,
   "metadata": {
    "collapsed": true,
    "deletable": true,
    "editable": true
   },
   "outputs": [],
   "source": [
    "def get_obj_cls_scores_from_label(label):\n",
    "    cls = label[:,-1] - 1\n",
    "    obj = label[:,-2]\n",
    "    #obj, cls = np.expand_dims(obj, axis=1), np.expand_dims(cls, axis=1)\n",
    "    return obj, cls"
   ]
  },
  {
   "cell_type": "code",
   "execution_count": 8,
   "metadata": {
    "collapsed": true,
    "deletable": true,
    "editable": true
   },
   "outputs": [],
   "source": [
    "def get_iou_box_list_of_boxes(box1,box_list):\n",
    "        XMIN, XMAX, YMIN,YMAX = range(4)\n",
    "        xmaxes = box_list[:, XMAX]\n",
    "        xmins = box_list[:, XMIN]\n",
    "        ymaxes = box_list[:, YMAX]\n",
    "        ymins = box_list[:, YMIN]\n",
    "        \n",
    "        xmin1,xmax1,ymin1, ymax1 = box1\n",
    "        \n",
    "        \n",
    "        ixmin = np.maximum(xmins, xmin1)\n",
    "        iymin = np.maximum(ymins, ymin1)\n",
    "        ixmax = np.minimum(xmaxes, xmax1)\n",
    "        iymax = np.minimum(ymaxes, ymax1)\n",
    "        iw = np.maximum(ixmax - ixmin + 1., 0.)\n",
    "        ih = np.maximum(iymax - iymin + 1., 0.)\n",
    "        inters = iw * ih\n",
    "\n",
    "        # union\n",
    "        uni = ((xmax1 -xmin1 + 1.) * (ymax1 - ymin1 + 1.) +\n",
    "               (xmaxes - xmins + 1.) *\n",
    "               (ymaxes - ymins + 1.) - inters)\n",
    "\n",
    "        ious = inters / uni\n",
    "        max_iou = np.max(ious)\n",
    "        ind_max_iou = np.argmax(ious)\n",
    "        return max_iou, ind_max_iou\n"
   ]
  },
  {
   "cell_type": "code",
   "execution_count": 9,
   "metadata": {
    "collapsed": true,
    "deletable": true,
    "editable": true
   },
   "outputs": [],
   "source": [
    "def unparametrize(xy,wh, scale_factor=32):\n",
    "    xy_raw = unparametrize_xy(xy,scale_factor)\n",
    "    wh_raw = unparametrize_wh(wh,scale_factor)\n",
    "    return xy_raw, wh_raw\n",
    "    \n",
    "\n",
    "def unparametrize_xy(xy,scale_factor):\n",
    "    #xy should be num_ex,2,24,24\n",
    "    num_ex = xy.shape[0]\n",
    "    xdim = xy.shape[-2]\n",
    "    ydim = xy.shape[-1]\n",
    "    xarange = np.arange(xdim)\n",
    "    yarange = np.arange(ydim)\n",
    "    xgrid, ygrid = np.meshgrid(xarange, yarange)\n",
    "    grid = np.vstack((xgrid, ygrid)).reshape(2,xdim,ydim)\n",
    "    inds = np.zeros_like(xy) # np.repeat(grid,[num_ex,num_ex],0)#.reshape(num_ex,2,xdim,ydim)\n",
    "    inds[:,0] = xgrid\n",
    "    inds[:,1] = ygrid\n",
    "    \n",
    "    #xy is the normalized offsets, so we add by the ind to get unoffset, then multiply by scale factor to get raw\n",
    "    raw_normalized = xy + inds\n",
    "    xy_raw = scale_factor * raw_normalized\n",
    "    return xy_raw\n",
    "    \n",
    "    \n",
    "\n",
    "def unparametrize_wh(wh,scale_factor):\n",
    "    wh_unlog = np.power(2*np.ones_like(wh), wh)\n",
    "    wh_raw = scale_factor * wh_unlog\n",
    "    return wh_raw\n",
    "    \n",
    "\n",
    "def convert_parametrization_to_xy_min_max(xy,wh):\n",
    "    xy_raw, wh_raw = unparametrize(xy,wh, scale_factor=32)\n",
    "    xmin_max_y_min_max = convert_from_xy_wh_to_min_max(xy_raw,wh_raw)\n",
    "    return xmin_max_y_min_max\n",
    "    \n",
    "    \n",
    "def convert_from_xy_wh_to_min_max(xy_raw,wh_raw):\n",
    "        \n",
    "        x = xy_raw[:,0]\n",
    "        y = xy_raw[:,1]\n",
    "        w = wh_raw[:,0]\n",
    "        h = wh_raw[:,1]\n",
    "        xmin,xmax = np.maximum(np.zeros_like(x),x - w / 2.), x + w/ 2.\n",
    "        ymin, ymax = np.maximum(np.zeros_like(y),y - h / 2.), y+ h/ 2.\n",
    "        xmin, xmax, ymin, ymax = [np.expand_dims(arr,axis=1) for arr in [xmin, xmax, ymin, ymax]]\n",
    "        return np.concatenate((xmin, xmax, ymin, ymax),axis=1)\n",
    "    \n",
    "    "
   ]
  },
  {
   "cell_type": "code",
   "execution_count": 10,
   "metadata": {
    "collapsed": true,
    "deletable": true,
    "editable": true
   },
   "outputs": [],
   "source": [
    "def get_iou_box_pair(box1,box2):\n",
    "    xmin1, xmax1, ymin1, ymax1 = box1\n",
    "    xmin2, xmax2, ymin2, ymax2 = box2\n",
    "    \n",
    "     #min of the xmaxes\n",
    "    min_xmax = min(xmax1, xmax2 )\n",
    "\n",
    "    #max of the xmins\n",
    "    max_xmin = max(xmin1, xmin2 )\n",
    "\n",
    "    #min of the ymaxes\n",
    "    min_ymax = min(ymax1, ymax2 )\n",
    "\n",
    "    #max of the ymins\n",
    "    max_ymin = max(ymin1, ymin2 )\n",
    "\n",
    "    xdiff = min_xmax - max_xmin\n",
    "\n",
    "    ydiff = min_ymax - max_ymin\n",
    "\n",
    "    inters = max(0, xdiff) * max(0, ydiff)\n",
    "\n",
    "    def get_area(x_min, x_max, y_min, y_max):\n",
    "        area = (x_max - x_min + 1) * (y_max - y_min + 1)\n",
    "        assert area > 0.0, \"area should be greater than zero!\"\n",
    "        return area\n",
    "\n",
    "    area1 = get_area(xmin1, xmax1, ymin1, ymax1)\n",
    "    area2 = get_area(xmin2, xmax2, ymin2, ymax2)\n",
    "\n",
    "    union = area1 + area2 - inters\n",
    "    iou = inters / float(union)\n",
    "    return iou\n",
    "    \n",
    "    \n",
    "    \n",
    "    "
   ]
  },
  {
   "cell_type": "code",
   "execution_count": 11,
   "metadata": {
    "collapsed": true,
    "deletable": true,
    "editable": true
   },
   "outputs": [],
   "source": [
    "def get_xy_wh(output):\n",
    "    xy = output[:,:2]\n",
    "    wh = output[:,2:4]\n",
    "    return xy,wh\n",
    "    "
   ]
  },
  {
   "cell_type": "code",
   "execution_count": 12,
   "metadata": {
    "collapsed": true,
    "deletable": true,
    "editable": true
   },
   "outputs": [],
   "source": [
    "def test_unparametrize():\n",
    "    xy = np.random.rand(4,2,24,24)\n",
    "\n",
    "    xy_raw = unparametrize_xy(xy, 32)\n",
    "\n",
    "    abs_range = np.abs(np.log2(1./32)) + np.log2(24)\n",
    "    small = np.log2(1./32)\n",
    "\n",
    "    wh = abs_range* np.random.rand(4,2,24,24) + small\n",
    "\n",
    "    wh_raw = unparametrize_wh(wh,32)\n",
    "    assert np.min(wh_raw) > 0.\n",
    "    assert np.max(wh_raw) < 768.\n",
    "    assert np.min(xy_raw) > 0.\n",
    "    assert np.max(xy_raw) < 768.\n",
    "    return xy_raw, wh_raw"
   ]
  },
  {
   "cell_type": "code",
   "execution_count": 13,
   "metadata": {
    "collapsed": true,
    "deletable": true,
    "editable": true
   },
   "outputs": [],
   "source": [
    "xy_raw,wh_raw = test_unparametrize()"
   ]
  },
  {
   "cell_type": "code",
   "execution_count": 14,
   "metadata": {
    "collapsed": true,
    "deletable": true,
    "editable": true
   },
   "outputs": [],
   "source": [
    "def test_convert():\n",
    "    xy_raw,wh_raw = test_unparametrize()\n",
    "    assert np.all(xy_raw >= 0.0)\n",
    "    assert np.all(wh_raw >= 0.0)\n",
    "    return convert_from_xy_wh_to_min_max(xy_raw,wh_raw)\n",
    "    "
   ]
  },
  {
   "cell_type": "code",
   "execution_count": 6,
   "metadata": {
    "collapsed": false,
    "deletable": true,
    "editable": true
   },
   "outputs": [],
   "source": [
    "class BBox_Accuracy(object):\n",
    "    def __init__(self, num_classes=4, iou_thresh=0.5):\n",
    "        self.iou_thresh = iou_thresh\n",
    "        self.num_classes = num_classes\n",
    "        self.y_score ={cls:[] for cls in range(num_classes)}\n",
    "        self.y_true = {cls:[] for cls in range(num_classes)}\n",
    "        \n",
    "    \n",
    "    def update_scores(self,net_output, label):\n",
    "        self._compute_score(net_output, label)\n",
    "\n",
    "    def _compute_score(self,net_output, label):\n",
    "        xy_pred, wh_pred = get_xy_wh(net_output)\n",
    "        conf_pred, cls_pred = get_obj_cls_scores_from_net_output(net_output)\n",
    "        xy_gt, wh_gt = get_xy_wh(label)\n",
    "        conf_gt, cls_gt = get_obj_cls_scores_from_label(label)\n",
    "        xy_min_max_gt = convert_parametrization_to_xy_min_max(xy_gt,wh_gt)\n",
    "        xy_min_max_pred = convert_parametrization_to_xy_min_max(xy_pred,wh_pred)\n",
    "\n",
    "\n",
    "        for ex_ind in range(net_output.shape[0]):\n",
    "            for cls in range(self.num_classes):\n",
    "                y_true, y_score = calc_score(cls, xy_min_max_pred[ex_ind], xy_min_max_gt[ex_ind], conf_pred[ex_ind], conf_gt[ex_ind], cls_pred[ex_ind], cls_gt[ex_ind], iou_thresh=self.iou_thresh )\n",
    "                self.y_score[cls].extend(y_score)\n",
    "                self.y_true[cls].extend(y_true)\n",
    "\n",
    "\n",
    "    def compute_final_accuracy(self):\n",
    "        APs = self.compute_final_APs()\n",
    "        mAP = self.compute_mAP(APs)\n",
    "        return mAP\n",
    "\n",
    "\n",
    "    def compute_mAP(self,APs):\n",
    "        filtered_aps = [ap for ap in APs.values() if ap>=0.0]\n",
    "        if len(filtered_aps) > 0:\n",
    "            return np.mean(filtered_aps)\n",
    "        else:\n",
    "            return 0.0\n",
    "\n",
    "    def compute_final_APs(self):\n",
    "        APs = {}\n",
    "        for cls in self.y_score.keys():\n",
    "            if len(self.y_score[cls]) > 0:\n",
    "                if np.any(self.y_score[cls]):\n",
    "                    APs[cls] = average_precision_score(self.y_true[cls], self.y_score[cls])\n",
    "                else:\n",
    "                    APs[cls] = -1\n",
    "            else:\n",
    "                APs[cls] = -1\n",
    "        return APs\n",
    "\n",
    "    "
   ]
  },
  {
   "cell_type": "code",
   "execution_count": 1,
   "metadata": {
    "collapsed": false,
    "deletable": true,
    "editable": true
   },
   "outputs": [
    {
     "name": "stdout",
     "output_type": "stream",
     "text": [
      "[NbConvertApp] Converting notebook accuracy.ipynb to script\n",
      "[NbConvertApp] Writing 9999 bytes to accuracy.py\n"
     ]
    }
   ],
   "source": [
    "#! jupyter nbconvert --to script accuracy.ipynb"
   ]
  },
  {
   "cell_type": "code",
   "execution_count": 4,
   "metadata": {
    "collapsed": true,
    "deletable": true,
    "editable": true
   },
   "outputs": [],
   "source": [
    "#! cp accuracy.py /project/projectdirs/dasrepo/gordon_bell/deep_learning/networks/climate/2d_semi_sup"
   ]
  },
  {
   "cell_type": "code",
   "execution_count": null,
   "metadata": {
    "collapsed": true
   },
   "outputs": [],
   "source": []
  }
 ],
 "metadata": {
  "anaconda-cloud": {},
  "kernelspec": {
   "display_name": "Python [default]",
   "language": "python",
   "name": "python2"
  },
  "language_info": {
   "codemirror_mode": {
    "name": "ipython",
    "version": 2
   },
   "file_extension": ".py",
   "mimetype": "text/x-python",
   "name": "python",
   "nbconvert_exporter": "python",
   "pygments_lexer": "ipython2",
   "version": "2.7.12"
  }
 },
 "nbformat": 4,
 "nbformat_minor": 1
}
