{
 "cells": [
  {
   "cell_type": "code",
   "execution_count": 1,
   "metadata": {
    "collapsed": false,
    "deletable": true,
    "editable": true
   },
   "outputs": [
    {
     "name": "stdout",
     "output_type": "stream",
     "text": [
      "importing Jupyter notebook from accuracy.ipynb\n"
     ]
    }
   ],
   "source": [
    "import caffe\n",
    "import sys\n",
    "import argparse\n",
    "from nbfinder import NotebookFinder\n",
    "import sys\n",
    "sys.meta_path.append(NotebookFinder())\n",
    "from accuracy import BBox_Accuracy\n",
    "import numpy as np"
   ]
  },
  {
   "cell_type": "code",
   "execution_count": 3,
   "metadata": {
    "collapsed": false,
    "deletable": true,
    "editable": true
   },
   "outputs": [
    {
     "name": "stdout",
     "output_type": "stream",
     "text": [
      "Final Accuracy is   0.0000\n",
      "\n"
     ]
    },
    {
     "name": "stderr",
     "output_type": "stream",
     "text": [
      "/usr/common/usg/python/2.7-anaconda/envs/caffe_env/lib/python2.7/site-packages/sklearn/metrics/ranking.py:415: RuntimeWarning: invalid value encountered in true_divide\n",
      "  recall = tps / tps[-1]\n"
     ]
    }
   ],
   "source": [
    "if __name__ == \"__main__\":\n",
    "    def get_cl_args():\n",
    "        cl_args = {\"path_to_caffemodel\":\"/global/cscratch1/sd/imit/gbruns/climate/BEST_CLIMATE_LONG/snapshot/BEST_CLIMATE_LONG/lr_0.0001_mu_0.97_step_20000_step-fac_1.0_clip_1000000000.0_decay_0.0005_rand_1_iter_1200.caffemodel\",\n",
    "                    \"path_to_caffe_prototxt\":\"/project/projectdirs/dasrepo/gordon_bell/deep_learning/networks/climate/2d_semi_sup/base_prototxt_files/deploy_vanilla.prototxt\",\n",
    "                   \"iterations\": 3}\n",
    "\n",
    "        if any([\"jupyter\" in arg for arg in sys.argv]):\n",
    "            sys.argv=sys.argv[:1]\n",
    "\n",
    "        parser = argparse.ArgumentParser(formatter_class=argparse.ArgumentDefaultsHelpFormatter)\n",
    "        for k,v in cl_args.iteritems():\n",
    "            parser.add_argument('--' + k, type=type(v), default=v, help=k)\n",
    "\n",
    "        args = parser.parse_args()\n",
    "        cl_args.update(args.__dict__)\n",
    "        return cl_args\n",
    "\n",
    "    cl_args = get_cl_args()\n",
    "    net = caffe.Net(cl_args[\"path_to_caffe_prototxt\"],\n",
    "                    cl_args[\"path_to_caffemodel\"], \n",
    "                    caffe.TEST)\n",
    "    \n",
    "    \n",
    "    \n",
    "\n",
    "# net = caffe.Net(\"/project/projectdirs/dasrepo/gordon_bell/deep_learning/networks/climate/2d_semi_sup/base_prototxt_files/deploy.prototxt\",\n",
    "#                     \"/global/homes/r/racah/projects/climate-caffe/2d_semi_sup/notebooks/models/model_iter_2.caffemodel\", \n",
    "#                     caffe.TEST)\n",
    "\n",
    "    keys = ['xy_pred',\n",
    "     'wh_pred','obj_scores_copy','class_scores_copy',\n",
    "     ]\n",
    "    bba = BBox_Accuracy()\n",
    "    for ep in range(cl_args[\"iterations\"]):\n",
    "        blobs =net.forward()\n",
    "\n",
    "        label = np.float32(net.blobs[\"label\"].data)\n",
    "        net_out_blobs = [np.float32(net.blobs[k].data) for k in keys]\n",
    "\n",
    "\n",
    "        net_output = np.concatenate(tuple(net_out_blobs),axis=1)\n",
    "\n",
    "\n",
    "\n",
    "        bba.update_scores(net_output,label)\n",
    "\n",
    "    print \"Final Accuracy is %8.4f\\n\" % (bba.compute_final_accuracy())"
   ]
  },
  {
   "cell_type": "code",
   "execution_count": 2,
   "metadata": {
    "collapsed": false
   },
   "outputs": [
    {
     "ename": "NameError",
     "evalue": "name 'cl_args' is not defined",
     "output_type": "error",
     "traceback": [
      "\u001b[0;31m-------------------------------------------------\u001b[0m",
      "\u001b[0;31mNameError\u001b[0m       Traceback (most recent call last)",
      "\u001b[0;32m<ipython-input-2-0da988b4873f>\u001b[0m in \u001b[0;36m<module>\u001b[0;34m()\u001b[0m\n\u001b[1;32m      1\u001b[0m \u001b[0;34m\u001b[0m\u001b[0m\n\u001b[0;32m----> 2\u001b[0;31m caffe.Net(cl_args[\"path_to_caffe_prototxt\"],\n\u001b[0m\u001b[1;32m      3\u001b[0m           \u001b[0;34m\"/global/cscratch1/sd/imit/gbruns/climate/BEST_CLIMATE_LONG/snapshot/BEST_CLIMATE_LONG/lr_0.0001_mu_0.97_step_20000_step-fac_1.0_clip_1000000000.0_decay_0.0005_rand_1_iter_1200.caffemodel\"\u001b[0m\u001b[0;34m,\u001b[0m\u001b[0;34m\u001b[0m\u001b[0m\n\u001b[1;32m      4\u001b[0m          caffe.TEST)\n",
      "\u001b[0;31mNameError\u001b[0m: name 'cl_args' is not defined"
     ]
    }
   ],
   "source": [
    "\n",
    "caffe.Net(cl_args[\"path_to_caffe_prototxt\"],\n",
    "          \"/global/cscratch1/sd/imit/gbruns/climate/BEST_CLIMATE_LONG/snapshot/BEST_CLIMATE_LONG/lr_0.0001_mu_0.97_step_20000_step-fac_1.0_clip_1000000000.0_decay_0.0005_rand_1_iter_1200.caffemodel\",\n",
    "         caffe.TEST)"
   ]
  },
  {
   "cell_type": "code",
   "execution_count": 2,
   "metadata": {
    "collapsed": false
   },
   "outputs": [
    {
     "name": "stdout",
     "output_type": "stream",
     "text": [
      "[NbConvertApp] Converting notebook get_accuracy.ipynb to script\n",
      "[NbConvertApp] Writing 2212 bytes to get_accuracy.py\n"
     ]
    }
   ],
   "source": [
    "! jupyter nbconvert --to script get_accuracy.ipynb"
   ]
  },
  {
   "cell_type": "code",
   "execution_count": 3,
   "metadata": {
    "collapsed": true
   },
   "outputs": [],
   "source": [
    "! cp get_accuracy.py /project/projectdirs/dasrepo/gordon_bell/deep_learning/networks/climate/2d_semi_sup/"
   ]
  },
  {
   "cell_type": "code",
   "execution_count": null,
   "metadata": {
    "collapsed": true
   },
   "outputs": [],
   "source": [
    "#--path_to_caffemodel /global/cscratch1/sd/imit/gbruns/climate/BEST_CLIMATE_LONG/snapshot/BEST_CLIMATE_LONG/lr_0.0001_mu_0.97_step_20000_step-fac_1.0_clip_1000000000.0_decay_0.0005_rand_1_iter_1200.caffemodel --path_to_caffe_prototxt /project/projectdirs/dasrepo/gordon_bell/deep_learning/networks/climate/2d_semi_sup/base_prototxt_files/deploy_vanilla.prototxt"
   ]
  }
 ],
 "metadata": {
  "anaconda-cloud": {},
  "kernelspec": {
   "display_name": "Python [default]",
   "language": "python",
   "name": "python2"
  },
  "language_info": {
   "codemirror_mode": {
    "name": "ipython",
    "version": 2
   },
   "file_extension": ".py",
   "mimetype": "text/x-python",
   "name": "python",
   "nbconvert_exporter": "python",
   "pygments_lexer": "ipython2",
   "version": "2.7.12"
  }
 },
 "nbformat": 4,
 "nbformat_minor": 2
}
