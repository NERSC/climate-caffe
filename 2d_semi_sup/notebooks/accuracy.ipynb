{
 "cells": [
  {
   "cell_type": "code",
   "execution_count": 1,
   "metadata": {
    "collapsed": true
   },
   "outputs": [],
   "source": [
    "import numpy as np"
   ]
  },
  {
   "cell_type": "code",
   "execution_count": 6,
   "metadata": {
    "collapsed": true
   },
   "outputs": [],
   "source": [
    "from sklearn.metrics import average_precision_score"
   ]
  },
  {
   "cell_type": "code",
   "execution_count": null,
   "metadata": {
    "collapsed": true
   },
   "outputs": [],
   "source": [
    "class BboxMAP(object):\n",
    "    def __init__(self):\n",
    "        self.y_trues = {}\n",
    "        self.y_scores = {}\n",
    "        \n",
    "    def update_scores(self,net_output):\n",
    "        #self.y_trues...\n",
    "        #self.y_scores...\n",
    "        pass\n",
    "    \n",
    "    def _compute_score(net_output, label):\n",
    "        \n",
    "        pass\n",
    "    \n",
    "    def filter_out_zeros(self):\n",
    "        pass\n",
    " \n",
    "\n",
    "    def compute_final_accuracy(self):\n",
    "        y_true, y_score = get_ytrue_yscore()\n",
    "        APs = compute_final_APs(y_true, y_score)\n",
    "        mAP = compute_mAP(aps)\n",
    "        return mAP\n",
    "\n",
    "\n",
    "    def compute_mAP(self,APs):\n",
    "        return np.mean(APs.values())\n",
    "\n",
    "    def compute_final_APs(self):\n",
    "        APs = {}\n",
    "        for cls in y_score.keys():\n",
    "            APs[cls] = average_precision_score(self.y_true[cls], self.y_score[cls])\n",
    "        return APs\n",
    "    \n",
    "    "
   ]
  },
  {
   "cell_type": "code",
   "execution_count": 314,
   "metadata": {
    "collapsed": true
   },
   "outputs": [],
   "source": [
    "def unparametrize(xy,wh, scale_factor=32):\n",
    "    xy_raw = unparametrize_xy(xy,scale_factor)\n",
    "    wh_raw = unparametrize_wh(wh,scale_factor)\n",
    "    return xy_raw, wh_raw\n",
    "    \n",
    "\n",
    "def unparametrize_xy(xy,scale_factor):\n",
    "    #xy should be num_ex,2,24,24\n",
    "    num_ex = xy.shape[0]\n",
    "    xdim = xy.shape[-2]\n",
    "    ydim = xy.shape[-1]\n",
    "    xarange = np.arange(xdim)\n",
    "    yarange = np.arange(ydim)\n",
    "    xgrid, ygrid = np.meshgrid(xarange, yarange)\n",
    "    grid = np.vstack((xgrid, ygrid)).reshape(2,xdim,ydim)\n",
    "    inds = np.zeros_like(xy) # np.repeat(grid,[num_ex,num_ex],0)#.reshape(num_ex,2,xdim,ydim)\n",
    "    inds[:,0] = xgrid\n",
    "    inds[:,1] = ygrid\n",
    "    \n",
    "    #xy is the normalized offsets, so we add by the ind to get unoffset, then multiply by scale factor to get raw\n",
    "    raw_normalized = xy + inds\n",
    "    xy_raw = scale_factor * raw_normalized\n",
    "    return xy_raw\n",
    "    \n",
    "    \n",
    "\n",
    "def unparametrize_wh(wh,scale_factor):\n",
    "    wh_unlog = np.power(2*np.ones_like(wh), wh)\n",
    "    wh_raw = scale_factor * wh_unlog\n",
    "    return wh_raw\n",
    "    \n",
    "    \n",
    "def convert_from_xy_wh_to_min_max(xy_raw,wh_raw):\n",
    "        \n",
    "        x = xy_raw[:,0]\n",
    "        y = xy_raw[:,1]\n",
    "        w = wh_raw[:,0]\n",
    "        h = wh_raw[:,1]\n",
    "        xmin,xmax = np.maximum(np.zeros_like(x),x - w / 2.), x + w/ 2.\n",
    "        ymin, ymax = np.maximum(np.zeros_like(y),y - h / 2.), y+ h/ 2.\n",
    "        xmin, xmax, ymin, ymax = [np.expand_dims(arr,axis=1) for arr in [xmin, xmax, ymin, ymax]]\n",
    "        return np.concatenate((xmin, xmax, ymin, ymax),axis=1)\n",
    "    "
   ]
  },
  {
   "cell_type": "code",
   "execution_count": 315,
   "metadata": {
    "collapsed": true
   },
   "outputs": [],
   "source": [
    "def test_unparametrize():\n",
    "    xy = np.random.rand(4,2,24,24)\n",
    "\n",
    "    xy_raw = unparametrize_xy(xy, 32)\n",
    "\n",
    "    abs_range = np.abs(np.log2(1./32)) + np.log2(24)\n",
    "    small = np.log2(1./32)\n",
    "\n",
    "    wh = abs_range* np.random.rand(4,2,24,24) + small\n",
    "\n",
    "    wh_raw = unparametrize_wh(wh,32)\n",
    "    assert np.min(wh_raw) > 0.\n",
    "    assert np.max(wh_raw) < 768.\n",
    "    assert np.min(xy_raw) > 0.\n",
    "    assert np.max(xy_raw) < 768.\n",
    "    return xy_raw, wh_raw"
   ]
  },
  {
   "cell_type": "code",
   "execution_count": 316,
   "metadata": {
    "collapsed": true
   },
   "outputs": [],
   "source": [
    "xy_raw,wh_raw = test_unparametrize()"
   ]
  },
  {
   "cell_type": "code",
   "execution_count": 317,
   "metadata": {
    "collapsed": true
   },
   "outputs": [],
   "source": [
    "def test_convert():\n",
    "    xy_raw,wh_raw = test_unparametrize()\n",
    "    assert np.all(xy_raw >= 0.0)\n",
    "    assert np.all(wh_raw >= 0.0)\n",
    "    return convert_from_xy_wh_to_min_max(xy_raw,wh_raw)\n",
    "    "
   ]
  },
  {
   "cell_type": "code",
   "execution_count": 136,
   "metadata": {
    "collapsed": true
   },
   "outputs": [],
   "source": [
    "def iou(xmin_max_y_min_max_pred, xmin_max_y_min_max_gt):\n",
    "    #xmin_max_y_min_max_pred -> both are shapes: num_ex,4,24,24  4 channels are (xmin, xmas,ymin,ymax)\n",
    "    # return iou -> num_ex,24,24 -> iou for all places\n",
    "\n",
    "    XMIN, XMAX, YMIN,YMAX = range(4)\n",
    "\n",
    "    x_max_pred, x_max_gt = xmin_max_y_min_max_pred[:,XMAX],xmin_max_y_min_max_gt[:,XMAX]\n",
    "    x_min_pred, x_min_gt = xmin_max_y_min_max_pred[:,XMIN],xmin_max_y_min_max_gt[:,XMIN]\n",
    "    y_max_pred, y_max_gt = xmin_max_y_min_max_pred[:,YMAX],xmin_max_y_min_max_gt[:,YMAX]\n",
    "    y_min_pred, y_min_gt = xmin_max_y_min_max_pred[:,YMIN],xmin_max_y_min_max_gt[:,YMIN]\n",
    "\n",
    "\n",
    "    #min of the xmaxes\n",
    "    min_xmax = np.minimum(x_max_pred, x_max_gt )\n",
    "\n",
    "    #max of the xmins\n",
    "    max_xmin = np.maximum(x_min_pred, x_min_gt )\n",
    "\n",
    "    #min of the ymaxes\n",
    "    min_ymax = np.minimum(y_max_pred, y_max_gt )\n",
    "\n",
    "    #max of the ymins\n",
    "    max_ymin = np.maximum(y_min_pred, y_min_gt )\n",
    "\n",
    "    xdiff = min_xmax - max_xmin\n",
    "\n",
    "    ydiff = min_ymax - max_ymin\n",
    "\n",
    "    inters = np.maximum(np.zeros_like(xdiff), xdiff) * np.maximum(np.zeros_like(ydiff), ydiff)\n",
    "\n",
    "    def get_area(x_min, x_max, y_min, y_max):\n",
    "        area = (x_max - x_min) * (y_max - y_min)\n",
    "        assert np.all(area > 0.0), \"area should be greater than zero!\"\n",
    "        return area\n",
    "\n",
    "    pred_area = get_area(x_min_pred, x_max_pred, y_min_pred, y_max_pred)\n",
    "    gt_area = get_area(x_min_gt, x_max_gt, y_min_gt, y_max_gt)\n",
    "\n",
    "    union = pred_area + gt_area - inters\n",
    "    iou = inters / union.astype(np.float32)\n",
    "    return iou"
   ]
  },
  {
   "cell_type": "code",
   "execution_count": 120,
   "metadata": {
    "collapsed": true
   },
   "outputs": [],
   "source": []
  },
  {
   "cell_type": "code",
   "execution_count": 137,
   "metadata": {
    "collapsed": false
   },
   "outputs": [],
   "source": [
    "def test_iou():\n",
    "    def make_test_array(box1,box2):\n",
    "\n",
    "        test = np.array([box1, box2]).transpose((1,0)).reshape(4,2,1)\n",
    "\n",
    "        test = np.concatenate((test,test), axis=2)\n",
    "        test = np.vstack((test,test)).reshape(2,4,2,2)\n",
    "        return test\n",
    "    test_pred = make_test_array([0,2,0,3],[3,5,1,3])\n",
    "\n",
    "    test_gt = make_test_array([1,3,1,4], [3,5,2,5])\n",
    "\n",
    "    test_answer = np.asarray([[0.2,0.2],[0.25,0.25]])\n",
    "\n",
    "    test_answer = np.vstack((test_answer, test_answer)).reshape(2,2,2)\n",
    "    assert np.allclose(iou(test_pred, test_gt), test_answer)"
   ]
  },
  {
   "cell_type": "code",
   "execution_count": 139,
   "metadata": {
    "collapsed": false
   },
   "outputs": [],
   "source": [
    "test_iou()"
   ]
  },
  {
   "cell_type": "code",
   "execution_count": null,
   "metadata": {
    "collapsed": true
   },
   "outputs": [],
   "source": [
    "# xy_pred (4, 2, 24, 24)\n",
    "# wh_pred (4, 2, 24, 24)\n",
    "# xy_gt (4, 2, 24, 24)\n",
    "# wh_gt (4, 2, 24, 24)\n",
    "# class_scores_copy (4, 4, 24, 24)\n",
    "# obj_scores_copy (4, 2, 24, 24)\n",
    "# gcls (4, 1, 24, 24)\n",
    "# gobj (4, 1, 24, 24)"
   ]
  }
 ],
 "metadata": {
  "anaconda-cloud": {},
  "kernelspec": {
   "display_name": "Python [conda root]",
   "language": "python",
   "name": "conda-root-py"
  },
  "language_info": {
   "codemirror_mode": {
    "name": "ipython",
    "version": 2
   },
   "file_extension": ".py",
   "mimetype": "text/x-python",
   "name": "python",
   "nbconvert_exporter": "python",
   "pygments_lexer": "ipython2",
   "version": "2.7.12"
  }
 },
 "nbformat": 4,
 "nbformat_minor": 1
}
