{
 "cells": [
  {
   "cell_type": "code",
   "execution_count": 1,
   "metadata": {
    "collapsed": false,
    "deletable": true,
    "editable": true
   },
   "outputs": [],
   "source": [
    "import matplotlib\n",
    "matplotlib.use(\"Agg\")\n",
    "import matplotlib.pyplot as plt\n",
    "\n",
    "import caffe\n",
    "\n",
    "from caffe import layers as L, params as P, to_proto\n",
    "\n",
    "from caffe.proto import caffe_pb2\n",
    "\n",
    "from caffe.coord_map import crop\n",
    "\n",
    "import copy\n",
    "from nbfinder import NotebookFinder\n",
    "import sys\n",
    "sys.meta_path.append(NotebookFinder())\n",
    "from layer_util import *\n",
    "from network_defs import *\n",
    "import numpy as np\n",
    "import h5py\n",
    "from make_solver import make_solver\n",
    "import argparse\n",
    "from os.path import join\n",
    "from accuracy import BBox_Accuracy"
   ]
  },
  {
   "cell_type": "code",
   "execution_count": 4,
   "metadata": {
    "collapsed": false,
    "deletable": true,
    "editable": true
   },
   "outputs": [
    {
     "name": "stdout",
     "output_type": "stream",
     "text": [
      "[16, 32, 64, 96, 128]\n",
      "[16, 32, 64, 96, 128]\n"
     ]
    }
   ],
   "source": [
    "def make_train(cl_args):\n",
    "#basepath = \"/global/homes/r/racah/projects/climate-caffe/2d_semi_sup/notebooks/proto_files/\"\n",
    "\n",
    "\n",
    "\n",
    "    tr_pstr, tr_netspec, num_tr = make_netcdf_network(batch_size=tr_batch_size,\n",
    "                                                      prefix_dir=cl_args[\"data_dir\"],\n",
    "                                                      mode=\"tr\", \n",
    "                                                      filters_scale=cl_args[\"filters_scale\"] )\n",
    "\n",
    "    _, tr_net_filepath = write_to_file(tr_netspec, filename=\"train\", basepath=basepath)\n",
    "\n",
    "val_pstr, val_netspec, num_val = make_netcdf_network(batch_size=val_batch_size,prefix_dir=cl_args[\"data_dir\"], mode=\"val\" ,filters_scale=cl_args[\"filters_scale\"])\n",
    "_, val_net_filepath = write_to_file(val_netspec, filename=\"val\", basepath=basepath, )"
   ]
  },
  {
   "cell_type": "code",
   "execution_count": 4,
   "metadata": {
    "collapsed": true,
    "deletable": true,
    "editable": true
   },
   "outputs": [],
   "source": [
    "basepath=\"/project/projectdirs/dasrepo/gordon_bell/deep_learning/networks/climate/2d_semi_sup/\"\n",
    "spstr,solver_filename = make_solver(net_path=basepath,base_lr=cl_args[\"lr\"],\n",
    "                                    train_file_name=\"train_intel_goodperf_vanilla.prototxt\")\n",
    "#                                     test_net_path=val_net_filepath, tr_num_examples=num_tr, \n",
    "#                                     test_num_examples=num_val,tr_batch_size=tr_batch_size, \n",
    "#                                     test_batch_size=val_batch_size, print_every_iteration=10000)"
   ]
  },
  {
   "cell_type": "code",
   "execution_count": 6,
   "metadata": {
    "collapsed": false,
    "deletable": true,
    "editable": true
   },
   "outputs": [],
   "source": [
    "num_tr = 84\n"
   ]
  },
  {
   "cell_type": "code",
   "execution_count": 7,
   "metadata": {
    "collapsed": false,
    "deletable": true,
    "editable": true
   },
   "outputs": [],
   "source": [
    "solver = caffe.SGDSolver(solver_filename)"
   ]
  },
  {
   "cell_type": "code",
   "execution_count": 7,
   "metadata": {
    "collapsed": true,
    "deletable": true,
    "editable": true
   },
   "outputs": [],
   "source": [
    "#%matplotlib inline"
   ]
  },
  {
   "cell_type": "code",
   "execution_count": null,
   "metadata": {
    "collapsed": false,
    "deletable": true,
    "editable": true
   },
   "outputs": [
    {
     "name": "stderr",
     "output_type": "stream",
     "text": [
      "\n",
      " Epoch 0: Final L_cls Loss =  0.459\n",
      "\n",
      " Epoch 0: Final L_obj Loss =  0.265\n",
      "\n",
      " Epoch 0: Final L_xy Loss =  1.820\n",
      "\n",
      " Epoch 0: Final L_wh Loss =  3.541\n",
      "\n",
      " Epoch 0: Final L_rec Loss = 11617518.000\n",
      "\n",
      " Epoch 0: Final final_loss Loss = 38.551\n"
     ]
    }
   ],
   "source": [
    "\n",
    "\n",
    "   \n",
    "    "
   ]
  },
  {
   "cell_type": "code",
   "execution_count": 9,
   "metadata": {
    "collapsed": false,
    "deletable": true,
    "editable": true
   },
   "outputs": [
    {
     "name": "stdout",
     "output_type": "stream",
     "text": [
      "[NbConvertApp] Converting notebook make_network.ipynb to script\n",
      "[NbConvertApp] Writing 5039 bytes to make_network.py\n"
     ]
    }
   ],
   "source": [
    "#! jupyter nbconvert --to script make_network.ipynb"
   ]
  },
  {
   "cell_type": "code",
   "execution_count": null,
   "metadata": {
    "collapsed": true,
    "deletable": true,
    "editable": true
   },
   "outputs": [],
   "source": []
  },
  {
   "cell_type": "code",
   "execution_count": 6,
   "metadata": {
    "collapsed": false,
    "deletable": true,
    "editable": true
   },
   "outputs": [
    {
     "name": "stdout",
     "output_type": "stream",
     "text": [
      "[16, 32, 64, 96, 128]\n",
      "[16, 32, 64, 96, 128]\n"
     ]
    }
   ],
   "source": [
    "gb_basedir = \"/project/projectdirs/dasrepo/gordon_bell/deep_learning/networks/climate/2d_semi_sup\"\n",
    "\n",
    "tr_batch_size=4\n",
    "val_batch_size=16\n",
    "\n",
    "tr_pstr, tr_netspec, num_tr = make_netcdf_network(batch_size=tr_batch_size,\n",
    "                                                  prefix_dir=cl_args[\"data_dir\"],\n",
    "                                                  mode=\"tr\", \n",
    "                                                  filters_scale=cl_args[\"filters_scale\"] )\n",
    "\n",
    "\n",
    "\n",
    "_, tr_net_filepath = write_to_file(tr_netspec, filename=\"train\", basepath=gb_basedir)\n",
    "\n",
    "val_pstr, val_netspec, num_val = make_netcdf_network(batch_size=val_batch_size,prefix_dir=cl_args[\"data_dir\"], mode=\"val\" ,filters_scale=cl_args[\"filters_scale\"])\n",
    "_, val_net_filepath = write_to_file(val_netspec, filename=\"val\", basepath=gb_basedir, )\n",
    "\n",
    "val_net_filepath = join(gb_basedir, \"val.prototxt\")\n",
    "\n",
    "spstr,solver_filename = make_solver(net_path=gb_basedir,base_lr=cl_args[\"lr\"],\n",
    "                                    train_file_name=\"train.prototxt\", \n",
    "                                    test_net_path=val_net_filepath, tr_num_examples=num_tr, \n",
    "                                    test_num_examples=num_val,tr_batch_size=tr_batch_size, \n",
    "                                    test_batch_size=val_batch_size, print_every_iteration=10000)\n",
    "\n",
    "solver = caffe.SGDSolver(solver_filename)\n",
    "\n",
    "# solver.step(1)"
   ]
  },
  {
   "cell_type": "code",
   "execution_count": 16,
   "metadata": {
    "collapsed": true,
    "deletable": true,
    "editable": true
   },
   "outputs": [],
   "source": []
  }
 ],
 "metadata": {
  "anaconda-cloud": {},
  "kernelspec": {
   "display_name": "Python [default]",
   "language": "python",
   "name": "python2"
  },
  "language_info": {
   "codemirror_mode": {
    "name": "ipython",
    "version": 2
   },
   "file_extension": ".py",
   "mimetype": "text/x-python",
   "name": "python",
   "nbconvert_exporter": "python",
   "pygments_lexer": "ipython2",
   "version": "2.7.12"
  }
 },
 "nbformat": 4,
 "nbformat_minor": 1
}
