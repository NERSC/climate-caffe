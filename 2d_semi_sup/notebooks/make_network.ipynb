{
 "cells": [
  {
   "cell_type": "code",
   "execution_count": 1,
   "metadata": {
    "collapsed": false
   },
   "outputs": [
    {
     "name": "stdout",
     "output_type": "stream",
     "text": [
      "importing Jupyter notebook from layer_util.ipynb\n",
      "importing Jupyter notebook from network_defs.ipynb\n",
      "importing Jupyter notebook from network_architecture.ipynb\n",
      "importing Jupyter notebook from make_solver.ipynb\n"
     ]
    }
   ],
   "source": [
    "import matplotlib\n",
    "matplotlib.use(\"Agg\")\n",
    "import matplotlib.pyplot as plt\n",
    "\n",
    "import caffe\n",
    "\n",
    "from caffe import layers as L, params as P, to_proto\n",
    "\n",
    "from caffe.proto import caffe_pb2\n",
    "\n",
    "from caffe.coord_map import crop\n",
    "\n",
    "import copy\n",
    "from nbfinder import NotebookFinder\n",
    "import sys\n",
    "sys.meta_path.append(NotebookFinder())\n",
    "from layer_util import *\n",
    "from network_defs import *\n",
    "import numpy as np\n",
    "import h5py\n",
    "from make_solver import make_solver\n",
    "import argparse\n",
    "from os.path import join"
   ]
  },
  {
   "cell_type": "code",
   "execution_count": 2,
   "metadata": {
    "collapsed": true
   },
   "outputs": [],
   "source": []
  },
  {
   "cell_type": "code",
   "execution_count": 2,
   "metadata": {
    "collapsed": true
   },
   "outputs": [],
   "source": [
    "cl_args = {\"lr\": 0.00001,\n",
    "           \"num_epochs\": 20, \n",
    "           \"filters_scale\": 1./8,\n",
    "           \"data_dir\": \"extremely_small_dataset\", \n",
    "           \"save_dir\": \"/global/homes/r/racah/projects/climate-caffe/2d_semi_sup/notebooks/plots\" }"
   ]
  },
  {
   "cell_type": "code",
   "execution_count": 3,
   "metadata": {
    "collapsed": false
   },
   "outputs": [],
   "source": [
    "if any([\"jupyter\" in arg for arg in sys.argv]):\n",
    "    sys.argv=sys.argv[:1]\n",
    "    \n",
    "parser = argparse.ArgumentParser(formatter_class=argparse.ArgumentDefaultsHelpFormatter)\n",
    "for k,v in cl_args.iteritems():\n",
    "    parser.add_argument('--' + k, type=type(v), default=v, help=k)\n",
    "\n",
    "args = parser.parse_args()\n",
    "cl_args.update(args.__dict__)\n"
   ]
  },
  {
   "cell_type": "code",
   "execution_count": 4,
   "metadata": {
    "collapsed": false
   },
   "outputs": [
    {
     "name": "stdout",
     "output_type": "stream",
     "text": [
      "[16, 32, 64, 96, 128]\n",
      "[16, 32, 64, 96, 128]\n"
     ]
    }
   ],
   "source": [
    "basepath = \"/global/homes/r/racah/projects/climate-caffe/2d_semi_sup/notebooks/proto_files/\"\n",
    "\n",
    "tr_batch_size=4\n",
    "val_batch_size=16\n",
    "\n",
    "tr_pstr, tr_netspec, num_tr = make_netcdf_network(batch_size=tr_batch_size,\n",
    "                                                  prefix_dir=cl_args[\"data_dir\"],\n",
    "                                                  mode=\"tr\", \n",
    "                                                  filters_scale=cl_args[\"filters_scale\"] )\n",
    "\n",
    "\n",
    "\n",
    "_, tr_net_filepath = write_to_file(tr_netspec, filename=\"train\", basepath=basepath)\n",
    "\n",
    "val_pstr, val_netspec, num_val = make_netcdf_network(batch_size=val_batch_size,prefix_dir=cl_args[\"data_dir\"], mode=\"val\" ,filters_scale=cl_args[\"filters_scale\"])\n",
    "_, val_net_filepath = write_to_file(val_netspec, filename=\"val\", basepath=basepath, )"
   ]
  },
  {
   "cell_type": "code",
   "execution_count": 5,
   "metadata": {
    "collapsed": false
   },
   "outputs": [],
   "source": [
    "spstr,solver_filename = make_solver(net_path=basepath,base_lr=cl_args[\"lr\"],\n",
    "                                    train_file_name=\"train.prototxt\", \n",
    "                                    test_net_path=val_net_filepath, tr_num_examples=num_tr, \n",
    "                                    test_num_examples=num_val,tr_batch_size=tr_batch_size, \n",
    "                                    test_batch_size=val_batch_size, print_every_iteration=10000)"
   ]
  },
  {
   "cell_type": "code",
   "execution_count": 6,
   "metadata": {
    "collapsed": false
   },
   "outputs": [],
   "source": [
    "solver = caffe.SGDSolver(solver_filename)"
   ]
  },
  {
   "cell_type": "code",
   "execution_count": null,
   "metadata": {
    "collapsed": true
   },
   "outputs": [],
   "source": [
    "#%matplotlib inline"
   ]
  },
  {
   "cell_type": "code",
   "execution_count": 7,
   "metadata": {
    "collapsed": false
   },
   "outputs": [
    {
     "name": "stderr",
     "output_type": "stream",
     "text": [
      "\n",
      " Epoch 0: Final L_cls Loss =  0.473\n",
      " Epoch 0: Final L_obj Loss =  0.209\n",
      " Epoch 0: Final L_xy Loss =  0.937\n",
      " Epoch 0: Final L_wh Loss =  1.214\n",
      " Epoch 0: Final L_rec Loss = 5152172.500\n",
      " Epoch 0: Final final_loss Loss = 15.616\n",
      " Epoch 1: Final L_cls Loss =  0.451\n",
      " Epoch 1: Final L_obj Loss =  0.210\n",
      " Epoch 1: Final L_xy Loss =  0.548\n",
      " Epoch 1: Final L_wh Loss =  1.025\n",
      " Epoch 1: Final L_rec Loss = 4807546.000\n",
      " Epoch 1: Final final_loss Loss = 12.203\n",
      " Epoch 2: Final L_cls Loss =  0.447\n",
      " Epoch 2: Final L_obj Loss =  0.194\n",
      " Epoch 2: Final L_xy Loss =  0.298\n",
      " Epoch 2: Final L_wh Loss =  0.803\n",
      " Epoch 2: Final L_rec Loss = 4776087.500\n",
      " Epoch 2: Final final_loss Loss =  9.373\n",
      " Epoch 3: Final L_cls Loss =  0.447\n",
      " Epoch 3: Final L_obj Loss =  0.186\n",
      " Epoch 3: Final L_xy Loss =  0.119\n",
      " Epoch 3: Final L_wh Loss =  0.381\n",
      " Epoch 3: Final L_rec Loss = 4790243.000\n",
      " Epoch 3: Final final_loss Loss =  5.518\n",
      " Epoch 4: Final L_cls Loss =  0.442\n",
      " Epoch 4: Final L_obj Loss =  0.179\n",
      " Epoch 4: Final L_xy Loss =  0.106\n",
      " Epoch 4: Final L_wh Loss =  0.300\n",
      " Epoch 4: Final L_rec Loss = 4794344.000\n",
      " Epoch 4: Final final_loss Loss =  4.873\n",
      " Epoch 5: Final L_cls Loss =  0.436\n",
      " Epoch 5: Final L_obj Loss =  0.168\n",
      " Epoch 5: Final L_xy Loss =  0.077\n",
      " Epoch 5: Final L_wh Loss =  0.204\n",
      " Epoch 5: Final L_rec Loss = 4804615.500\n",
      " Epoch 5: Final final_loss Loss =  4.046"
     ]
    },
    {
     "ename": "KeyboardInterrupt",
     "evalue": "",
     "output_type": "error",
     "traceback": [
      "\u001b[0;31m---------------------------------------\u001b[0m",
      "\u001b[0;31mKeyboardInterrupt\u001b[0mTraceback (most recent call last)",
      "\u001b[0;32m<ipython-input-7-ce400bc9ea74>\u001b[0m in \u001b[0;36m<module>\u001b[0;34m()\u001b[0m\n\u001b[1;32m     14\u001b[0m     \u001b[0mlosses\u001b[0m\u001b[0;34m[\u001b[0m\u001b[0mstr\u001b[0m\u001b[0;34m(\u001b[0m\u001b[0mep\u001b[0m\u001b[0;34m)\u001b[0m \u001b[0;34m+\u001b[0m \u001b[0;34m\"_mean\"\u001b[0m\u001b[0;34m]\u001b[0m \u001b[0;34m=\u001b[0m \u001b[0;34m{\u001b[0m\u001b[0mk\u001b[0m\u001b[0;34m:\u001b[0m\u001b[0;36m0\u001b[0m \u001b[0;32mfor\u001b[0m \u001b[0mk\u001b[0m \u001b[0;32min\u001b[0m \u001b[0mloss_keys\u001b[0m\u001b[0;34m}\u001b[0m\u001b[0;34m\u001b[0m\u001b[0m\n\u001b[1;32m     15\u001b[0m     \u001b[0;32mfor\u001b[0m \u001b[0mit\u001b[0m \u001b[0;32min\u001b[0m \u001b[0mrange\u001b[0m\u001b[0;34m(\u001b[0m\u001b[0mtr_its_per_epoch\u001b[0m\u001b[0;34m)\u001b[0m\u001b[0;34m:\u001b[0m\u001b[0;34m\u001b[0m\u001b[0m\n\u001b[0;32m---> 16\u001b[0;31m         \u001b[0msolver\u001b[0m\u001b[0;34m.\u001b[0m\u001b[0mstep\u001b[0m\u001b[0;34m(\u001b[0m\u001b[0;36m1\u001b[0m\u001b[0;34m)\u001b[0m\u001b[0;34m\u001b[0m\u001b[0m\n\u001b[0m\u001b[1;32m     17\u001b[0m \u001b[0;34m\u001b[0m\u001b[0m\n\u001b[1;32m     18\u001b[0m         \u001b[0;32mfor\u001b[0m \u001b[0mk\u001b[0m \u001b[0;32min\u001b[0m \u001b[0mloss_keys\u001b[0m\u001b[0;34m:\u001b[0m\u001b[0;34m\u001b[0m\u001b[0m\n",
      "\u001b[0;31mKeyboardInterrupt\u001b[0m: "
     ]
    }
   ],
   "source": [
    "tr_its_per_epoch = int(float(num_tr) / tr_batch_size)\n",
    "val_its_per_epoch = int(float(num_val) / val_batch_size)\n",
    "num_epochs = cl_args[\"num_epochs\"]\n",
    "\n",
    "loss_keys = [\"L_cls\",\n",
    "\"L_obj\",\n",
    "\"L_xy\", \n",
    "\"L_wh\",\n",
    "\"L_rec\",\n",
    "\"final_loss\"]\n",
    "losses = {}\n",
    "for ep in range(num_epochs):\n",
    "    losses[ep] = {k:[] for k in loss_keys}\n",
    "    losses[str(ep) + \"_mean\"] = {k:0 for k in loss_keys}\n",
    "    for it in range(tr_its_per_epoch):\n",
    "        solver.step(1)\n",
    "\n",
    "        for k in loss_keys:\n",
    "            loss = np.float32(solver.net.blobs[k].data)\n",
    "            losses[ep][k].append(loss)\n",
    "            \n",
    "\n",
    "\n",
    "    losses[str(ep) + \"_mean\"] = {k:np.mean(losses[ep][k]) for k in loss_keys}\n",
    "    \n",
    "    \n",
    "    for k in loss_keys:\n",
    "        loss = losses[str(ep) + \"_mean\"][k]\n",
    "        sys.stderr.write(\"\\n Epoch %i: Final %s Loss = %6.3f\" % (ep, k, loss))\n",
    "        \n",
    "        \n",
    "        \n",
    "\n",
    "    \n",
    "    \n",
    "    suffix = \"learning_curve_lr_%8.6f_fs_%4.3f_%s.jpg\"%(cl_args[\"lr\"], cl_args[\"filters_scale\"], cl_args[\"data_dir\"])\n",
    "    plt.figure(1)\n",
    "    plt.plot([losses[str(epoch) + \"_mean\"][\"final_loss\"] for epoch in range(ep + 1)])\n",
    "    #plt.show()\n",
    "    plt.savefig(join(cl_args[\"save_dir\"],\"tr_\" + suffix))\n",
    "\n",
    "   \n",
    "    "
   ]
  },
  {
   "cell_type": "code",
   "execution_count": 9,
   "metadata": {
    "collapsed": false
   },
   "outputs": [
    {
     "name": "stdout",
     "output_type": "stream",
     "text": [
      "[NbConvertApp] Converting notebook make_network.ipynb to script\n",
      "[NbConvertApp] Writing 5039 bytes to make_network.py\n"
     ]
    }
   ],
   "source": [
    "#! jupyter nbconvert --to script make_network.ipynb"
   ]
  },
  {
   "cell_type": "code",
   "execution_count": null,
   "metadata": {
    "collapsed": true
   },
   "outputs": [],
   "source": []
  },
  {
   "cell_type": "code",
   "execution_count": 11,
   "metadata": {
    "collapsed": false
   },
   "outputs": [
    {
     "name": "stdout",
     "output_type": "stream",
     "text": [
      "[16, 32, 64, 96, 128]\n",
      "[16, 32, 64, 96, 128]\n"
     ]
    }
   ],
   "source": [
    "# gb_basedir = \"/project/projectdirs/dasrepo/gordon_bell/deep_learning/networks/climate/2d_semi_sup\"\n",
    "\n",
    "# tr_batch_size=4\n",
    "# val_batch_size=16\n",
    "\n",
    "# tr_pstr, tr_netspec, num_tr = make_netcdf_network(batch_size=tr_batch_size,\n",
    "#                                                   prefix_dir=cl_args[\"data_dir\"],\n",
    "#                                                   mode=\"tr\", \n",
    "#                                                   filters_scale=cl_args[\"filters_scale\"] )\n",
    "\n",
    "\n",
    "\n",
    "# _, tr_net_filepath = write_to_file(tr_netspec, filename=\"train\", basepath=gb_basedir)\n",
    "\n",
    "# val_pstr, val_netspec, num_val = make_netcdf_network(batch_size=val_batch_size,prefix_dir=cl_args[\"data_dir\"], mode=\"val\" ,filters_scale=cl_args[\"filters_scale\"])\n",
    "# _, val_net_filepath = write_to_file(val_netspec, filename=\"val\", basepath=gb_basedir, )\n",
    "\n",
    "# val_net_filepath = join(gb_basedir, \"val.prototxt\")\n",
    "\n",
    "# spstr,solver_filename = make_solver(net_path=gb_basedir,base_lr=cl_args[\"lr\"],\n",
    "#                                     train_file_name=\"train.prototxt\", \n",
    "#                                     test_net_path=val_net_filepath, tr_num_examples=num_tr, \n",
    "#                                     test_num_examples=num_val,tr_batch_size=tr_batch_size, \n",
    "#                                     test_batch_size=val_batch_size, print_every_iteration=10000)\n",
    "\n",
    "# solver = caffe.SGDSolver(solver_filename)\n",
    "\n",
    "# solver.step(1)"
   ]
  },
  {
   "cell_type": "code",
   "execution_count": null,
   "metadata": {
    "collapsed": true
   },
   "outputs": [],
   "source": []
  }
 ],
 "metadata": {
  "anaconda-cloud": {},
  "kernelspec": {
   "display_name": "Python [default]",
   "language": "python",
   "name": "python2"
  },
  "language_info": {
   "codemirror_mode": {
    "name": "ipython",
    "version": 2
   },
   "file_extension": ".py",
   "mimetype": "text/x-python",
   "name": "python",
   "nbconvert_exporter": "python",
   "pygments_lexer": "ipython2",
   "version": "2.7.12"
  }
 },
 "nbformat": 4,
 "nbformat_minor": 1
}
