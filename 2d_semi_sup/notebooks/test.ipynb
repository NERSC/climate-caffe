{
 "cells": [
  {
   "cell_type": "code",
   "execution_count": 1,
   "metadata": {
    "collapsed": false,
    "deletable": true,
    "editable": true
   },
   "outputs": [],
   "source": [
    "import caffe\n",
    "import sys\n",
    "import argparse"
   ]
  },
  {
   "cell_type": "code",
   "execution_count": null,
   "metadata": {
    "collapsed": false,
    "deletable": true,
    "editable": true
   },
   "outputs": [],
   "source": [
    "if __name__ == \"__main__\":\n",
    "    def get_cl_args():\n",
    "        cl_args = {\"path_to_caffemodel\":\"/project/projectdirs/dasrepo/gordon_bell/deep_learning/networks/climate/2d_semi_sup/models/_iter_10.caffemodel\",\n",
    "                    \"path_to_caffe_prototxt\":\"/project/projectdirs/dasrepo/gordon_bell/deep_learning/networks/climate/2d_semi_sup/train_intel_goodperf_vanilla.prototxt\"}\n",
    "\n",
    "        if any([\"jupyter\" in arg for arg in sys.argv]):\n",
    "            sys.argv=sys.argv[:1]\n",
    "\n",
    "        parser = argparse.ArgumentParser(formatter_class=argparse.ArgumentDefaultsHelpFormatter)\n",
    "        for k,v in cl_args.iteritems():\n",
    "            parser.add_argument('--' + k, type=type(v), default=v, help=k)\n",
    "\n",
    "        args = parser.parse_args()\n",
    "        cl_args.update(args.__dict__)\n",
    "        return cl_args\n",
    "\n",
    "    cl_args = get_cl_args()\n",
    "    net = caffe.Net(cl_args[\"path_to_caffe_prototxt\"],\n",
    "                    cl_args[\"path_to_caffemodel\"], \n",
    "                    caffe.TEST)\n",
    "    "
   ]
  },
  {
   "cell_type": "code",
   "execution_count": null,
   "metadata": {
    "collapsed": true,
    "deletable": true,
    "editable": true
   },
   "outputs": [],
   "source": []
  }
 ],
 "metadata": {
  "kernelspec": {
   "display_name": "Python 2",
   "language": "python",
   "name": "python2"
  },
  "language_info": {
   "codemirror_mode": {
    "name": "ipython",
    "version": 2
   },
   "file_extension": ".py",
   "mimetype": "text/x-python",
   "name": "python",
   "nbconvert_exporter": "python",
   "pygments_lexer": "ipython2",
   "version": "2.7.13"
  }
 },
 "nbformat": 4,
 "nbformat_minor": 2
}
