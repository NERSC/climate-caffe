{
 "cells": [
  {
   "cell_type": "code",
   "execution_count": 1,
   "metadata": {
    "collapsed": false
   },
   "outputs": [
    {
     "name": "stdout",
     "output_type": "stream",
     "text": [
      "importing Jupyter notebook from layer_util.ipynb\n",
      "importing Jupyter notebook from network_defs.ipynb\n",
      "importing Jupyter notebook from network_architecture.ipynb\n",
      "importing Jupyter notebook from make_solver.ipynb\n"
     ]
    }
   ],
   "source": [
    "import matplotlib\n",
    "matplotlib.use(\"Agg\")\n",
    "import matplotlib.pyplot as plt\n",
    "\n",
    "import caffe\n",
    "\n",
    "from caffe import layers as L, params as P, to_proto\n",
    "\n",
    "from caffe.proto import caffe_pb2\n",
    "\n",
    "from caffe.coord_map import crop\n",
    "\n",
    "import copy\n",
    "from nbfinder import NotebookFinder\n",
    "import sys\n",
    "sys.meta_path.append(NotebookFinder())\n",
    "from layer_util import *\n",
    "from network_defs import *\n",
    "import numpy as np\n",
    "import h5py\n",
    "from make_solver import make_solver\n",
    "import argparse\n",
    "from os.path import join"
   ]
  },
  {
   "cell_type": "code",
   "execution_count": 2,
   "metadata": {
    "collapsed": true
   },
   "outputs": [],
   "source": [
    "#%matplotlib inline"
   ]
  },
  {
   "cell_type": "code",
   "execution_count": 3,
   "metadata": {
    "collapsed": true
   },
   "outputs": [],
   "source": [
    "cl_args = {\"lr\": 0.01,\n",
    "           \"num_epochs\": 20, \n",
    "           \"filters_scale\": 1./8,\n",
    "           \"data_dir\": \"smallish_dataset\", \n",
    "           \"save_dir\": \"/global/homes/r/racah/projects/climate-caffe/2d_semi_sup/notebooks/plots\" }"
   ]
  },
  {
   "cell_type": "code",
   "execution_count": 4,
   "metadata": {
    "collapsed": false
   },
   "outputs": [],
   "source": [
    "if any([\"jupyter\" in arg for arg in sys.argv]):\n",
    "    sys.argv=sys.argv[:1]\n",
    "    \n",
    "parser = argparse.ArgumentParser(formatter_class=argparse.ArgumentDefaultsHelpFormatter)\n",
    "for k,v in cl_args.iteritems():\n",
    "    parser.add_argument('--' + k, type=type(v), default=v, help=k)\n",
    "\n",
    "args = parser.parse_args()\n",
    "cl_args.update(args.__dict__)\n"
   ]
  },
  {
   "cell_type": "code",
   "execution_count": 5,
   "metadata": {
    "collapsed": true
   },
   "outputs": [],
   "source": [
    "basepath = \"/global/homes/r/racah/projects/climate-caffe/2d_semi_sup/notebooks/proto_files/\"\n",
    "\n",
    "tr_batch_size=4\n",
    "val_batch_size=16"
   ]
  },
  {
   "cell_type": "code",
   "execution_count": 6,
   "metadata": {
    "collapsed": false
   },
   "outputs": [
    {
     "name": "stdout",
     "output_type": "stream",
     "text": [
      "[16, 32, 64, 96, 128]\n",
      "<caffe.net_spec.NetSpec object at 0x2b2ac4954290>\n",
      "[16, 32, 64, 96, 128]\n",
      "<caffe.net_spec.NetSpec object at 0x2b2a48b31a50>\n"
     ]
    }
   ],
   "source": [
    "tr_pstr, tr_netspec, num_tr = make_netcdf_network(batch_size=tr_batch_size,\n",
    "                                                  prefix_dir=cl_args[\"data_dir\"],\n",
    "                                                  mode=\"tr\", \n",
    "                                                  filters_scale=cl_args[\"filters_scale\"] )\n",
    "\n",
    "\n",
    "\n",
    "_, tr_net_filepath = write_to_file(tr_netspec, filename=\"train\", basepath=basepath)\n",
    "\n",
    "val_pstr, val_netspec, num_val = make_netcdf_network(batch_size=val_batch_size,prefix_dir=cl_args[\"data_dir\"], mode=\"val\" ,filters_scale=cl_args[\"filters_scale\"])\n",
    "_, val_net_filepath = write_to_file(val_netspec, filename=\"val\", basepath=basepath, )"
   ]
  },
  {
   "cell_type": "code",
   "execution_count": 7,
   "metadata": {
    "collapsed": false
   },
   "outputs": [],
   "source": [
    "spstr,solver_filename = make_solver(net_path=basepath,base_lr=cl_args[\"lr\"],\n",
    "                                    train_file_name=\"train.prototxt\", \n",
    "                                    test_net_path=val_net_filepath, tr_num_examples=num_tr, \n",
    "                                    test_num_examples=num_val,tr_batch_size=tr_batch_size, \n",
    "                                    test_batch_size=val_batch_size, print_every_iteration=10000)"
   ]
  },
  {
   "cell_type": "code",
   "execution_count": 8,
   "metadata": {
    "collapsed": false
   },
   "outputs": [],
   "source": [
    "solver = caffe.SGDSolver(solver_filename)"
   ]
  },
  {
   "cell_type": "code",
   "execution_count": 13,
   "metadata": {
    "collapsed": true
   },
   "outputs": [],
   "source": [
    "outputs = ['xy_pred',\n",
    " 'wh_pred',\n",
    " 'xy_gt',\n",
    " 'wh_gt',\n",
    " 'class_scores_copy',\n",
    " 'obj_scores_copy',\n",
    " 'gcls',\n",
    " 'gobj']"
   ]
  },
  {
   "cell_type": "code",
   "execution_count": 19,
   "metadata": {
    "collapsed": false
   },
   "outputs": [
    {
     "name": "stdout",
     "output_type": "stream",
     "text": [
      "xy_pred (4, 2, 24, 24)\n",
      "wh_pred (4, 2, 24, 24)\n",
      "xy_gt (4, 2, 24, 24)\n",
      "wh_gt (4, 2, 24, 24)\n",
      "class_scores_copy (4, 4, 24, 24)\n",
      "obj_scores_copy (4, 2, 24, 24)\n",
      "gcls (4, 1, 24, 24)\n",
      "gobj (4, 1, 24, 24)\n"
     ]
    }
   ],
   "source": [
    "for output in outputs:\n",
    "    op = solver.net.blobs[output]\n",
    "    print output, op.data.shape"
   ]
  },
  {
   "cell_type": "code",
   "execution_count": null,
   "metadata": {
    "collapsed": true
   },
   "outputs": [],
   "source": []
  },
  {
   "cell_type": "code",
   "execution_count": null,
   "metadata": {
    "collapsed": false
   },
   "outputs": [],
   "source": [
    "tr_its_per_epoch = int(float(num_tr) / tr_batch_size)\n",
    "val_its_per_epoch = int(float(num_val) / val_batch_size)\n",
    "tr_ep_losses = []\n",
    "test_ep_losses = []\n",
    "it_losses = []\n",
    "# cls_losses = []\n",
    "# rec_losses = []\n",
    "num_epochs = cl_args[\"num_epochs\"]\n",
    "for ep in range(num_epochs):\n",
    "    for _ in range(tr_its_per_epoch):\n",
    "        solver.step(1)\n",
    "\n",
    "        loss = np.float32(solver.net.blobs['final_loss'].data)\n",
    "        #rec_losses.append(np.float32(solver.net.blobs['L_rec'].data))\n",
    "        #cls_losses.append(np.float32(solver.net.blobs['L_cls'].data))\n",
    "        it_losses.append(loss)\n",
    "    \n",
    "\n",
    "    #sys.stderr.write(\"TR CLS LOSS: \" + str(np.mean(cls_losses)))\n",
    "    #print \"TR REC LOSS: \", np.mean(rec_losses)\n",
    "    ep_loss = np.mean(it_losses)\n",
    "    \n",
    "    sys.stderr.write(\"\\nEPOCH TR: \" + str(ep_loss))\n",
    "    tr_ep_losses.append(ep_loss)\n",
    "    it_losses = []\n",
    "#     cls_losses = []\n",
    "#     rec_losses = []\n",
    "    \n",
    "    \n",
    "#     for _ in range(val_its_per_epoch):\n",
    "#         tn=solver.test_nets[0]\n",
    "#         loss = np.float32(tn.forward()[\"final_loss\"].data)\n",
    "#         it_losses.append(loss)\n",
    "    \n",
    "#     test_ep_loss = np.mean(it_losses)\n",
    "#     test_ep_losses.append(test_ep_loss)\n",
    "#     sys.stderr.write(\"\\nEPOCH VAL: \" + str(test_ep_loss))\n",
    "#     it_losses = []\n",
    "    \n",
    "    \n",
    "    suffix = \"learning_curve_lr_%4.2f_fs_%4.3f_%s.jpg\"%(cl_args[\"lr\"], cl_args[\"filters_scale\"], cl_args[\"data_dir\"])\n",
    "    plt.figure(1)\n",
    "    plt.plot(tr_ep_losses)\n",
    "    plt.savefig(join(cl_args[\"save_dir\"],\"tr_\" + suffix))\n",
    "#     plt.figure(2)\n",
    "#     plt.plot(test_ep_losses)\n",
    "#     plt.savefig(join(cl_args[\"save_dir\"],\"val_\" + suffix))\n",
    "   \n",
    "    "
   ]
  },
  {
   "cell_type": "code",
   "execution_count": 9,
   "metadata": {
    "collapsed": false
   },
   "outputs": [
    {
     "name": "stdout",
     "output_type": "stream",
     "text": [
      "[NbConvertApp] Converting notebook make_network.ipynb to script\n",
      "[NbConvertApp] Writing 4685 bytes to make_network.py\n"
     ]
    }
   ],
   "source": [
    "#! jupyter nbconvert --to script make_network.ipynb"
   ]
  },
  {
   "cell_type": "code",
   "execution_count": 15,
   "metadata": {
    "collapsed": true
   },
   "outputs": [],
   "source": [
    "# gb_basedir = \"/project/projectdirs/dasrepo/gordon_bell/deep_learning/networks/climate/2d_semi_sup\"\n",
    "\n",
    "# val_net_filepath = join(gb_basedir, \"val.prototxt\")\n",
    "\n",
    "# spstr,solver_filename = make_solver(net_path=gb_basedir,base_lr=cl_args[\"lr\"],\n",
    "#                                     train_file_name=\"train.prototxt\", \n",
    "#                                     test_net_path=val_net_filepath, tr_num_examples=num_tr, \n",
    "#                                     test_num_examples=num_val,tr_batch_size=tr_batch_size, \n",
    "#                                     test_batch_size=val_batch_size, print_every_iteration=10000)"
   ]
  },
  {
   "cell_type": "code",
   "execution_count": null,
   "metadata": {
    "collapsed": true
   },
   "outputs": [],
   "source": []
  }
 ],
 "metadata": {
  "anaconda-cloud": {},
  "kernelspec": {
   "display_name": "Python [default]",
   "language": "python",
   "name": "python2"
  },
  "language_info": {
   "codemirror_mode": {
    "name": "ipython",
    "version": 2
   },
   "file_extension": ".py",
   "mimetype": "text/x-python",
   "name": "python",
   "nbconvert_exporter": "python",
   "pygments_lexer": "ipython2",
   "version": "2.7.12"
  }
 },
 "nbformat": 4,
 "nbformat_minor": 1
}
