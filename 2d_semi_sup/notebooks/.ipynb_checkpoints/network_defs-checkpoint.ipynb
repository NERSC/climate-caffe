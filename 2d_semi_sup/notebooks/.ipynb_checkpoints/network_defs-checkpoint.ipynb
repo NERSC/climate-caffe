{
 "cells": [
  {
   "cell_type": "code",
   "execution_count": 1,
   "metadata": {
    "collapsed": false
   },
   "outputs": [
    {
     "name": "stdout",
     "output_type": "stream",
     "text": [
      "importing Jupyter notebook from layer_util.ipynb\n",
      "importing Jupyter notebook from network_architecture.ipynb\n",
      "importing Jupyter notebook from loss_acc.ipynb\n"
     ]
    }
   ],
   "source": [
    "import caffe\n",
    "\n",
    "from caffe import layers as L, params as P, to_proto\n",
    "\n",
    "from caffe.proto import caffe_pb2\n",
    "\n",
    "from caffe.coord_map import crop\n",
    "\n",
    "import copy\n",
    "from nbfinder import NotebookFinder\n",
    "import sys\n",
    "sys.meta_path.append(NotebookFinder())\n",
    "from layer_util import *\n",
    "from network_architecture import *"
   ]
  },
  {
   "cell_type": "code",
   "execution_count": 3,
   "metadata": {
    "collapsed": true
   },
   "outputs": [],
   "source": [
    "\n",
    "\n",
    "net_vars = [\"PRECT\",\n",
    "\"PS\",\n",
    "\"PSL\",\n",
    "\"QREFHT\",\n",
    "\"T200\",\n",
    "\"T500\",\n",
    "\"TMQ\",\n",
    "\"TREFHT\",\n",
    "\"TS\",\n",
    "\"U850\",\n",
    "\"UBOT\",\n",
    "\"V850\",\n",
    "\"VBOT\",\n",
    "\"Z1000\",\n",
    "\"Z200\",\n",
    "\"ZBOT\"]"
   ]
  },
  {
   "cell_type": "code",
   "execution_count": 1,
   "metadata": {
    "collapsed": false
   },
   "outputs": [],
   "source": [
    "lbl_vars = [ \"x_coord\",\n",
    "            \"y_coord\",\n",
    "            \"w_coord\",\n",
    "            \"h_coord\",\n",
    "            \"obj\",\n",
    "            \"cls\" ]"
   ]
  },
  {
   "cell_type": "code",
   "execution_count": 18,
   "metadata": {
    "collapsed": false
   },
   "outputs": [],
   "source": [
    "\n",
    "def make_netcdf_network(inp_x = 768,inp_y=768,num_classes=4, name=\"netcdf\", batch_size=16):\n",
    "    num_channels = len(net_vars)\n",
    "\n",
    "\n",
    "    n = caffe.NetSpec()\n",
    "    n.data = L.NetCDFData(source=\"/project/projectdirs/dasrepo/gordon_bell/deep_learning/networks/climate/2d_semi_sup/image_files.txt\",\n",
    "                       variable_data=net_vars, time_stride=1,crop_stride=32,\n",
    "                        batch_size=batch_size, name=\"labelled_data\",xdim=768, ydim=768, \n",
    "                          crop_index_source=\"/project/projectdirs/dasrepo/gordon_bell/deep_learning/networks/climate/2d_semi_sup/crop_indices.txt\")\n",
    "    n.label = L.NetCDFData(source=\"/project/projectdirs/dasrepo/gordon_bell/deep_learning/networks/climate/2d_semi_sup/label_files.txt\",\n",
    "                       variable_data=lbl_vars, time_stride=1,\n",
    "                        batch_size=batch_size, name=\"labelled_data\",xdim=24, ydim=24,\n",
    "                          crop_index_source=\"/project/projectdirs/dasrepo/gordon_bell/deep_learning/networks/climate/2d_semi_sup/crop_indices.txt\")\n",
    "    \n",
    "    n.data = L.MVN(n.data)\n",
    "    nfilters_list = [128, 256, 512, 768, 1024] #, 1280]\n",
    "    \n",
    "    \n",
    "    \n",
    "    \n",
    "    \n",
    "    n = create_net(n,n.data,nfilters_list, num_classes, num_channels)\n",
    "    n = make_loss(n)\n",
    "\n",
    "    pstr, fn = write_to_file(n, name)\n",
    "    return pstr, fn, n\n",
    "    \n",
    "\n",
    "    \n",
    "\n",
    "\n",
    "\n",
    "def make_dummy_network(inp_x = 768,inp_y=1152,lbl_ch = (4,4,2),batch_size=2, num_layers=6, name=\"sm_sq_2d\"):\n",
    "    nfilters_list = [128, 256, 512, 768, 1024, 1280]\n",
    "    n = caffe.NetSpec()\n",
    "    n.data = L.DummyData(shape={'dim':[batch_size,16,inp_x,inp_y]}, data_filler={\"type\":\"gaussian\", \"mean\":0, \"std\":1})\n",
    "    lbl_x = inp_x / 64\n",
    "    lbl_y = inp_y / 64\n",
    "    n.label1 = L.DummyData(shape={'dim':[batch_size,lbl_ch[0],lbl_x, lbl_y]}, data_filler={\"type\":\"gaussian\", \"mean\":0, \"std\":1})\n",
    "    n.label2 = L.DummyData(shape={'dim':[batch_size,lbl_ch[1],lbl_x, lbl_y]}, data_filler={\"type\":\"gaussian\", \"mean\":0, \"std\":1})\n",
    "    n.label3 = L.DummyData(shape={'dim':[batch_size,lbl_ch[2],lbl_x, lbl_y]}, data_filler={\"type\":\"gaussian\", \"mean\":0, \"std\":1})\n",
    "    n.label = L.Concat(n.label1, n.label2, n.label3)\n",
    "    n = create_net(n,n.data,nfilters_list, lbl_ch, num_chanels=16)\n",
    "    n = make_loss(n)\n",
    "\n",
    "\n",
    "\n",
    "    pstr, fn = write_to_file(n, name)\n",
    "    return pstr, fn, n\n",
    "\n"
   ]
  },
  {
   "cell_type": "code",
   "execution_count": 6,
   "metadata": {
    "collapsed": false
   },
   "outputs": [],
   "source": [
    "# n = caffe.NetSpec()\n",
    "# n.data = L.NetCDFData(source=\"/global/homes/r/racah/projects/climate-caffe/2d_semi_sup/source_files.txt\",\n",
    "#                        variable_data=net_vars, time_stride=2,\n",
    "#                         batch_size=4, name=\"foo\")"
   ]
  }
 ],
 "metadata": {
  "anaconda-cloud": {},
  "kernelspec": {
   "display_name": "Python [default]",
   "language": "python",
   "name": "python2"
  },
  "language_info": {
   "codemirror_mode": {
    "name": "ipython",
    "version": 2
   },
   "file_extension": ".py",
   "mimetype": "text/x-python",
   "name": "python",
   "nbconvert_exporter": "python",
   "pygments_lexer": "ipython2",
   "version": "2.7.12"
  }
 },
 "nbformat": 4,
 "nbformat_minor": 1
}
