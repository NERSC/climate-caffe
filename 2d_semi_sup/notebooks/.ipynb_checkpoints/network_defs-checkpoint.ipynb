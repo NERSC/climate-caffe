{
 "cells": [
  {
   "cell_type": "code",
   "execution_count": 1,
   "metadata": {
    "collapsed": false,
    "deletable": true,
    "editable": true
   },
   "outputs": [
    {
     "name": "stdout",
     "output_type": "stream",
     "text": [
      "importing Jupyter notebook from layer_util.ipynb\n",
      "importing Jupyter notebook from network_architecture.ipynb\n"
     ]
    }
   ],
   "source": [
    "import caffe\n",
    "from caffe import layers as L, params as P, to_proto\n",
    "from caffe.proto import caffe_pb2\n",
    "from caffe.coord_map import crop\n",
    "import copy\n",
    "from nbfinder import NotebookFinder\n",
    "import sys\n",
    "sys.meta_path.append(NotebookFinder())\n",
    "from layer_util import *\n",
    "from network_architecture import *\n",
    "from os.path import join"
   ]
  },
  {
   "cell_type": "code",
   "execution_count": 3,
   "metadata": {
    "collapsed": true,
    "deletable": true,
    "editable": true
   },
   "outputs": [],
   "source": [
    "net_vars = [\"PRECT\",\"PS\",\"PSL\",\"QREFHT\",\"T200\",\"T500\",\"TMQ\",\"TREFHT\",\"TS\",\"U850\",\"UBOT\",\"V850\",\"VBOT\",\"Z1000\",\"Z200\",\"ZBOT\"]"
   ]
  },
  {
   "cell_type": "code",
   "execution_count": 1,
   "metadata": {
    "collapsed": false,
    "deletable": true,
    "editable": true
   },
   "outputs": [],
   "source": [
    "lbl_vars = [ \"x_coord\",\"y_coord\",\"w_coord\",\"h_coord\",\"obj\",\"cls\" ]"
   ]
  },
  {
   "cell_type": "code",
   "execution_count": 1,
   "metadata": {
    "collapsed": true,
    "deletable": true,
    "editable": true
   },
   "outputs": [],
   "source": [
    "def make_netcdf_network(inp_x = 768,inp_y=768,\n",
    "                        num_classes=4, \n",
    "                        name=\"netcdf\",\n",
    "                        batch_size=16, \n",
    "                        prefix_path=\"/project/projectdirs/dasrepo/gordon_bell/deep_learning/networks/climate/2d_semi_sup\",\n",
    "                        prefix_dir=\"smaller_dataset\", \n",
    "                        mode=\"tr\", \n",
    "                        filters_scale=1./8,\n",
    "                       dummy_data=False):\n",
    "    \n",
    "    prefix = join(prefix_path, prefix_dir)\n",
    "    num_channels = len(net_vars)\n",
    "    time_stride =1\n",
    "    n = caffe.NetSpec()\n",
    "    n.data = L.NetCDFData(source=join(prefix,mode+\"_image_files.txt\"),\n",
    "                       variable_data=net_vars, time_stride=time_stride,crop_stride=32,\n",
    "                        batch_size=batch_size, name=\"labelled_data\",xdim=768, ydim=768, \n",
    "                          crop_index_source=join(prefix,mode+\"_crop_indices.txt\"))\n",
    "\n",
    "    n.label = L.NetCDFData(source=join(prefix,mode+\"_label_files.txt\"),\n",
    "                       variable_data=lbl_vars, time_stride=time_stride,\n",
    "                        batch_size=batch_size, name=\"labelled_data\",xdim=24, ydim=24,\n",
    "                          crop_index_source=join(prefix,mode+\"_crop_indices.txt\"))\n",
    "    \n",
    "    n.normalized_data = L.MVN(n.data)\n",
    "    nfilters_list = [128, 256, 512, 768, 1024]\n",
    "    nfilters_list = [int(f * filters_scale) for f in nfilters_list]\n",
    "    print nfilters_list\n",
    "    \n",
    "    num_examples = get_num_examples(join(prefix,mode+\"_image_files.txt\"), time_stride=time_stride)    \n",
    "    n = create_net(n,nfilters_list, num_classes, num_channels)\n",
    "    n = make_loss(n)\n",
    "    pstr = convert_layer_to_prototxt(n)\n",
    "    return pstr, n, num_examples\n",
    "    \n",
    "\n",
    "    "
   ]
  },
  {
   "cell_type": "code",
   "execution_count": 1,
   "metadata": {
    "collapsed": true,
    "deletable": true,
    "editable": true
   },
   "outputs": [],
   "source": [
    "def get_num_examples(txt_file, time_stride=1, examples_per_file=8):\n",
    "    with open(txt_file, 'r') as f:\n",
    "        num_examples = len(f.readlines()) * (examples_per_file / time_stride)\n",
    "    return num_examples\n",
    "        "
   ]
  }
 ],
 "metadata": {
  "anaconda-cloud": {},
  "kernelspec": {
   "display_name": "Python 2",
   "language": "python",
   "name": "python2"
  },
  "language_info": {
   "codemirror_mode": {
    "name": "ipython",
    "version": 2
   },
   "file_extension": ".py",
   "mimetype": "text/x-python",
   "name": "python",
   "nbconvert_exporter": "python",
   "pygments_lexer": "ipython2",
   "version": "2.7.13"
  }
 },
 "nbformat": 4,
 "nbformat_minor": 1
}
