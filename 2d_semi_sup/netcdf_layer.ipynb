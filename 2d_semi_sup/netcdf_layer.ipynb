{
 "cells": [
  {
   "cell_type": "code",
   "execution_count": 3,
   "metadata": {
    "collapsed": false
   },
   "outputs": [],
   "source": [
    "import caffe\n",
    "import numpy as np\n",
    "import netCDF4\n",
    "import json"
   ]
  },
  {
   "cell_type": "code",
   "execution_count": 9,
   "metadata": {
    "collapsed": true
   },
   "outputs": [],
   "source": [
    "netf_path = \"/project/projectdirs/dasrepo/gordon_bell/deep_learning/data/climate/CAM5_0.25/climo/big_images/netcdf_files/1979/\""
   ]
  },
  {
   "cell_type": "code",
   "execution_count": 10,
   "metadata": {
    "collapsed": false
   },
   "outputs": [],
   "source": [
    "fil = \"cam5_1_amip_run2.cam2.h2.1979-01-01-00000.nc\""
   ]
  },
  {
   "cell_type": "code",
   "execution_count": 11,
   "metadata": {
    "collapsed": true
   },
   "outputs": [],
   "source": [
    "test_ncdf_file = netf_path + \"/\" + fil"
   ]
  },
  {
   "cell_type": "code",
   "execution_count": 2,
   "metadata": {
    "collapsed": true
   },
   "outputs": [],
   "source": [
    "class NetCDFDataLayer(caffe.Layer):\n",
    "    def setup(self,bottom,top):\n",
    "        param = json.loads( self.param_str ) # use JSON to convert string to dict\n",
    "        self.path = param['path']\n",
    "        self.x_var = param['x_var']\n",
    "        self.y_var = param['y_var']\n",
    "        self.batch_size = int(param['batch_size'])\n",
    "        self.dataset = netCDF4.Dataset(self.path)\n",
    "    def reshape(self,bottom,top):\n",
    "        # no \"bottom\"s for input layer\n",
    "        if len(bottom)>0:\n",
    "            raise Exception('cannot have bottoms for input layer')\n",
    "        # make sure you have the right number of \"top\"s\n",
    "        if len(top)!= 2\n",
    "           raise Exception('must have data and label')\n",
    "        #top[0].reshape( ... ) # reshape the outputs to the proper sizes\n",
    "\n",
    "    def forward(self,bottom,top): \n",
    "        # do your magic here... feed **one** batch to `top`\n",
    "        for ind in range(0,)\n",
    "        top[0].data[...] = self.dataset.variables[self.x_var][:]\n",
    "        top[1].data[...] = self.dataset.variables[self.y_var][:]\n",
    "\n",
    "\n",
    "    def backward(self, top, propagate_down, bottom):\n",
    "    # no back-prop for input layers\n",
    "    pass\n"
   ]
  },
  {
   "cell_type": "code",
   "execution_count": 14,
   "metadata": {
    "collapsed": false
   },
   "outputs": [],
   "source": [
    "nd = netCDF4.Dataset(test_ncdf_file)"
   ]
  },
  {
   "cell_type": "code",
   "execution_count": 17,
   "metadata": {
    "collapsed": false
   },
   "outputs": [
    {
     "data": {
      "text/plain": [
       "(8, 768, 1152)"
      ]
     },
     "execution_count": 17,
     "metadata": {},
     "output_type": "execute_result"
    }
   ],
   "source": [
    "nd.variables['TMQ'].shape"
   ]
  },
  {
   "cell_type": "code",
   "execution_count": null,
   "metadata": {
    "collapsed": true
   },
   "outputs": [],
   "source": []
  }
 ],
 "metadata": {
  "anaconda-cloud": {},
  "kernelspec": {
   "display_name": "Python [default]",
   "language": "python",
   "name": "python2"
  },
  "language_info": {
   "codemirror_mode": {
    "name": "ipython",
    "version": 2
   },
   "file_extension": ".py",
   "mimetype": "text/x-python",
   "name": "python",
   "nbconvert_exporter": "python",
   "pygments_lexer": "ipython2",
   "version": "2.7.12"
  }
 },
 "nbformat": 4,
 "nbformat_minor": 1
}
