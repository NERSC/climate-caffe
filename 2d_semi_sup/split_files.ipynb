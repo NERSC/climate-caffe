{
 "cells": [
  {
   "cell_type": "code",
   "execution_count": 1,
   "metadata": {
    "collapsed": true
   },
   "outputs": [],
   "source": [
    "import sys"
   ]
  },
  {
   "cell_type": "code",
   "execution_count": 2,
   "metadata": {
    "collapsed": false
   },
   "outputs": [],
   "source": [
    "import argparse\n",
    "import os\n",
    "from os.path import join, basename\n",
    "import random\n",
    "import shutil"
   ]
  },
  {
   "cell_type": "code",
   "execution_count": 3,
   "metadata": {
    "collapsed": false
   },
   "outputs": [],
   "source": [
    "cl_args = { \"num_nodes\": 64,\n",
    "            \"path_to_files\": \"/global/cscratch1/sd/racah/climate_data/\",\n",
    "            \"master_file_path\": \"/project/projectdirs/dasrepo/gordon_bell/deep_learning/networks/climate/2d_semi_sup/master_file_lists/\",\n",
    "            \"files_dest_dir\": \"/project/projectdirs/dasrepo/gordon_bell/deep_learning/networks/climate/2d_semi_sup/multinode_runs/file_list_files\",\n",
    "            \"prototxt_dest_dir\": \"/project/projectdirs/dasrepo/gordon_bell/deep_learning/networks/climate/2d_semi_sup/multinode_runs/prototxt_files\",\n",
    "            \"seed\": 3,\n",
    "           \"split_tr_val_test\":False,\n",
    "           \"prototxt_split\": True,\n",
    "           \"file_split\": True,\n",
    "           \"num_crops\": 2,\n",
    "           \"solver_filepath\":\"/project/projectdirs/dasrepo/gordon_bell/deep_learning/networks/climate/2d_semi_sup/solver.prototxt\",\n",
    "           \"model_filepath\":\"/project/projectdirs/dasrepo/gordon_bell/deep_learning/networks/climate/2d_semi_sup/train.prototxt\"}"
   ]
  },
  {
   "cell_type": "code",
   "execution_count": 4,
   "metadata": {
    "collapsed": true
   },
   "outputs": [],
   "source": [
    "def get_cl_args():\n",
    "\n",
    "\n",
    "    if any([\"jupyter\" in arg for arg in sys.argv]):\n",
    "        sys.argv=sys.argv[:1]\n",
    "\n",
    "    parser = argparse.ArgumentParser(formatter_class=argparse.ArgumentDefaultsHelpFormatter)\n",
    "    for k,v in cl_args.iteritems():\n",
    "        if type(v) is not bool:\n",
    "            parser.add_argument('--' + k, type=type(v), default=v, help=k)\n",
    "        else:\n",
    "            parser.add_argument('--' + k,default=v, action='store_true')\n",
    "\n",
    "    args = parser.parse_args()\n",
    "    cl_args.update(args.__dict__)\n",
    "    return cl_args\n"
   ]
  },
  {
   "cell_type": "code",
   "execution_count": 5,
   "metadata": {
    "collapsed": false
   },
   "outputs": [],
   "source": [
    "def get_list_of_every_file(basepath):\n",
    "    images = []\n",
    "    labels = []\n",
    "    for dir_ in os.listdir(basepath):\n",
    "        ims = get_sorted_list_in_dir(join(basepath,dir_, \"images\"))\n",
    "        images.extend(ims)\n",
    "        lbls = get_sorted_list_in_dir(join(basepath,dir_, \"labels\"))\n",
    "        labels.extend(lbls)\n",
    "    file_pairs = zip(images,labels) \n",
    "    check_matching(pairs=file_pairs)\n",
    "\n",
    "    return file_pairs\n",
    "        "
   ]
  },
  {
   "cell_type": "code",
   "execution_count": 6,
   "metadata": {
    "collapsed": true
   },
   "outputs": [],
   "source": [
    "def check_matching(pairs):\n",
    "    for im,lbl in pairs:\n",
    "        im_name = basename(im).split(\".nc\")[0]\n",
    "        lbl_name = basename(lbl).split(\"_label.nc\")[0]\n",
    "        if im_name != lbl_name:\n",
    "            assert False, \"HEY! The pairing is wrong: %s does not match %s\"%(im,lbl)"
   ]
  },
  {
   "cell_type": "code",
   "execution_count": 7,
   "metadata": {
    "collapsed": true
   },
   "outputs": [],
   "source": [
    "def shuffle_files(files,seed):\n",
    "    random.seed(seed)\n",
    "    random.shuffle(files)\n",
    "    return files"
   ]
  },
  {
   "cell_type": "code",
   "execution_count": 8,
   "metadata": {
    "collapsed": true
   },
   "outputs": [],
   "source": [
    "def get_sorted_list_in_dir(dir_):\n",
    "    files = os.listdir(dir_)\n",
    "    files.sort()\n",
    "    files = [join(dir_,file_) for file_ in files]\n",
    "    return files"
   ]
  },
  {
   "cell_type": "code",
   "execution_count": 9,
   "metadata": {
    "collapsed": true
   },
   "outputs": [],
   "source": [
    "def split_train_val_test(file_list, dist={\"tr\":0.8, \"val\":0.1, \"test\": 0.1}):\n",
    "    num_files = len(file_list)\n",
    "    ind = 0\n",
    "    tr_start, val_start, test_start = 0,int(dist[\"tr\"]*num_files), int( (dist[\"tr\"]+ dist[\"val\"]) * num_files)\n",
    "    tr_files, val_files, test_files = file_list[tr_start:val_start], file_list[val_start: test_start], file_list[test_start:]\n",
    "    return dict(zip([\"tr\", \"val\", \"test\"],[tr_files, val_files, test_files]))\n",
    "\n",
    "    \n",
    "    "
   ]
  },
  {
   "cell_type": "code",
   "execution_count": 10,
   "metadata": {
    "collapsed": true
   },
   "outputs": [],
   "source": [
    "def save_pairs(pair_list,path, file_prefix):\n",
    "    f_im = open(join(path, file_prefix + \"_images_list.txt\"), \"w\")\n",
    "    f_lbl = open(join(path, file_prefix + \"_labels_list.txt\"), \"w\")\n",
    "    for im, lbl in pair_list:\n",
    "        f_im.write(im)\n",
    "        f_lbl.write(lbl)\n",
    "    f_im.close()\n",
    "    f_lbl.close()"
   ]
  },
  {
   "cell_type": "code",
   "execution_count": 11,
   "metadata": {
    "collapsed": false
   },
   "outputs": [],
   "source": [
    "def save_pairs_with_crop_indices(pair_list, path, file_prefix, num_crops):\n",
    "    new_pair_list = []\n",
    "    crop_list = []\n",
    "    for pair in pair_list:\n",
    "        for crop in range(num_crops):\n",
    "            new_pair_list.append(pair)\n",
    "            crop_list.append(str(crop))\n",
    "    save_pairs(pair_list=new_pair_list,path=path, file_prefix=file_prefix)\n",
    "    save_crops(crop_list, path, file_prefix=file_prefix)\n",
    "            \n",
    "    "
   ]
  },
  {
   "cell_type": "code",
   "execution_count": 12,
   "metadata": {
    "collapsed": false
   },
   "outputs": [],
   "source": [
    "def save_crops(crop_list, path, file_prefix):\n",
    "    with open(join(path, file_prefix + \"_crops_list.txt\"), \"w\") as f_crop:\n",
    "        for crop in crop_list:\n",
    "            f_crop.write(crop+ \"\\n\")\n",
    "    \n",
    "        \n",
    "    \n",
    "    "
   ]
  },
  {
   "cell_type": "code",
   "execution_count": 13,
   "metadata": {
    "collapsed": true
   },
   "outputs": [],
   "source": [
    "def get_file_pairs_from_txt_files(im_txt_file, lbl_txt_file):\n",
    "    ims = open(im_txt_file,\"r\").readlines()\n",
    "    lbls = open(lbl_txt_file,\"r\").readlines()\n",
    "    file_pairs = zip(ims,lbls)\n",
    "    check_matching(file_pairs)\n",
    "    return file_pairs"
   ]
  },
  {
   "cell_type": "code",
   "execution_count": 41,
   "metadata": {
    "collapsed": false
   },
   "outputs": [],
   "source": [
    "def save_n_file_lists(im_txt_file, lbl_txt_file, n, dest_dir, num_crops=0):\n",
    "    print n\n",
    "    def make_n_file_pairs_lists(im_txt_file, lbl_txt_file, n):\n",
    "        file_pairs = get_file_pairs_from_txt_files(im_txt_file=im_txt_file, lbl_txt_file=lbl_txt_file)\n",
    "        num_files = len(file_pairs)\n",
    "        num_for_each = num_files / n\n",
    "        remainder = num_files % n\n",
    "        tot = 0\n",
    "        for ind in range(n):\n",
    "            if ind < remainder:\n",
    "                \n",
    "                fp = file_pairs[tot: tot + num_for_each + 1]\n",
    "                tot += num_for_each + 1\n",
    "            else:\n",
    "                fp = file_pairs[tot: tot + num_for_each]\n",
    "                tot += num_for_each\n",
    "            yield fp\n",
    "            \n",
    "    \n",
    "    for i, file_pairs in enumerate(make_n_file_pairs_lists(im_txt_file, lbl_txt_file, n)):\n",
    "        if num_crops > 0:\n",
    "            save_pairs_with_crop_indices(file_pairs, dest_dir, file_prefix=\"node_\" + str(i) + \"_tr\" , num_crops=num_crops)\n",
    "        else:\n",
    "            save_pairs(file_pairs,dest_dir,file_prefix=\"node_\" + str(i) + \"_tr\" )\n",
    "    "
   ]
  },
  {
   "cell_type": "code",
   "execution_count": 27,
   "metadata": {
    "collapsed": false
   },
   "outputs": [],
   "source": [
    "def save_n_model_and_solver_prototxts(model_prototxt_path, solver_prototxt_path, n, file_list_dir, prototxt_dest_dir):\n",
    "    for i in range(n):\n",
    "        prefix=\"node_\" + str(i)\n",
    "        im_file = join(file_list_dir,prefix + \"_tr\" + \"_images_list.txt\")\n",
    "        lbl_file = join(file_list_dir,prefix + \"_tr\" + \"_labels_list.txt\")\n",
    "        crops_file = join(file_list_dir,prefix + \"_tr\" + \"_crops_list.txt\") \n",
    "        new_model_prototxt_path = make_new_model_prototxt(model_prototxt_path, im_file,lbl_file,crops_file, prototxt_dest_dir, prefix=prefix)\n",
    "        make_new_solver_prototxt(new_model_prototxt_path, solver_prototxt_path, prototxt_dest_dir, prefix=prefix)\n",
    "        \n",
    "\n",
    "    \n",
    "    "
   ]
  },
  {
   "cell_type": "code",
   "execution_count": 28,
   "metadata": {
    "collapsed": true
   },
   "outputs": [],
   "source": [
    "def make_new_solver_prototxt(new_model_prototxt_path, solver_prototxt_path, prototxt_dest_dir, prefix):\n",
    "    new_solver_prototxt_path = join(prototxt_dest_dir, prefix + \"_\" + basename(solver_prototxt_path))\n",
    "    shutil.copy(solver_prototxt_path, new_solver_prototxt_path)\n",
    "    replace_solver_with_new_model_prototxt(new_solver_prototxt_path, new_model_prototxt_path)\n",
    "    "
   ]
  },
  {
   "cell_type": "code",
   "execution_count": 29,
   "metadata": {
    "collapsed": true
   },
   "outputs": [],
   "source": [
    "def make_new_model_prototxt(model_prototxt_path, im_file,lbl_file,crops_file, prototxt_dest_dir, prefix):\n",
    "    new_model_prototxt_path = join(prototxt_dest_dir, prefix + \"_\" + basename(model_prototxt_path))\n",
    "    \n",
    "    shutil.copy(model_prototxt_path, new_model_prototxt_path)\n",
    "    replace_im_label_source_in_prototxt(new_model_prototxt_path, im_file, lbl_file, crops_file)\n",
    "    return new_model_prototxt_path\n",
    "    \n",
    "    "
   ]
  },
  {
   "cell_type": "code",
   "execution_count": 36,
   "metadata": {
    "collapsed": true
   },
   "outputs": [],
   "source": [
    "def replace_solver_with_new_model_prototxt(solver_prototxt, model_prototxt):\n",
    "    with open(solver_prototxt, \"r\") as f:\n",
    "        lines = f.readlines()\n",
    "\n",
    "        for i, line in enumerate(lines):\n",
    "            if \"train_net\" in line:\n",
    "                lines[i] = lines[i].split('\"')[0] + '\"' + model_prototxt + '\"' + \"\\n\"\n",
    "    with open(solver_prototxt, \"w\") as f:\n",
    "        f.writelines(lines)\n"
   ]
  },
  {
   "cell_type": "code",
   "execution_count": 37,
   "metadata": {
    "collapsed": true
   },
   "outputs": [],
   "source": [
    "def replace_im_label_source_in_prototxt(prototxt_path, im_file, lbl_file, crops_file):\n",
    "    with open(prototxt_path, \"r\") as f:\n",
    "        lines = f.readlines()\n",
    "        \n",
    "        for i, line in enumerate(lines):\n",
    "            if \"source: \" in line:\n",
    "                if \"crop\" not in line:\n",
    "                    if \"image\" in line:\n",
    "                        lines[i] = lines[i].split('\"')[0] + '\"' + im_file + '\"' + \"\\n\"\n",
    "                    else:\n",
    "                        lines[i] = lines[i].split('\"')[0] + '\"' + lbl_file + '\"' + \"\\n\"\n",
    "                else:\n",
    "                    lines[i] = lines[i].split('\"')[0] + '\"' + crops_file + '\"' + \"\\n\"\n",
    "    with open(prototxt_path, \"w\") as f:\n",
    "        f.writelines(lines)\n",
    "                "
   ]
  },
  {
   "cell_type": "code",
   "execution_count": 38,
   "metadata": {
    "collapsed": false
   },
   "outputs": [],
   "source": [
    "if __name__ == \"__main__\":\n",
    "    cla = get_cl_args()\n",
    "    #cla[\"split_tr_val_test\"] = True\n",
    "    if cla[\"split_tr_val_test\"]:\n",
    "        file_pairs = get_list_of_every_file(cla['path_to_files'])\n",
    "        file_pairs = shuffle_files(file_pairs,seed=cla[\"seed\"])\n",
    "        file_pairs_dict = split_train_val_test(file_pairs)\n",
    "        for typ, pairs in file_pairs_dict.iteritems():\n",
    "            save_pairs(pairs, cla[\"master_file_path\"],file_prefix=typ)\n",
    "            \n",
    "    \n",
    "    if cla[\"file_split\"]:\n",
    "        \n",
    "        mp = cla[\"master_file_path\"]\n",
    "        im_txt_file, lbl_txt_file = join(mp,\"tr_images_list.txt\"), join(mp,\"tr_labels_list.txt\")\n",
    "        save_n_file_lists(im_txt_file=im_txt_file, \n",
    "                          lbl_txt_file=lbl_txt_file, \n",
    "                          n=cla[\"num_nodes\"], \n",
    "                          dest_dir=cla[\"files_dest_dir\"],\n",
    "                         num_crops=cla[\"num_crops\"])\n",
    "    if cla[\"prototxt_split\"]:\n",
    "        save_n_model_and_solver_prototxts(cla[\"model_filepath\"], cla[\"solver_filepath\"], cla[\"num_nodes\"], cla[\"files_dest_dir\"], cla[\"prototxt_dest_dir\"])\n",
    "        \n",
    "    \n"
   ]
  },
  {
   "cell_type": "code",
   "execution_count": 46,
   "metadata": {
    "collapsed": false
   },
   "outputs": [
    {
     "name": "stdout",
     "output_type": "stream",
     "text": [
      "[NbConvertApp] Converting notebook split_files.ipynb to script\n",
      "[NbConvertApp] Writing 9122 bytes to split_files.py\n"
     ]
    }
   ],
   "source": [
    "#! jupyter nbconvert --to script split_files.ipynb"
   ]
  },
  {
   "cell_type": "code",
   "execution_count": null,
   "metadata": {
    "collapsed": true
   },
   "outputs": [],
   "source": []
  }
 ],
 "metadata": {
  "anaconda-cloud": {},
  "kernelspec": {
   "display_name": "Python [default]",
   "language": "python",
   "name": "python2"
  },
  "language_info": {
   "codemirror_mode": {
    "name": "ipython",
    "version": 2
   },
   "file_extension": ".py",
   "mimetype": "text/x-python",
   "name": "python",
   "nbconvert_exporter": "python",
   "pygments_lexer": "ipython2",
   "version": "2.7.12"
  }
 },
 "nbformat": 4,
 "nbformat_minor": 1
}
