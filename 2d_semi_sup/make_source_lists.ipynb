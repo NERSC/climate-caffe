{
 "cells": [
  {
   "cell_type": "code",
   "execution_count": 1,
   "metadata": {
    "collapsed": true
   },
   "outputs": [],
   "source": [
    "import os"
   ]
  },
  {
   "cell_type": "code",
   "execution_count": 2,
   "metadata": {
    "collapsed": true
   },
   "outputs": [],
   "source": [
    "import random"
   ]
  },
  {
   "cell_type": "code",
   "execution_count": 3,
   "metadata": {
    "collapsed": true
   },
   "outputs": [],
   "source": [
    "from os.path import join"
   ]
  },
  {
   "cell_type": "code",
   "execution_count": 4,
   "metadata": {
    "collapsed": true
   },
   "outputs": [],
   "source": [
    "data_prefix = \"/home/evan/data/climate\""
   ]
  },
  {
   "cell_type": "code",
   "execution_count": 5,
   "metadata": {
    "collapsed": true
   },
   "outputs": [],
   "source": [
    "source_file_prefix = \"/home/evan/data/climate/lists/small-gpu-size_lists/supervised/\""
   ]
  },
  {
   "cell_type": "code",
   "execution_count": 6,
   "metadata": {
    "collapsed": true
   },
   "outputs": [],
   "source": [
    "names = [\"climo\"]#[\"2xCO2\", \"SST_plus2\",  \"climo\"]"
   ]
  },
  {
   "cell_type": "code",
   "execution_count": 9,
   "metadata": {
    "collapsed": false
   },
   "outputs": [],
   "source": [
    "num_crops = 1\n",
    "im_listname = \"image_files.txt\"\n",
    "lbl_listname = \"label_files.txt\"\n",
    "crop_listname = \"crop_indices.txt\"\n",
    "im_txt_file = join(source_file_prefix,im_listname)\n",
    "lbl_txt_file = join(source_file_prefix,lbl_listname)\n",
    "crop_ind_txt_file = join(source_file_prefix,crop_listname)\n",
    "for name in names:\n",
    "    path = join(data_prefix,name)\n",
    "    imdir = join(path,\"images\")\n",
    "    ims = os.listdir(imdir)\n",
    "    lbldir = join(path,\"labels\")\n",
    "    lbls = os.listdir(lbldir)\n",
    "    ims.sort()\n",
    "    lbls.sort()\n",
    "    random.seed(3)\n",
    "    random.shuffle(ims)\n",
    "    random.seed(3)\n",
    "    random.shuffle(lbls)\n",
    "    \n",
    "    \n",
    "    num_ex = len(ims)\n",
    "    num_tr = int(0.6*num_ex)\n",
    "    num_val = int(0.2*num_ex)\n",
    "    for crop_ind in range(1):\n",
    "        write_train_val_test(ims,imdir,im_listname,source_file_prefix)\n",
    "        write_train_val_test(lbls,lbldir,lbl_listname,source_file_prefix)\n",
    "#         for pref in [\"tr_\", \"val_\", \"test_\"]:\n",
    "#             with open(join(source_file_prefix,pref + crop_listname), \"a\") as f:\n",
    "#                 for _ in lbls:\n",
    "#                     f.write(str(crop_ind) + \"\\n\")"
   ]
  },
  {
   "cell_type": "code",
   "execution_count": 8,
   "metadata": {
    "collapsed": true
   },
   "outputs": [],
   "source": [
    "def write_train_val_test(datanames,datadir, txt_file, sourcedir):\n",
    "    num_ex = len(datanames)\n",
    "    num_tr = int(0.6*num_ex)\n",
    "    num_val = int(0.2*num_ex)\n",
    "    \n",
    "    fname = os.path.basename(txt_file)\n",
    "    dirname = os.path.dirname(txt_file)\n",
    "    with open(join(sourcedir, \"tr_\"+ txt_file),\"a\") as f:\n",
    "        for dataname in datanames[:num_tr]:\n",
    "            f.writelines(join(datadir,dataname) + \"\\n\")\n",
    "    \n",
    "    with open(join(sourcedir, \"val_\"+ txt_file),\"a\") as f:\n",
    "        for dataname in datanames[num_tr:num_tr+num_val]:\n",
    "            f.writelines(join(datadir,dataname) + \"\\n\")\n",
    "    \n",
    "    with open(join(sourcedir, \"test_\"+ txt_file),\"a\") as f:\n",
    "        for dataname in datanames[num_tr+num_val:]:\n",
    "            f.writelines(join(datadir,dataname) + \"\\n\")\n",
    "    "
   ]
  },
  {
   "cell_type": "code",
   "execution_count": 8,
   "metadata": {
    "collapsed": false
   },
   "outputs": [],
   "source": [
    "# #shuffle everything the same\n",
    "# for txt_file in [im_txt_file, lbl_txt_file, crop_ind_txt_file]:\n",
    "#     with open(txt_file, \"r\") as f:\n",
    "#         random.seed(3)\n",
    "#         lines = f.readlines()\n",
    "#         random.shuffle(lines)\n",
    "#     with open(txt_file, \"w\") as f:\n",
    "#         f.writelines(lines)\n",
    "            \n",
    "    \n",
    "\n",
    "# # split into train val test\n",
    "\n",
    "# for txt_file in [im_txt_file, lbl_txt_file, crop_ind_txt_file]:\n",
    "#     with open(txt_file, \"r\") as f:\n",
    "#         lines = f.readlines()\n",
    "#         num_ex = len(lines)\n",
    "#         num_tr = int(0.6*num_ex)\n",
    "#         num_val = int(0.2*num_ex)\n",
    "    \n",
    "#     fname = os.path.basename(txt_file)\n",
    "#     dirname = os.path.dirname(txt_file)\n",
    "#     with open(join(dirname, \"tr_\"+ fname),\"w\") as f:\n",
    "#         f.writelines(lines[:num_tr])\n",
    "    \n",
    "#     with open(join(dirname, \"val_\"+ fname), \"w\") as f:\n",
    "#         f.writelines(lines[num_tr:num_tr+num_val])\n",
    "    \n",
    "#     with open(join(dirname, \"test_\"+ fname), \"w\") as f:\n",
    "#         f.writelines(lines[num_tr+num_val:])\n",
    "    \n",
    "    \n",
    "    "
   ]
  },
  {
   "cell_type": "code",
   "execution_count": null,
   "metadata": {
    "collapsed": true
   },
   "outputs": [],
   "source": []
  }
 ],
 "metadata": {
  "anaconda-cloud": {},
  "kernelspec": {
   "display_name": "Python 2",
   "language": "python",
   "name": "python2"
  },
  "language_info": {
   "codemirror_mode": {
    "name": "ipython",
    "version": 2
   },
   "file_extension": ".py",
   "mimetype": "text/x-python",
   "name": "python",
   "nbconvert_exporter": "python",
   "pygments_lexer": "ipython2",
   "version": "2.7.12"
  }
 },
 "nbformat": 4,
 "nbformat_minor": 1
}
