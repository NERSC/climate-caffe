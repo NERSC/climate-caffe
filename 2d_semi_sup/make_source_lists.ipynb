{
 "cells": [
  {
   "cell_type": "code",
   "execution_count": 1,
   "metadata": {
    "collapsed": true
   },
   "outputs": [],
   "source": [
    "import os"
   ]
  },
  {
   "cell_type": "code",
   "execution_count": 2,
   "metadata": {
    "collapsed": true
   },
   "outputs": [],
   "source": [
    "import random"
   ]
  },
  {
   "cell_type": "code",
   "execution_count": 3,
   "metadata": {
    "collapsed": true
   },
   "outputs": [],
   "source": [
    "from os.path import join"
   ]
  },
  {
   "cell_type": "code",
   "execution_count": 4,
   "metadata": {
    "collapsed": true
   },
   "outputs": [],
   "source": [
    "data_prefix = \"/project/projectdirs/dasrepo/gordon_bell/deep_learning/data/climate/CAM5_0.25\""
   ]
  },
  {
   "cell_type": "code",
   "execution_count": 5,
   "metadata": {
    "collapsed": true
   },
   "outputs": [],
   "source": [
    "source_file_prefix = \"/project/projectdirs/dasrepo/gordon_bell/deep_learning/networks/climate/2d_semi_sup/smaller_dataset\""
   ]
  },
  {
   "cell_type": "code",
   "execution_count": 6,
   "metadata": {
    "collapsed": true
   },
   "outputs": [],
   "source": [
    "names = [\"2xCO2\", \"SST_plus2\",  \"climo\"]"
   ]
  },
  {
   "cell_type": "code",
   "execution_count": 15,
   "metadata": {
    "collapsed": false
   },
   "outputs": [],
   "source": [
    "name_to_year_dict = dict(zip(names,[\"0004\",\"0003\", \"1980\"]))"
   ]
  },
  {
   "cell_type": "code",
   "execution_count": 19,
   "metadata": {
    "collapsed": true
   },
   "outputs": [],
   "source": [
    "def get_num_tr_val_test(num_ex):\n",
    "    num_tr = int(0.6*num_ex)\n",
    "    num_val = int(0.2*num_ex)\n",
    "    num_test = int(0.2*num_ex)\n",
    "    return num_tr, num_val, num_test\n",
    "    "
   ]
  },
  {
   "cell_type": "code",
   "execution_count": 20,
   "metadata": {
    "collapsed": true
   },
   "outputs": [],
   "source": [
    "def get_data(dirname, typ=\"images\",seed=11):\n",
    "    path = join(data_prefix,dirname,typ)\n",
    "    all_files = os.listdir(path)\n",
    "    year = name_to_year_dict[dirname]\n",
    "    files = [join(path,file_) for file_ in all_files if year in file_]\n",
    "    sort_and_shuffle_list(files,seed=11, num_shuffles=10)\n",
    "    return files\n",
    "    "
   ]
  },
  {
   "cell_type": "code",
   "execution_count": 21,
   "metadata": {
    "collapsed": true
   },
   "outputs": [],
   "source": [
    "def sort_and_shuffle_list(list_, seed=3, num_shuffles=10):\n",
    "    list_.sort()\n",
    "    random.seed(seed)\n",
    "    for _ in range(num_shuffles):\n",
    "        random.shuffle(list_)\n",
    "    return list_\n",
    "    "
   ]
  },
  {
   "cell_type": "code",
   "execution_count": 32,
   "metadata": {
    "collapsed": true
   },
   "outputs": [],
   "source": [
    "def write_train_val_test(datafiles, txt_file, sourcedir):\n",
    "    num_ex = len(datafiles)\n",
    "    num_tr, num_val, num_test = get_num_tr_val_test(num_ex)\n",
    "    \n",
    "    fname = os.path.basename(txt_file)\n",
    "    dirname = os.path.dirname(txt_file)\n",
    "    \n",
    "    def write_to_file(typ, slice_):\n",
    "        file_path = join(sourcedir, typ+ \"_\" + txt_file)\n",
    "        with open(file_path,\"a\") as f:\n",
    "            for datafile in datafiles[slice_]:\n",
    "                f.writelines(datafile + \"\\n\")\n",
    "    start = 0\n",
    "    stop = 0\n",
    "    for typ,num in [(\"tr\",num_tr), (\"val\",num_val), (\"test\", num_test)]:\n",
    "        stop += num\n",
    "        slice_ = slice(start,stop)\n",
    "        fpath = write_to_file(typ, slice_)\n",
    "        start += stop\n",
    "    "
   ]
  },
  {
   "cell_type": "code",
   "execution_count": null,
   "metadata": {
    "collapsed": true
   },
   "outputs": [],
   "source": [
    "if __name__ == \"__main__\":\n",
    "    num_crops = 1\n",
    "    im_listname = \"image_files.txt\"\n",
    "    lbl_listname = \"label_files.txt\"\n",
    "    crop_listname = \"crop_indices.txt\"\n",
    "    im_txt_file = join(source_file_prefix,im_listname)\n",
    "    lbl_txt_file = join(source_file_prefix,lbl_listname)\n",
    "    crop_ind_txt_file = join(source_file_prefix,crop_listname)\n",
    "\n",
    "    for dirname in names:\n",
    "        im_files, lbl_files =  get_data(dirname,\"images\"), get_data(dirname,\"labels\")\n",
    "\n",
    "\n",
    "        for crop_ind in range(num_crops):\n",
    "            write_train_val_test(im_files, im_listname, source_file_prefix)\n",
    "            write_train_val_test(lbl_files, lbl_listname, source_file_prefix)\n",
    "            for pref in [\"tr_\", \"val_\", \"test_\"]:\n",
    "                with open(join(source_file_prefix,pref + crop_listname), \"a\") as f:\n",
    "                    for _ in lbl_files:\n",
    "                        f.write(str(crop_ind) + \"\\n\")"
   ]
  },
  {
   "cell_type": "code",
   "execution_count": 34,
   "metadata": {
    "collapsed": false
   },
   "outputs": [],
   "source": [
    "    #shuffle everything the same\n",
    "    for txt_file in os.listdir(source_file_prefix):\n",
    "        with open(join(source_file_prefix,txt_file), \"r\") as f:\n",
    "            random.seed(3)\n",
    "            lines = f.readlines()\n",
    "            random.shuffle(lines)\n",
    "        with open(join(source_file_prefix,txt_file), \"w\") as f:\n",
    "            f.writelines(lines)\n",
    "            \n",
    "    "
   ]
  },
  {
   "cell_type": "code",
   "execution_count": null,
   "metadata": {
    "collapsed": true
   },
   "outputs": [],
   "source": []
  },
  {
   "cell_type": "code",
   "execution_count": null,
   "metadata": {
    "collapsed": true
   },
   "outputs": [],
   "source": []
  }
 ],
 "metadata": {
  "anaconda-cloud": {},
  "kernelspec": {
   "display_name": "Python [default]",
   "language": "python",
   "name": "python2"
  },
  "language_info": {
   "codemirror_mode": {
    "name": "ipython",
    "version": 2
   },
   "file_extension": ".py",
   "mimetype": "text/x-python",
   "name": "python",
   "nbconvert_exporter": "python",
   "pygments_lexer": "ipython2",
   "version": "2.7.12"
  }
 },
 "nbformat": 4,
 "nbformat_minor": 1
}
