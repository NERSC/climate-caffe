{
 "cells": [
  {
   "cell_type": "code",
   "execution_count": null,
   "metadata": {
    "collapsed": true
   },
   "outputs": [],
   "source": [
    "import sys\n",
    "from nbfinder import NotebookFinder\n",
    "sys.meta_path.append(NotebookFinder())\n",
    "from util import get_timestamp\n",
    "import pandas as pd\n",
    "import numpy as np\n",
    "from os.path import join\n",
    "import os"
   ]
  },
  {
   "cell_type": "code",
   "execution_count": null,
   "metadata": {
    "collapsed": true
   },
   "outputs": [],
   "source": [
    "def get_cols(df):\n",
    "    des_keys = [\"xmin\", \"xmax\", \"ymin\", \"ymax\",\n",
    "               \"time_step\", \"category\", \"month\", \"year\", \"day\", \"str_category\"]\n",
    "    df = df[des_keys]\n",
    "    return df\n",
    "    \n",
    "\n",
    "def merge_all_csvs(metadata_dir):\n",
    "    dfs = []\n",
    "    for year in range(1979,2006):\n",
    "        for weather_type in [\"tc\", \"etc\"]:\n",
    "            csv_fn = join(metadata_dir, '_'.join([str(year), weather_type, 'labels.csv']))\n",
    "            df = pd.read_csv(csv_fn)\n",
    "            df = get_cols(df)\n",
    "            dfs.append(df)\n",
    "    merged_df = pd.concat(dfs)\n",
    "    merged_df.to_csv(join(metadata_dir, \"all_non_ar.csv\"))\n",
    "    return merged_df\n",
    "\n",
    "def merge_two_csvs(metadata_dir, fn1,fn2):\n",
    "    fn1 = join(metadata_dir, fn1)\n",
    "    fn2 = join(metadata_dir, fn2)\n",
    "    dfs = [pd.read_csv(fn1), pd.read_csv(fn2)]\n",
    "    final_df = pd.concat(dfs)\n",
    "    final_df.to_csv(join(metadata_dir, \"labels.csv\"))"
   ]
  }
 ],
 "metadata": {
  "kernelspec": {
   "display_name": "Python 2",
   "language": "python",
   "name": "python2"
  },
  "language_info": {
   "codemirror_mode": {
    "name": "ipython",
    "version": 2
   },
   "file_extension": ".py",
   "mimetype": "text/x-python",
   "name": "python",
   "nbconvert_exporter": "python",
   "pygments_lexer": "ipython2",
   "version": "2.7.12"
  }
 },
 "nbformat": 4,
 "nbformat_minor": 2
}
