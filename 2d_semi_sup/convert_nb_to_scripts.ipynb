{
 "cells": [
  {
   "cell_type": "code",
   "execution_count": 19,
   "metadata": {
    "collapsed": true
   },
   "outputs": [],
   "source": [
    "import os\n",
    "import sys"
   ]
  },
  {
   "cell_type": "code",
   "execution_count": 20,
   "metadata": {
    "collapsed": false
   },
   "outputs": [],
   "source": [
    "def convert_nb_to_script(dir_):\n",
    "    ! jupyter nbconvert --to script $dir_/*.ipynb\n",
    "\n",
    "    #.txt means file was open/not saved so converted to .txt not .py\n",
    "    for fil in os.listdir(dir_):\n",
    "        assert '.txt' not in fil, \"Save all your notebooks first!\"\n",
    "    if dir_ is not \".\":\n",
    "        ! mv $dir_/__init__.py $dir_/__init__.pyc\n",
    "        ! mv $dir_/nbfinder.py $dir_/nbfinder.pyc        \n",
    "\n",
    "\n",
    "    ! sed -i.bak 's/# coding: utf-8/import matplotlib; matplotlib.use(\"agg\")/g' $dir_/*.py\n",
    "\n",
    "    #get rid of IN[] lines\n",
    "    !sed -i.bak '/# IN\\[*/d' $dir_/*.py\n",
    "\n",
    "    #get rid of ipython lines\n",
    "    !sed -i.bak '/ipython*/d' $dir_/*.py\n",
    "\n",
    "    !sed -i.bak '/NotebookFinder*/d' $dir_/*.py\n",
    "\n",
    "    ! sed -i.bak 's/notebooks./scripts./g' $dir_/*.py\n",
    "    #get rid of IN[] lines\n",
    "    !sed -i.bak '/# In\\[*/d' $dir_/*.py\n",
    "\n",
    "    !sed -i.bak '/# coding:*/d' $dir_/*.py\n",
    "\n",
    "    !sed -i.bak 's/plt.show()*/pass/g' $dir_/*.py\n",
    "\n",
    "    ! rm $dir_/*.bak\n",
    "    \n",
    "\n",
    "#     if dir_ is not \".\":\n",
    "#         subdir = \"/\".join(dir_.split(\"notebooks/\")[1:])\n",
    "#         if not os.path.exists(os.path.join(\"./scripts\", subdir)):\n",
    "#             os.makedirs(os.path.join(\"./scripts\", subdir))\n",
    "#         #move to scripts\n",
    "#         ! mv $dir_/*.py ./scripts/$subdir\n",
    "#         ! mv $dir_/__init__.pyc $dir_/__init__.py\n",
    "#         ! mv $dir_/nbfinder.pyc $dir_/nbfinder.py\n",
    "#     else:\n",
    "    ! rm $dir_/convert_nb_to_scripts.py\n",
    "        \n"
   ]
  },
  {
   "cell_type": "code",
   "execution_count": 21,
   "metadata": {
    "collapsed": false
   },
   "outputs": [
    {
     "name": "stdout",
     "output_type": "stream",
     "text": [
      "./label_maker_stuff\n",
      "[NbConvertApp] Converting notebook ./label_maker_stuff/ground_truth_maker.ipynb to script\n",
      "[NbConvertApp] Writing 9663 bytes to ./label_maker_stuff/ground_truth_maker.py\n",
      "[NbConvertApp] Converting notebook ./label_maker_stuff/label_loader.ipynb to script\n",
      "[NbConvertApp] Writing 1227 bytes to ./label_maker_stuff/label_loader.py\n",
      "[NbConvertApp] Converting notebook ./label_maker_stuff/merge_csv_stuff.ipynb to script\n",
      "[NbConvertApp] Writing 1083 bytes to ./label_maker_stuff/merge_csv_stuff.py\n",
      "[NbConvertApp] Converting notebook ./label_maker_stuff/util.ipynb to script\n",
      "[NbConvertApp] Writing 4304 bytes to ./label_maker_stuff/util.py\n",
      "mv: cannot stat './label_maker_stuff/__init__.py': No such file or directory\n",
      "mv: cannot stat './label_maker_stuff/nbfinder.py': No such file or directory\n",
      "rm: cannot remove './label_maker_stuff/convert_nb_to_scripts.py': No such file or directory\n"
     ]
    }
   ],
   "source": [
    "for dirpath, dirs, files in os.walk(\"./label_maker_stuff\"):\n",
    "    if not \".ipynb_checkpoint\" in dirpath:\n",
    "        print dirpath\n",
    "        convert_nb_to_script(dirpath)\n",
    "#convert_nb_to_script(\".\")"
   ]
  },
  {
   "cell_type": "code",
   "execution_count": null,
   "metadata": {
    "collapsed": true
   },
   "outputs": [],
   "source": []
  },
  {
   "cell_type": "code",
   "execution_count": null,
   "metadata": {
    "collapsed": true
   },
   "outputs": [],
   "source": []
  }
 ],
 "metadata": {
  "anaconda-cloud": {},
  "kernelspec": {
   "display_name": "Python [default]",
   "language": "python",
   "name": "python2"
  },
  "language_info": {
   "codemirror_mode": {
    "name": "ipython",
    "version": 2
   },
   "file_extension": ".py",
   "mimetype": "text/x-python",
   "name": "python",
   "nbconvert_exporter": "python",
   "pygments_lexer": "ipython2",
   "version": "2.7.12"
  }
 },
 "nbformat": 4,
 "nbformat_minor": 0
}
