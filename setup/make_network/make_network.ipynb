{
 "cells": [
  {
   "cell_type": "code",
   "execution_count": 1,
   "metadata": {
    "collapsed": false,
    "deletable": true,
    "editable": true
   },
   "outputs": [
    {
     "name": "stdout",
     "output_type": "stream",
     "text": [
      "importing Jupyter notebook from layer_util.ipynb\n",
      "importing Jupyter notebook from network_architecture.ipynb\n"
     ]
    }
   ],
   "source": [
    "import caffe\n",
    "from caffe import layers as L, params as P, to_proto\n",
    "from caffe.proto import caffe_pb2\n",
    "from caffe.coord_map import crop\n",
    "import copy\n",
    "from nbfinder import NotebookFinder\n",
    "import sys\n",
    "sys.meta_path.append(NotebookFinder())\n",
    "from layer_util import *\n",
    "from network_architecture import *\n",
    "from os.path import join"
   ]
  },
  {
   "cell_type": "code",
   "execution_count": 3,
   "metadata": {
    "collapsed": true,
    "deletable": true,
    "editable": true
   },
   "outputs": [],
   "source": [
    "net_vars = [\"PRECT\",\"PS\",\"PSL\",\"QREFHT\",\"T200\",\"T500\",\"TMQ\",\"TREFHT\",\"TS\",\"U850\",\"UBOT\",\"V850\",\"VBOT\",\"Z1000\",\"Z200\",\"ZBOT\"]"
   ]
  },
  {
   "cell_type": "code",
   "execution_count": 1,
   "metadata": {
    "collapsed": false,
    "deletable": true,
    "editable": true
   },
   "outputs": [],
   "source": [
    "lbl_vars = [ \"x_coord\",\"y_coord\",\"w_coord\",\"h_coord\",\"obj\",\"cls\" ]"
   ]
  },
  {
   "cell_type": "code",
   "execution_count": null,
   "metadata": {
    "collapsed": true,
    "deletable": true,
    "editable": true
   },
   "outputs": [],
   "source": [
    "\n",
    "    "
   ]
  },
  {
   "cell_type": "code",
   "execution_count": 1,
   "metadata": {
    "collapsed": true,
    "deletable": true,
    "editable": true
   },
   "outputs": [],
   "source": [
    "def make_netcdf_network(inp_x = 768,inp_y=768,\n",
    "                        num_classes=4, \n",
    "                        batch_size=16, \n",
    "                        data_path=\"/project/projectdirs/dasrepo/gordon_bell/deep_learning/networks/climate/2d_semi_sup/master_file_lists/whole_dataset/\",\n",
    "                        modes=[\"tr\", \"val\"], \n",
    "                        filters_scale=1./8,\n",
    "                       dummy_data=False, copies=False):\n",
    "    \n",
    "    \n",
    "    def make_data_label(mode,phase):\n",
    "        data = L.NetCDFData(source=join(data_path,mode+\"_image_files.txt\"),\n",
    "                              variable_data=net_vars, \n",
    "                              time_stride=time_stride,\n",
    "                              crop_stride=32,\n",
    "                              batch_size=batch_size,\n",
    "                              name=\"images\",\n",
    "                              xdim=768, \n",
    "                              ydim=768, \n",
    "                              crop_index_source=join(data_path,mode+\"_crop_indices.txt\"),\n",
    "                              include=dict(phase=phase))\n",
    "\n",
    "        label = L.NetCDFData(source=join(data_path,mode+\"_label_files.txt\"),\n",
    "                               variable_data=lbl_vars, \n",
    "                               time_stride=time_stride,\n",
    "                               batch_size=batch_size,\n",
    "                               name=\"labels\",\n",
    "                               xdim=24, \n",
    "                               ydim=24,\n",
    "                               crop_index_source=join(data_path,mode+\"_crop_indices.txt\"), include=dict(phase=phase))\n",
    "        return data, label\n",
    "    \n",
    "    num_channels = len(net_vars)\n",
    "    time_stride =1\n",
    "    \n",
    "    n = caffe.NetSpec()\n",
    "    nt = None\n",
    "    if len(modes) ==  1:\n",
    "        phase = caffe.TEST\n",
    "        n.data, n.label = make_data_label(modes[0],phase)\n",
    "    else:\n",
    "        nt = caffe.NetSpec()\n",
    "        for mode in modes:\n",
    "            if mode == \"tr\":\n",
    "                phase = caffe.TRAIN\n",
    "                n.data, n.label = make_data_label(mode,phase)\n",
    "            else:\n",
    "                phase = caffe.TEST\n",
    "                nt.data, nt.label = make_data_label(mode,phase)\n",
    "        \n",
    "    \n",
    "\n",
    "    n.normalized_data = L.MVN(n.data)\n",
    "    nfilters_list = [96, 256, 512, 768, 1024]\n",
    "#     conv_kernel_sizes = [7,7,7,7,4]\n",
    "#     deconv_kernel_szies = []\n",
    "    nfilters_list = [int(f * filters_scale) for f in nfilters_list]\n",
    "    n = create_net(n,nfilters_list, num_classes, num_channels)\n",
    "    n = make_loss(n, copies)\n",
    "    pstr = convert_layer_to_prototxt(n)\n",
    "    return n, nt\n",
    "    \n",
    "\n",
    "    "
   ]
  }
 ],
 "metadata": {
  "anaconda-cloud": {},
  "kernelspec": {
   "display_name": "Python 2",
   "language": "python",
   "name": "python2"
  },
  "language_info": {
   "codemirror_mode": {
    "name": "ipython",
    "version": 2
   },
   "file_extension": ".py",
   "mimetype": "text/x-python",
   "name": "python",
   "nbconvert_exporter": "python",
   "pygments_lexer": "ipython2",
   "version": "2.7.13"
  }
 },
 "nbformat": 4,
 "nbformat_minor": 1
}
