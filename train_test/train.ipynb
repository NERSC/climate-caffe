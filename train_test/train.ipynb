{
 "cells": [
  {
   "cell_type": "code",
   "execution_count": 6,
   "metadata": {
    "collapsed": false,
    "deletable": true,
    "editable": true
   },
   "outputs": [],
   "source": [
    "\n",
    "import matplotlib\n",
    "matplotlib.use(\"Agg\")\n",
    "import matplotlib.pyplot as plt\n",
    "import caffe\n",
    "import sys\n",
    "from nbfinder import NotebookFinder\n",
    "import sys\n",
    "sys.meta_path.append(NotebookFinder())\n",
    "from util import get_cla\n",
    "from os.path import join, basename\n",
    "import os\n",
    "from get_accuracy import get_accuracy\n",
    "from util import get_cla\n",
    "import numpy as np"
   ]
  },
  {
   "cell_type": "code",
   "execution_count": 7,
   "metadata": {
    "collapsed": false,
    "deletable": true,
    "editable": true
   },
   "outputs": [],
   "source": [
    "def do_train(solver, cl_args, its_per_epoch):\n",
    "    num_epochs = cl_args[\"num_epochs\"]\n",
    "    losses = {}\n",
    "    accuracies = []\n",
    "    accuracies_loose = []\n",
    "    for ep in range(num_epochs):\n",
    "        losses = get_one_epoch_loss(ep, losses, its_per_epoch, solver)\n",
    "        ep_losses = [losses[str(epoch) + \"_mean\"][\"final_loss\"] for epoch in range(ep + 1)]\n",
    "        save_plot(ep_losses,cl_args, typ=\"loss\")\n",
    "        \n",
    "        \n",
    "        \n",
    "        acc = get_accuracy(solver.net, \n",
    "                                  iterations=its_per_epoch,\n",
    "                                  iou_thresh=0.5)\n",
    "        \n",
    "\n",
    "        accuracies.append(acc)\n",
    "        save_plot(accuracies,cl_args, typ=\"acc\")\n",
    "        acc_loose = get_accuracy(solver.net, \n",
    "                          iterations=its_per_epoch,\n",
    "                          iou_thresh=0.1)\n",
    "        accuracies_loose.append(acc_loose)\n",
    "        save_plot(accuracies_loose,cl_args, typ=\"acc_loose\")\n",
    "        \n",
    "        \n",
    "\n",
    "\n",
    "def get_one_epoch_loss(ep, losses, num_its, solver):\n",
    "    loss_keys = ['L_cls', 'L_no_obj',\n",
    "                             'L_obj',\n",
    "                             'L_xy',\n",
    "                             'L_wh',\n",
    "                             'L_rec',\n",
    "                             'final_loss']\n",
    "    coeffs =  [1.0,1.0, 10.0, 1.0, 1.0, 3.39084201389e-08,1.0]\n",
    "    loss_to_coeff_map = dict(zip(loss_keys, coeffs))\n",
    "    losses[ep] = {k:[] for k in loss_keys}\n",
    "    losses[str(ep) + \"_mean\"] = {k:0 for k in loss_keys}\n",
    "    \n",
    "    for it in range(num_its):\n",
    "        solver.step(1)\n",
    "\n",
    "        losses = write_iteration_losses(losses, solver,loss_keys,ep,it, loss_to_coeff_map)\n",
    "\n",
    "    losses = write_epoch_losses(losses, loss_keys,ep, loss_to_coeff_map)\n",
    "    return losses\n",
    "    \n",
    "\n",
    "def save_plot(arr, cl_args, typ=\"loss\"):\n",
    "    suffix = \"%s_curve_%s_resumed.jpg\"%(typ,basename(cl_args[\"solver_path\"]))\n",
    "    plt.figure(1)\n",
    "    plt.clf()\n",
    "    plt.plot(arr)\n",
    "    plt.title(typ + \" curve\")\n",
    "    plt.ylabel(typ)\n",
    "    plt.xlabel(\"epochs\")\n",
    "    plt.show()\n",
    "    plt.savefig(join(cl_args[\"save_dir\"],\"tr_\" + suffix))\n",
    "    \n",
    "\n",
    "def write_epoch_losses(losses, loss_keys,ep, loss_to_coeff_map):\n",
    "    losses[str(ep) + \"_mean\"] = {k:np.mean(losses[ep][k]) for k in loss_keys}\n",
    "    for k in loss_keys:\n",
    "        loss = losses[str(ep) + \"_mean\"][k]\n",
    "        sys.stderr.write(\"\\n Epoch %i: Final %s Loss = %6.3f   After coefficient: %6.3f\\n\" % (ep, k, loss, loss*loss_to_coeff_map[k]))\n",
    "        sys.stderr.flush()\n",
    "    return losses\n",
    "\n",
    "def write_iteration_losses(losses, solver,loss_keys,ep,it, loss_to_coeff_map):\n",
    "    for k in loss_keys:\n",
    "        loss = np.float32(solver.net.blobs[k].data)\n",
    "        \n",
    "        losses[ep][k].append(loss)\n",
    "        sys.stderr.write(\"\\n Loss at iteration %i for %s is %8.4f    After coefficent %8.4f \" % (it,k,loss,loss*loss_to_coeff_map[k]))\n",
    "        sys.stderr.flush()\n",
    "    return losses"
   ]
  },
  {
   "cell_type": "code",
   "execution_count": 9,
   "metadata": {
    "collapsed": false,
    "deletable": true,
    "editable": true
   },
   "outputs": [
    {
     "ename": "KeyboardInterrupt",
     "evalue": "",
     "output_type": "error",
     "traceback": [
      "\u001b[0;31m---------------------------------------------------------------------------\u001b[0m",
      "\u001b[0;31mKeyboardInterrupt\u001b[0m                         Traceback (most recent call last)",
      "\u001b[0;32m<ipython-input-9-d4ce82089b3c>\u001b[0m in \u001b[0;36m<module>\u001b[0;34m()\u001b[0m\n\u001b[1;32m     12\u001b[0m     \u001b[0;32mif\u001b[0m \u001b[0mcl_args\u001b[0m\u001b[0;34m[\u001b[0m\u001b[0;34m\"solver_state_path\"\u001b[0m\u001b[0;34m]\u001b[0m\u001b[0;34m:\u001b[0m\u001b[0;34m\u001b[0m\u001b[0m\n\u001b[1;32m     13\u001b[0m         \u001b[0msolver\u001b[0m\u001b[0;34m.\u001b[0m\u001b[0mrestore\u001b[0m\u001b[0;34m(\u001b[0m\u001b[0mcl_args\u001b[0m\u001b[0;34m[\u001b[0m\u001b[0;34m\"solver_state_path\"\u001b[0m\u001b[0;34m]\u001b[0m\u001b[0;34m)\u001b[0m\u001b[0;34m\u001b[0m\u001b[0m\n\u001b[0;32m---> 14\u001b[0;31m     \u001b[0mdo_train\u001b[0m\u001b[0;34m(\u001b[0m\u001b[0msolver\u001b[0m\u001b[0;34m,\u001b[0m \u001b[0mcl_args\u001b[0m\u001b[0;34m,\u001b[0m \u001b[0mits_per_epoch\u001b[0m\u001b[0;34m)\u001b[0m\u001b[0;34m\u001b[0m\u001b[0m\n\u001b[0m\u001b[1;32m     15\u001b[0m \u001b[0;34m\u001b[0m\u001b[0m\n\u001b[1;32m     16\u001b[0m \u001b[0;34m\u001b[0m\u001b[0m\n",
      "\u001b[0;32m<ipython-input-7-10d5cebade4c>\u001b[0m in \u001b[0;36mdo_train\u001b[0;34m(solver, cl_args, its_per_epoch)\u001b[0m\n\u001b[1;32m      5\u001b[0m     \u001b[0maccuracies_loose\u001b[0m \u001b[0;34m=\u001b[0m \u001b[0;34m[\u001b[0m\u001b[0;34m]\u001b[0m\u001b[0;34m\u001b[0m\u001b[0m\n\u001b[1;32m      6\u001b[0m     \u001b[0;32mfor\u001b[0m \u001b[0mep\u001b[0m \u001b[0;32min\u001b[0m \u001b[0mrange\u001b[0m\u001b[0;34m(\u001b[0m\u001b[0mnum_epochs\u001b[0m\u001b[0;34m)\u001b[0m\u001b[0;34m:\u001b[0m\u001b[0;34m\u001b[0m\u001b[0m\n\u001b[0;32m----> 7\u001b[0;31m         \u001b[0mlosses\u001b[0m \u001b[0;34m=\u001b[0m \u001b[0mget_one_epoch_loss\u001b[0m\u001b[0;34m(\u001b[0m\u001b[0mep\u001b[0m\u001b[0;34m,\u001b[0m \u001b[0mlosses\u001b[0m\u001b[0;34m,\u001b[0m \u001b[0mits_per_epoch\u001b[0m\u001b[0;34m,\u001b[0m \u001b[0msolver\u001b[0m\u001b[0;34m)\u001b[0m\u001b[0;34m\u001b[0m\u001b[0m\n\u001b[0m\u001b[1;32m      8\u001b[0m         \u001b[0mep_losses\u001b[0m \u001b[0;34m=\u001b[0m \u001b[0;34m[\u001b[0m\u001b[0mlosses\u001b[0m\u001b[0;34m[\u001b[0m\u001b[0mstr\u001b[0m\u001b[0;34m(\u001b[0m\u001b[0mepoch\u001b[0m\u001b[0;34m)\u001b[0m \u001b[0;34m+\u001b[0m \u001b[0;34m\"_mean\"\u001b[0m\u001b[0;34m]\u001b[0m\u001b[0;34m[\u001b[0m\u001b[0;34m\"final_loss\"\u001b[0m\u001b[0;34m]\u001b[0m \u001b[0;32mfor\u001b[0m \u001b[0mepoch\u001b[0m \u001b[0;32min\u001b[0m \u001b[0mrange\u001b[0m\u001b[0;34m(\u001b[0m\u001b[0mep\u001b[0m \u001b[0;34m+\u001b[0m \u001b[0;36m1\u001b[0m\u001b[0;34m)\u001b[0m\u001b[0;34m]\u001b[0m\u001b[0;34m\u001b[0m\u001b[0m\n\u001b[1;32m      9\u001b[0m         \u001b[0msave_plot\u001b[0m\u001b[0;34m(\u001b[0m\u001b[0mep_losses\u001b[0m\u001b[0;34m,\u001b[0m\u001b[0mcl_args\u001b[0m\u001b[0;34m,\u001b[0m \u001b[0mtyp\u001b[0m\u001b[0;34m=\u001b[0m\u001b[0;34m\"loss\"\u001b[0m\u001b[0;34m)\u001b[0m\u001b[0;34m\u001b[0m\u001b[0m\n",
      "\u001b[0;32m<ipython-input-7-10d5cebade4c>\u001b[0m in \u001b[0;36mget_one_epoch_loss\u001b[0;34m(ep, losses, num_its, solver)\u001b[0m\n\u001b[1;32m     40\u001b[0m \u001b[0;34m\u001b[0m\u001b[0m\n\u001b[1;32m     41\u001b[0m     \u001b[0;32mfor\u001b[0m \u001b[0mit\u001b[0m \u001b[0;32min\u001b[0m \u001b[0mrange\u001b[0m\u001b[0;34m(\u001b[0m\u001b[0mnum_its\u001b[0m\u001b[0;34m)\u001b[0m\u001b[0;34m:\u001b[0m\u001b[0;34m\u001b[0m\u001b[0m\n\u001b[0;32m---> 42\u001b[0;31m         \u001b[0msolver\u001b[0m\u001b[0;34m.\u001b[0m\u001b[0mstep\u001b[0m\u001b[0;34m(\u001b[0m\u001b[0;36m1\u001b[0m\u001b[0;34m)\u001b[0m\u001b[0;34m\u001b[0m\u001b[0m\n\u001b[0m\u001b[1;32m     43\u001b[0m \u001b[0;34m\u001b[0m\u001b[0m\n\u001b[1;32m     44\u001b[0m         \u001b[0mlosses\u001b[0m \u001b[0;34m=\u001b[0m \u001b[0mwrite_iteration_losses\u001b[0m\u001b[0;34m(\u001b[0m\u001b[0mlosses\u001b[0m\u001b[0;34m,\u001b[0m \u001b[0msolver\u001b[0m\u001b[0;34m,\u001b[0m\u001b[0mloss_keys\u001b[0m\u001b[0;34m,\u001b[0m\u001b[0mep\u001b[0m\u001b[0;34m,\u001b[0m\u001b[0mit\u001b[0m\u001b[0;34m,\u001b[0m \u001b[0mloss_to_coeff_map\u001b[0m\u001b[0;34m)\u001b[0m\u001b[0;34m\u001b[0m\u001b[0m\n",
      "\u001b[0;31mKeyboardInterrupt\u001b[0m: "
     ]
    }
   ],
   "source": [
    "if __name__ == \"__main__\":\n",
    "    os.environ[\"HDF5_DISABLE_VERSION_CHECK\"] = \"1\"\n",
    "    base_path = \"/project/projectdirs/dasrepo/gordon_bell/deep_learning/networks/climate/2d_semi_sup/\"\n",
    "    \n",
    "    cl_args = {\"solver_path\": join(base_path,\"base_prototxt_files/solver_vanilla.prototxt\"),\"save_dir\":join(base_path,\"pycaffe_code\", \"plots\"),\n",
    "                                   \"iou_thresh\": 0.1, \"num_epochs\": 300, \"solver_state_path\": \"/project/projectdirs/dasrepo/gordon_bell/deep_learning/networks/climate/2d_semi_sup/models/vanilla__iter_1000.solverstate\"}\n",
    "    \n",
    "    its_per_epoch = 10\n",
    "    \n",
    "    cl_args = get_cla(cl_args)\n",
    "    solver = caffe.SGDSolver(cl_args[\"solver_path\"])\n",
    "    if cl_args[\"solver_state_path\"]:\n",
    "        solver.restore(cl_args[\"solver_state_path\"])\n",
    "    do_train(solver, cl_args, its_per_epoch)\n",
    "    \n",
    "    "
   ]
  },
  {
   "cell_type": "code",
   "execution_count": 3,
   "metadata": {
    "collapsed": false,
    "deletable": true,
    "editable": true
   },
   "outputs": [
    {
     "name": "stdout",
     "output_type": "stream",
     "text": [
      "[NbConvertApp] Converting notebook train.ipynb to script\n",
      "[NbConvertApp] Writing 4039 bytes to train.py\n"
     ]
    }
   ],
   "source": [
    "#! jupyter nbconvert --to script train.ipynb"
   ]
  },
  {
   "cell_type": "code",
   "execution_count": null,
   "metadata": {
    "collapsed": true,
    "deletable": true,
    "editable": true
   },
   "outputs": [],
   "source": []
  }
 ],
 "metadata": {
  "anaconda-cloud": {},
  "kernelspec": {
   "display_name": "Python 2",
   "language": "python",
   "name": "python2"
  },
  "language_info": {
   "codemirror_mode": {
    "name": "ipython",
    "version": 2
   },
   "file_extension": ".py",
   "mimetype": "text/x-python",
   "name": "python",
   "nbconvert_exporter": "python",
   "pygments_lexer": "ipython2",
   "version": "2.7.13"
  }
 },
 "nbformat": 4,
 "nbformat_minor": 1
}
